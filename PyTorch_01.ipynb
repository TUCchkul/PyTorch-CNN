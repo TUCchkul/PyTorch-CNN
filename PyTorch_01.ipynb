{
  "nbformat": 4,
  "nbformat_minor": 0,
  "metadata": {
    "colab": {
      "name": "PyTorch_01.ipynb",
      "provenance": [],
      "collapsed_sections": [],
      "mount_file_id": "1e24I8eL_xpQjv4hy68D2a2k1elc9RSez",
      "authorship_tag": "ABX9TyOx5M+W3BYma4hNhEBxPNJ7",
      "include_colab_link": true
    },
    "kernelspec": {
      "name": "python3",
      "display_name": "Python 3"
    },
    "language_info": {
      "name": "python"
    },
    "accelerator": "GPU",
    "gpuClass": "standard"
  },
  "cells": [
    {
      "cell_type": "markdown",
      "metadata": {
        "id": "view-in-github",
        "colab_type": "text"
      },
      "source": [
        "<a href=\"https://colab.research.google.com/github/TUCchkul/PyTorch-CNN/blob/main/PyTorch_01.ipynb\" target=\"_parent\"><img src=\"https://colab.research.google.com/assets/colab-badge.svg\" alt=\"Open In Colab\"/></a>"
      ]
    },
    {
      "cell_type": "code",
      "execution_count": 1,
      "metadata": {
        "id": "9ldRwrq75P8O"
      },
      "outputs": [],
      "source": [
        "import os\n",
        "import numpy as np\n",
        "import pandas as pd\n",
        "import matplotlib.pyplot as plt\n",
        "import seaborn as sns\n",
        "import torch\n",
        "import torch.nn as nn\n",
        "from torch.utils.data import DataLoader\n",
        "from torchvision import transforms, datasets\n",
        "import torch.nn.functional as F\n",
        "from sklearn.metrics import confusion_matrix\n",
        "from tqdm import tqdm"
      ]
    },
    {
      "cell_type": "code",
      "source": [
        "%cd /content/drive/MyDrive/Pytorch"
      ],
      "metadata": {
        "colab": {
          "base_uri": "https://localhost:8080/"
        },
        "id": "DA3I-kicyewK",
        "outputId": "0a0b427f-1fed-42d0-8f82-e4d0e8ff0224"
      },
      "execution_count": 2,
      "outputs": [
        {
          "output_type": "stream",
          "name": "stdout",
          "text": [
            "/content/drive/MyDrive/Pytorch\n"
          ]
        }
      ]
    },
    {
      "cell_type": "code",
      "source": [
        "!pwd"
      ],
      "metadata": {
        "colab": {
          "base_uri": "https://localhost:8080/"
        },
        "id": "vJVnIvkDykGs",
        "outputId": "6df2f2ec-3e96-4c45-84b0-ee5447374857"
      },
      "execution_count": 3,
      "outputs": [
        {
          "output_type": "stream",
          "name": "stdout",
          "text": [
            "/content/drive/MyDrive/Pytorch\n"
          ]
        }
      ]
    },
    {
      "cell_type": "code",
      "source": [
        "class Config:\n",
        "  def __init__(self):\n",
        "    self.ROOT_DATA_DIR=\"FashionMNIST\"\n",
        "    self.EPOCH=10\n",
        "    self.LEARNING_RATE=0.01\n",
        "    self.BATCH_SIZE=32\n",
        "    self.IMAGE_SIZE=(28,28)\n",
        "    self.DEVICE=\"cuda\" if torch.cuda.is_available() else \"CPU\"\n",
        "    print(f\"THis notebook is using the device: {self.DEVICE}\")\n",
        "    self.SEED=2022\n",
        "config=Config()\n",
        "\n"
      ],
      "metadata": {
        "colab": {
          "base_uri": "https://localhost:8080/"
        },
        "id": "7lD05PXDykJt",
        "outputId": "60844669-ff70-49dd-b7a1-a59321b25406"
      },
      "execution_count": 4,
      "outputs": [
        {
          "output_type": "stream",
          "name": "stdout",
          "text": [
            "THis notebook is using the device: cuda\n"
          ]
        }
      ]
    },
    {
      "cell_type": "code",
      "source": [
        "# Download the data\n",
        "train_data=datasets.FashionMNIST(\n",
        "    root=config.ROOT_DATA_DIR,\n",
        "    train=True,\n",
        "    download=True,\n",
        "    transform=transforms.ToTensor()\n",
        ")\n",
        "test_data=datasets.FashionMNIST(\n",
        "    root=config.ROOT_DATA_DIR,\n",
        "    train=False,\n",
        "    download=True, \n",
        "    transform=transforms.ToTensor()\n",
        ")"
      ],
      "metadata": {
        "id": "k6WE6Z01z08S"
      },
      "execution_count": 5,
      "outputs": []
    },
    {
      "cell_type": "code",
      "source": [
        "train_data.data.shape"
      ],
      "metadata": {
        "colab": {
          "base_uri": "https://localhost:8080/"
        },
        "id": "rWKpnD4_z0-Z",
        "outputId": "3883f43c-50b3-49e8-a99f-27d372cf85ad"
      },
      "execution_count": 6,
      "outputs": [
        {
          "output_type": "execute_result",
          "data": {
            "text/plain": [
              "torch.Size([60000, 28, 28])"
            ]
          },
          "metadata": {},
          "execution_count": 6
        }
      ]
    },
    {
      "cell_type": "code",
      "source": [
        "test_data.data.shape"
      ],
      "metadata": {
        "colab": {
          "base_uri": "https://localhost:8080/"
        },
        "id": "z5p9FTBdz1B0",
        "outputId": "ba5fbf43-592e-4452-e935-3d763651e25b"
      },
      "execution_count": 7,
      "outputs": [
        {
          "output_type": "execute_result",
          "data": {
            "text/plain": [
              "torch.Size([10000, 28, 28])"
            ]
          },
          "metadata": {},
          "execution_count": 7
        }
      ]
    },
    {
      "cell_type": "code",
      "source": [
        "train_data.class_to_idx"
      ],
      "metadata": {
        "colab": {
          "base_uri": "https://localhost:8080/"
        },
        "id": "gk--IUA-z1ED",
        "outputId": "a3029564-8f5c-4f28-825c-7b8140f1d23f"
      },
      "execution_count": 8,
      "outputs": [
        {
          "output_type": "execute_result",
          "data": {
            "text/plain": [
              "{'Ankle boot': 9,\n",
              " 'Bag': 8,\n",
              " 'Coat': 4,\n",
              " 'Dress': 3,\n",
              " 'Pullover': 2,\n",
              " 'Sandal': 5,\n",
              " 'Shirt': 6,\n",
              " 'Sneaker': 7,\n",
              " 'T-shirt/top': 0,\n",
              " 'Trouser': 1}"
            ]
          },
          "metadata": {},
          "execution_count": 8
        }
      ]
    },
    {
      "cell_type": "code",
      "source": [
        "train_data.targets"
      ],
      "metadata": {
        "colab": {
          "base_uri": "https://localhost:8080/"
        },
        "id": "H6Op06QQz1G3",
        "outputId": "5ee0ed60-6153-4f59-95f1-046faadc3b47"
      },
      "execution_count": 9,
      "outputs": [
        {
          "output_type": "execute_result",
          "data": {
            "text/plain": [
              "tensor([9, 0, 0,  ..., 3, 0, 5])"
            ]
          },
          "metadata": {},
          "execution_count": 9
        }
      ]
    },
    {
      "cell_type": "code",
      "source": [
        "given_label_data=train_data.class_to_idx\n",
        "given_label_data"
      ],
      "metadata": {
        "colab": {
          "base_uri": "https://localhost:8080/"
        },
        "id": "E1E9lkoEz1JL",
        "outputId": "132abd70-6e78-45d4-9469-bc29a10f5bf5"
      },
      "execution_count": 10,
      "outputs": [
        {
          "output_type": "execute_result",
          "data": {
            "text/plain": [
              "{'Ankle boot': 9,\n",
              " 'Bag': 8,\n",
              " 'Coat': 4,\n",
              " 'Dress': 3,\n",
              " 'Pullover': 2,\n",
              " 'Sandal': 5,\n",
              " 'Shirt': 6,\n",
              " 'Sneaker': 7,\n",
              " 'T-shirt/top': 0,\n",
              " 'Trouser': 1}"
            ]
          },
          "metadata": {},
          "execution_count": 10
        }
      ]
    },
    {
      "cell_type": "code",
      "source": [
        ""
      ],
      "metadata": {
        "id": "c6-9ofrD3qxg"
      },
      "execution_count": 10,
      "outputs": []
    },
    {
      "cell_type": "code",
      "source": [
        "label_map={val:key for key, val in given_label_data.items()}\n",
        "label_map"
      ],
      "metadata": {
        "colab": {
          "base_uri": "https://localhost:8080/"
        },
        "id": "y07-i4doz1NL",
        "outputId": "c96069c1-660c-4664-d209-ea2bba106094"
      },
      "execution_count": 11,
      "outputs": [
        {
          "output_type": "execute_result",
          "data": {
            "text/plain": [
              "{0: 'T-shirt/top',\n",
              " 1: 'Trouser',\n",
              " 2: 'Pullover',\n",
              " 3: 'Dress',\n",
              " 4: 'Coat',\n",
              " 5: 'Sandal',\n",
              " 6: 'Shirt',\n",
              " 7: 'Sneaker',\n",
              " 8: 'Bag',\n",
              " 9: 'Ankle boot'}"
            ]
          },
          "metadata": {},
          "execution_count": 11
        }
      ]
    },
    {
      "cell_type": "code",
      "source": [
        "train_data.data[2].shape"
      ],
      "metadata": {
        "colab": {
          "base_uri": "https://localhost:8080/"
        },
        "id": "eTVcqit_3ZU1",
        "outputId": "f5c8f3db-13f5-4d7f-b3dc-e274d960bba5"
      },
      "execution_count": 12,
      "outputs": [
        {
          "output_type": "execute_result",
          "data": {
            "text/plain": [
              "torch.Size([28, 28])"
            ]
          },
          "metadata": {},
          "execution_count": 12
        }
      ]
    },
    {
      "cell_type": "code",
      "source": [
        "label_map.items()"
      ],
      "metadata": {
        "colab": {
          "base_uri": "https://localhost:8080/"
        },
        "id": "d7k0IABb3rbv",
        "outputId": "81633fa8-ce0d-40f7-93e6-f327c446f0d7"
      },
      "execution_count": 13,
      "outputs": [
        {
          "output_type": "execute_result",
          "data": {
            "text/plain": [
              "dict_items([(0, 'T-shirt/top'), (1, 'Trouser'), (2, 'Pullover'), (3, 'Dress'), (4, 'Coat'), (5, 'Sandal'), (6, 'Shirt'), (7, 'Sneaker'), (8, 'Bag'), (9, 'Ankle boot')])"
            ]
          },
          "metadata": {},
          "execution_count": 13
        }
      ]
    },
    {
      "cell_type": "code",
      "source": [
        "label_map[0]"
      ],
      "metadata": {
        "colab": {
          "base_uri": "https://localhost:8080/",
          "height": 36
        },
        "id": "jan4JpIi7fmO",
        "outputId": "66e9003a-36bd-4be7-d592-5bc3122f2002"
      },
      "execution_count": 14,
      "outputs": [
        {
          "output_type": "execute_result",
          "data": {
            "text/plain": [
              "'T-shirt/top'"
            ],
            "application/vnd.google.colaboratory.intrinsic+json": {
              "type": "string"
            }
          },
          "metadata": {},
          "execution_count": 14
        }
      ]
    },
    {
      "cell_type": "code",
      "source": [
        "train_data.targets"
      ],
      "metadata": {
        "colab": {
          "base_uri": "https://localhost:8080/"
        },
        "id": "fnVnpiGx4IGP",
        "outputId": "d50a1f8b-9fad-47f4-d015-22901a65c2de"
      },
      "execution_count": 15,
      "outputs": [
        {
          "output_type": "execute_result",
          "data": {
            "text/plain": [
              "tensor([9, 0, 0,  ..., 3, 0, 5])"
            ]
          },
          "metadata": {},
          "execution_count": 15
        }
      ]
    },
    {
      "cell_type": "code",
      "source": [
        "train_data.targets[0]"
      ],
      "metadata": {
        "colab": {
          "base_uri": "https://localhost:8080/"
        },
        "id": "UeIuwnWn5auT",
        "outputId": "b76b9e72-2673-4ff8-aea9-5927543667b1"
      },
      "execution_count": 16,
      "outputs": [
        {
          "output_type": "execute_result",
          "data": {
            "text/plain": [
              "tensor(9)"
            ]
          },
          "metadata": {},
          "execution_count": 16
        }
      ]
    },
    {
      "cell_type": "code",
      "source": [
        "train_data.targets[0].item()"
      ],
      "metadata": {
        "colab": {
          "base_uri": "https://localhost:8080/"
        },
        "id": "PLT635DL4MiR",
        "outputId": "ded2b980-c535-462f-87f1-59f3bf1197cf"
      },
      "execution_count": 17,
      "outputs": [
        {
          "output_type": "execute_result",
          "data": {
            "text/plain": [
              "9"
            ]
          },
          "metadata": {},
          "execution_count": 17
        }
      ]
    },
    {
      "cell_type": "code",
      "source": [
        "def view_sample_img(data, idx, label_map):\n",
        "\n",
        "  plt.imshow(data.data[idx], cmap=\"gray\")\n",
        "  plt.title(f\"data_label: {label_map[data.targets[idx].item()]}\")\n",
        "  plt.axis(\"off\")\n",
        "view_sample_img(train_data,2, label_map)"
      ],
      "metadata": {
        "colab": {
          "base_uri": "https://localhost:8080/",
          "height": 264
        },
        "id": "pDgznwGXz1QL",
        "outputId": "15d1909d-ebd9-4f90-e315-3c7788f6b325"
      },
      "execution_count": 18,
      "outputs": [
        {
          "output_type": "display_data",
          "data": {
            "text/plain": [
              "<Figure size 432x288 with 1 Axes>"
            ],
            "image/png": "[encoded data removed]"
          },
          "metadata": {
            "needs_background": "light"
          }
        }
      ]
    },
    {
      "cell_type": "code",
      "source": [
        "# Create DataLoader\n",
        "train_data_loader=DataLoader(\n",
        "    dataset=train_data,\n",
        "    batch_size=config.BATCH_SIZE,\n",
        "    shuffle=True\n",
        ")\n",
        "test_data_loader=DataLoader(\n",
        "    dataset=test_data,\n",
        "    batch_size=config.BATCH_SIZE,\n",
        "    shuffle=False\n",
        ")"
      ],
      "metadata": {
        "id": "YNljeP7I5qeK"
      },
      "execution_count": 19,
      "outputs": []
    },
    {
      "cell_type": "code",
      "source": [
        "for images, labels in train_data_loader:\n",
        "  print(images.shape)\n",
        "  print(labels.shape)\n",
        "  break\n"
      ],
      "metadata": {
        "colab": {
          "base_uri": "https://localhost:8080/"
        },
        "id": "RKkAYyNc5qhM",
        "outputId": "a9a7692f-e829-47b6-f422-592a49da665f"
      },
      "execution_count": 20,
      "outputs": [
        {
          "output_type": "stream",
          "name": "stdout",
          "text": [
            "torch.Size([32, 1, 28, 28])\n",
            "torch.Size([32])\n"
          ]
        }
      ]
    },
    {
      "cell_type": "code",
      "source": [
        "images[0]"
      ],
      "metadata": {
        "colab": {
          "base_uri": "https://localhost:8080/"
        },
        "id": "7j8Po4P_5qkF",
        "outputId": "2c0e7d31-8bea-4106-8827-2b0f724ec5c5"
      },
      "execution_count": 21,
      "outputs": [
        {
          "output_type": "execute_result",
          "data": {
            "text/plain": [
              "tensor([[[0.0000, 0.0000, 0.0000, 0.0000, 0.0000, 0.0000, 0.0000, 0.0000,\n",
              "          0.0000, 0.0000, 0.0000, 0.5020, 0.6902, 0.6902, 0.7216, 0.8000,\n",
              "          0.5843, 0.0000, 0.0000, 0.0000, 0.0000, 0.0000, 0.0000, 0.0000,\n",
              "          0.0000, 0.0000, 0.0000, 0.0000],\n",
              "         [0.0000, 0.0000, 0.0000, 0.0000, 0.0000, 0.0000, 0.0078, 0.0235,\n",
              "          0.0000, 0.0000, 0.4667, 1.0000, 0.9765, 0.9608, 0.9686, 0.9608,\n",
              "          1.0000, 0.7373, 0.0000, 0.0000, 0.0353, 0.0157, 0.0000, 0.0000,\n",
              "          0.0000, 0.0000, 0.0000, 0.0000],\n",
              "         [0.0000, 0.0000, 0.0000, 0.0000, 0.0000, 0.0118, 0.0000, 0.0000,\n",
              "          0.0000, 0.0000, 0.9137, 0.9059, 0.9490, 0.9765, 0.9686, 0.9647,\n",
              "          0.9216, 0.9490, 0.4392, 0.0000, 0.0000, 0.0000, 0.0078, 0.0000,\n",
              "          0.0000, 0.0000, 0.0000, 0.0000],\n",
              "         [0.0000, 0.0000, 0.0000, 0.0000, 0.0078, 0.0000, 0.0000, 0.4392,\n",
              "          0.7882, 0.8863, 0.9412, 0.9020, 0.9216, 0.9294, 0.9412, 0.9412,\n",
              "          0.9216, 0.9176, 0.9843, 0.7804, 0.2706, 0.0000, 0.0000, 0.0078,\n",
              "          0.0000, 0.0000, 0.0000, 0.0000],\n",
              "         [0.0000, 0.0000, 0.0000, 0.0039, 0.0000, 0.0000, 0.7373, 1.0000,\n",
              "          0.9686, 0.9451, 0.9216, 0.9176, 0.8941, 0.8549, 0.7882, 0.9020,\n",
              "          0.9137, 0.9529, 0.9333, 0.9569, 0.9961, 0.6392, 0.0000, 0.0000,\n",
              "          0.0078, 0.0000, 0.0000, 0.0000],\n",
              "         [0.0000, 0.0000, 0.0000, 0.0078, 0.0000, 0.5647, 1.0000, 0.9020,\n",
              "          0.9137, 0.9216, 0.9529, 0.9451, 0.9490, 0.9608, 0.9255, 0.9490,\n",
              "          0.9725, 0.8431, 0.9020, 0.9216, 0.8863, 1.0000, 0.4941, 0.0000,\n",
              "          0.0235, 0.0000, 0.0000, 0.0000],\n",
              "         [0.0000, 0.0000, 0.0000, 0.0000, 0.0000, 0.8706, 0.9373, 0.9255,\n",
              "          0.9255, 0.9216, 0.9098, 0.9373, 0.9373, 0.9137, 0.9176, 0.8902,\n",
              "          1.0000, 0.6314, 0.7686, 0.9451, 0.9137, 0.9451, 0.8039, 0.0000,\n",
              "          0.0000, 0.0000, 0.0000, 0.0000],\n",
              "         [0.0000, 0.0000, 0.0000, 0.0000, 0.1882, 0.9686, 0.9176, 0.9294,\n",
              "          0.9255, 0.9294, 0.9059, 0.9137, 0.9333, 0.9176, 0.9176, 0.9137,\n",
              "          0.9725, 0.8000, 0.8784, 0.9412, 0.9216, 0.9098, 0.9412, 0.1059,\n",
              "          0.0000, 0.0000, 0.0000, 0.0000],\n",
              "         [0.0000, 0.0000, 0.0000, 0.0000, 0.4235, 0.9882, 0.9176, 0.9294,\n",
              "          0.9255, 0.9294, 0.9255, 0.9216, 0.9294, 0.9255, 0.9098, 0.9059,\n",
              "          0.9647, 0.7490, 0.9020, 0.9333, 0.9255, 0.8980, 0.9804, 0.3686,\n",
              "          0.0000, 0.0000, 0.0000, 0.0000],\n",
              "         [0.0000, 0.0000, 0.0000, 0.0000, 0.5529, 0.9961, 0.9098, 0.9255,\n",
              "          0.9216, 0.9176, 0.9216, 0.9216, 0.9216, 0.9137, 0.9098, 0.9098,\n",
              "          0.9608, 0.7294, 0.9137, 0.9216, 0.9216, 0.9020, 0.9843, 0.5059,\n",
              "          0.0000, 0.0000, 0.0000, 0.0000],\n",
              "         [0.0000, 0.0000, 0.0000, 0.0000, 0.7725, 0.9843, 0.9098, 0.9216,\n",
              "          0.9137, 0.9137, 0.9176, 0.9176, 0.9176, 0.9176, 0.9137, 0.9098,\n",
              "          0.9490, 0.7216, 0.9451, 0.9098, 0.9020, 0.9020, 0.9922, 0.6157,\n",
              "          0.0000, 0.0000, 0.0000, 0.0000],\n",
              "         [0.0000, 0.0000, 0.0000, 0.0000, 0.8824, 0.9608, 0.9216, 0.9216,\n",
              "          0.9176, 0.9176, 0.9255, 0.9255, 0.9255, 0.9137, 0.9176, 0.9176,\n",
              "          0.9373, 0.7216, 0.9725, 0.9098, 0.9059, 0.9255, 0.9647, 0.8353,\n",
              "          0.0000, 0.0000, 0.0000, 0.0000],\n",
              "         [0.0000, 0.0000, 0.0000, 0.0000, 0.8510, 0.9412, 0.9333, 0.9137,\n",
              "          0.9294, 0.9333, 0.9216, 0.9216, 0.9255, 0.9176, 0.9255, 0.9373,\n",
              "          0.9059, 0.7765, 0.9725, 0.8980, 0.9216, 0.9412, 0.9451, 0.8706,\n",
              "          0.0000, 0.0000, 0.0000, 0.0000],\n",
              "         [0.0000, 0.0000, 0.0000, 0.0000, 0.9137, 0.9294, 0.9490, 0.9333,\n",
              "          0.9412, 0.9333, 0.9176, 0.9216, 0.9216, 0.9255, 0.9137, 0.9490,\n",
              "          0.8941, 0.8118, 0.9647, 0.9137, 0.9412, 0.9451, 0.9216, 0.9412,\n",
              "          0.0000, 0.0000, 0.0000, 0.0000],\n",
              "         [0.0000, 0.0000, 0.0000, 0.1255, 0.9529, 0.9216, 0.9490, 0.9373,\n",
              "          0.9686, 0.9333, 0.9216, 0.9216, 0.9216, 0.9255, 0.9137, 0.9608,\n",
              "          0.8392, 0.8118, 0.9686, 0.9373, 0.9647, 0.9529, 0.9176, 0.9647,\n",
              "          0.1647, 0.0000, 0.0000, 0.0000],\n",
              "         [0.0000, 0.0000, 0.0000, 0.3098, 0.9608, 0.9176, 0.9412, 0.9686,\n",
              "          0.8549, 0.9137, 0.9255, 0.9216, 0.9216, 0.9255, 0.9137, 0.9686,\n",
              "          0.8039, 0.8196, 1.0000, 0.6627, 0.8745, 0.9922, 0.9137, 0.9843,\n",
              "          0.2706, 0.0000, 0.0000, 0.0000],\n",
              "         [0.0000, 0.0000, 0.0000, 0.4157, 0.9922, 0.9176, 0.9922, 0.9569,\n",
              "          0.5804, 0.9333, 0.9176, 0.9216, 0.9216, 0.9294, 0.9098, 0.9686,\n",
              "          0.8078, 0.8667, 1.0000, 0.7294, 0.7922, 1.0000, 0.9176, 0.9922,\n",
              "          0.3922, 0.0000, 0.0000, 0.0000],\n",
              "         [0.0000, 0.0000, 0.0000, 0.4314, 0.9843, 0.9216, 0.9765, 0.9490,\n",
              "          0.8235, 0.9529, 0.9137, 0.9216, 0.9255, 0.9216, 0.9137, 0.9686,\n",
              "          0.7765, 0.9176, 0.9569, 0.9216, 0.8314, 0.9843, 0.9255, 0.9843,\n",
              "          0.4353, 0.0000, 0.0000, 0.0000],\n",
              "         [0.0000, 0.0000, 0.0000, 0.5333, 1.0000, 0.9294, 0.9843, 0.9176,\n",
              "          0.8667, 0.9255, 0.9137, 0.9255, 0.9255, 0.9216, 0.9216, 0.9647,\n",
              "          0.7569, 0.9333, 0.9490, 0.9137, 0.8275, 0.9922, 0.9176, 1.0000,\n",
              "          0.4863, 0.0000, 0.0000, 0.0000],\n",
              "         [0.0000, 0.0000, 0.0000, 0.6235, 1.0000, 0.9373, 1.0000, 0.8510,\n",
              "          0.8902, 0.9412, 0.9216, 0.9137, 0.9216, 0.9333, 0.9255, 0.9490,\n",
              "          0.7804, 0.9412, 0.9255, 0.9333, 0.8471, 0.9725, 0.9294, 1.0000,\n",
              "          0.5529, 0.0000, 0.0000, 0.0000],\n",
              "         [0.0000, 0.0000, 0.0000, 0.6471, 1.0000, 0.9333, 0.9725, 0.8510,\n",
              "          0.9216, 0.9294, 0.9255, 0.9216, 0.9216, 0.9176, 0.9373, 0.9176,\n",
              "          0.7725, 0.9686, 0.8902, 0.9333, 0.8314, 0.9686, 0.9569, 1.0000,\n",
              "          0.6392, 0.0000, 0.0000, 0.0000],\n",
              "         [0.0000, 0.0000, 0.0000, 0.6588, 1.0000, 0.9333, 0.9294, 0.8745,\n",
              "          0.9373, 0.9216, 0.9451, 0.9294, 0.9333, 0.9529, 0.9725, 0.8941,\n",
              "          0.7922, 0.9765, 0.9294, 0.9529, 0.8784, 0.9882, 0.9529, 1.0000,\n",
              "          0.7176, 0.0000, 0.0000, 0.0000],\n",
              "         [0.0000, 0.0000, 0.0000, 0.6588, 1.0000, 0.9255, 0.9765, 0.9412,\n",
              "          0.9333, 0.9333, 0.9294, 0.9686, 0.9216, 0.8627, 0.9608, 0.9373,\n",
              "          0.8980, 0.9725, 0.9255, 0.9373, 0.9373, 0.9216, 0.9490, 0.9843,\n",
              "          0.7490, 0.0000, 0.0000, 0.0000],\n",
              "         [0.0000, 0.0000, 0.0000, 0.6392, 1.0000, 0.9373, 0.9490, 0.9216,\n",
              "          0.9098, 0.9176, 0.9137, 0.8980, 0.7843, 0.8824, 0.8980, 0.9098,\n",
              "          0.9020, 0.8784, 0.9020, 0.9020, 0.9098, 0.9059, 0.9373, 0.9569,\n",
              "          0.6745, 0.0000, 0.0000, 0.0000],\n",
              "         [0.0000, 0.0000, 0.0000, 0.6157, 0.9608, 0.9333, 0.9490, 0.9765,\n",
              "          1.0000, 0.9765, 0.9686, 0.9569, 0.7961, 0.9294, 1.0000, 0.9529,\n",
              "          0.9765, 0.9804, 0.9961, 0.9843, 0.9882, 0.9333, 0.9333, 0.9804,\n",
              "          0.5529, 0.0000, 0.0000, 0.0000],\n",
              "         [0.0000, 0.0000, 0.0000, 0.6941, 0.9569, 0.9333, 0.9176, 0.3490,\n",
              "          0.6039, 0.8980, 0.7882, 0.8353, 0.8392, 0.7569, 0.7137, 0.5882,\n",
              "          0.7647, 0.7608, 0.6314, 0.5882, 0.3451, 0.9333, 0.9333, 0.9765,\n",
              "          0.4392, 0.0000, 0.0000, 0.0000],\n",
              "         [0.0000, 0.0000, 0.0000, 0.8667, 0.9804, 0.9647, 1.0000, 0.0000,\n",
              "          0.0000, 0.0000, 0.0000, 0.0000, 0.0000, 0.0000, 0.0000, 0.0000,\n",
              "          0.0000, 0.0000, 0.0000, 0.0000, 0.0000, 0.9804, 0.9451, 1.0000,\n",
              "          0.4941, 0.0000, 0.0000, 0.0000],\n",
              "         [0.0000, 0.0000, 0.0000, 0.4706, 0.7608, 0.7569, 0.6824, 0.0000,\n",
              "          0.0000, 0.0000, 0.0000, 0.0000, 0.0000, 0.0000, 0.0000, 0.0000,\n",
              "          0.0000, 0.0000, 0.0078, 0.0000, 0.0000, 0.6863, 0.7451, 0.7765,\n",
              "          0.2510, 0.0000, 0.0000, 0.0000]]])"
            ]
          },
          "metadata": {},
          "execution_count": 21
        }
      ]
    },
    {
      "cell_type": "code",
      "source": [
        "images[0].shape"
      ],
      "metadata": {
        "colab": {
          "base_uri": "https://localhost:8080/"
        },
        "id": "Laqxqs6C5qq_",
        "outputId": "e976560d-881e-478a-8419-5142ce3fc94f"
      },
      "execution_count": 22,
      "outputs": [
        {
          "output_type": "execute_result",
          "data": {
            "text/plain": [
              "torch.Size([1, 28, 28])"
            ]
          },
          "metadata": {},
          "execution_count": 22
        }
      ]
    },
    {
      "cell_type": "code",
      "source": [
        "images[0].squeeze().shape"
      ],
      "metadata": {
        "colab": {
          "base_uri": "https://localhost:8080/"
        },
        "id": "sRxIVnja5qty",
        "outputId": "52200937-69f3-4161-812c-6412dd0f278d"
      },
      "execution_count": 23,
      "outputs": [
        {
          "output_type": "execute_result",
          "data": {
            "text/plain": [
              "torch.Size([28, 28])"
            ]
          },
          "metadata": {},
          "execution_count": 23
        }
      ]
    },
    {
      "cell_type": "code",
      "source": [
        "images[0].squeeze().shape, images[0].unsqueeze(dim=1).shape"
      ],
      "metadata": {
        "colab": {
          "base_uri": "https://localhost:8080/"
        },
        "id": "e0b-PS8H9a1T",
        "outputId": "60793d80-79b0-4944-964b-0eaae67074ce"
      },
      "execution_count": 24,
      "outputs": [
        {
          "output_type": "execute_result",
          "data": {
            "text/plain": [
              "(torch.Size([28, 28]), torch.Size([1, 1, 28, 28]))"
            ]
          },
          "metadata": {},
          "execution_count": 24
        }
      ]
    },
    {
      "cell_type": "code",
      "source": [
        "plt.imshow(images[0].squeeze(), cmap=\"gray\")"
      ],
      "metadata": {
        "colab": {
          "base_uri": "https://localhost:8080/",
          "height": 282
        },
        "id": "BH5GOkV59a3v",
        "outputId": "d7ac8d3e-2720-4e34-9278-168946cc9790"
      },
      "execution_count": 25,
      "outputs": [
        {
          "output_type": "execute_result",
          "data": {
            "text/plain": [
              "<matplotlib.image.AxesImage at 0x7f4e6aa7e750>"
            ]
          },
          "metadata": {},
          "execution_count": 25
        },
        {
          "output_type": "display_data",
          "data": {
            "text/plain": [
              "<Figure size 432x288 with 1 Axes>"
            ],
            "image/png": "[encoded data removed]"
          },
          "metadata": {
            "needs_background": "light"
          }
        }
      ]
    },
    {
      "cell_type": "code",
      "source": [
        "images[0].squeeze().numpy()"
      ],
      "metadata": {
        "colab": {
          "base_uri": "https://localhost:8080/"
        },
        "id": "J-wl6UaF9a5w",
        "outputId": "c364c8e0-e7f4-4aa8-a7cb-a13149052973"
      },
      "execution_count": 26,
      "outputs": [
        {
          "output_type": "execute_result",
          "data": {
            "text/plain": [
              "array([[0.        , 0.        , 0.        , 0.        , 0.        ,\n",
              "        0.        , 0.        , 0.        , 0.        , 0.        ,\n",
              "        0.        , 0.5019608 , 0.6901961 , 0.6901961 , 0.72156864,\n",
              "        0.8       , 0.58431375, 0.        , 0.        , 0.        ,\n",
              "        0.        , 0.        , 0.        , 0.        , 0.        ,\n",
              "        0.        , 0.        , 0.        ],\n",
              "       [0.        , 0.        , 0.        , 0.        , 0.        ,\n",
              "        0.        , 0.00784314, 0.02352941, 0.        , 0.        ,\n",
              "        0.46666667, 1.        , 0.9764706 , 0.9607843 , 0.96862745,\n",
              "        0.9607843 , 1.        , 0.7372549 , 0.        , 0.        ,\n",
              "        0.03529412, 0.01568628, 0.        , 0.        , 0.        ,\n",
              "        0.        , 0.        , 0.        ],\n",
              "       [0.        , 0.        , 0.        , 0.        , 0.        ,\n",
              "        0.01176471, 0.        , 0.        , 0.        , 0.        ,\n",
              "        0.9137255 , 0.90588236, 0.9490196 , 0.9764706 , 0.96862745,\n",
              "        0.9647059 , 0.92156863, 0.9490196 , 0.4392157 , 0.        ,\n",
              "        0.        , 0.        , 0.00784314, 0.        , 0.        ,\n",
              "        0.        , 0.        , 0.        ],\n",
              "       [0.        , 0.        , 0.        , 0.        , 0.00784314,\n",
              "        0.        , 0.        , 0.4392157 , 0.7882353 , 0.8862745 ,\n",
              "        0.9411765 , 0.9019608 , 0.92156863, 0.92941177, 0.9411765 ,\n",
              "        0.9411765 , 0.92156863, 0.91764706, 0.9843137 , 0.78039217,\n",
              "        0.27058825, 0.        , 0.        , 0.00784314, 0.        ,\n",
              "        0.        , 0.        , 0.        ],\n",
              "       [0.        , 0.        , 0.        , 0.00392157, 0.        ,\n",
              "        0.        , 0.7372549 , 1.        , 0.96862745, 0.94509804,\n",
              "        0.92156863, 0.91764706, 0.89411765, 0.85490197, 0.7882353 ,\n",
              "        0.9019608 , 0.9137255 , 0.9529412 , 0.93333334, 0.95686275,\n",
              "        0.99607843, 0.6392157 , 0.        , 0.        , 0.00784314,\n",
              "        0.        , 0.        , 0.        ],\n",
              "       [0.        , 0.        , 0.        , 0.00784314, 0.        ,\n",
              "        0.5647059 , 1.        , 0.9019608 , 0.9137255 , 0.92156863,\n",
              "        0.9529412 , 0.94509804, 0.9490196 , 0.9607843 , 0.9254902 ,\n",
              "        0.9490196 , 0.972549  , 0.84313726, 0.9019608 , 0.92156863,\n",
              "        0.8862745 , 1.        , 0.49411765, 0.        , 0.02352941,\n",
              "        0.        , 0.        , 0.        ],\n",
              "       [0.        , 0.        , 0.        , 0.        , 0.        ,\n",
              "        0.87058824, 0.9372549 , 0.9254902 , 0.9254902 , 0.92156863,\n",
              "        0.9098039 , 0.9372549 , 0.9372549 , 0.9137255 , 0.91764706,\n",
              "        0.8901961 , 1.        , 0.6313726 , 0.76862746, 0.94509804,\n",
              "        0.9137255 , 0.94509804, 0.8039216 , 0.        , 0.        ,\n",
              "        0.        , 0.        , 0.        ],\n",
              "       [0.        , 0.        , 0.        , 0.        , 0.1882353 ,\n",
              "        0.96862745, 0.91764706, 0.92941177, 0.9254902 , 0.92941177,\n",
              "        0.90588236, 0.9137255 , 0.93333334, 0.91764706, 0.91764706,\n",
              "        0.9137255 , 0.972549  , 0.8       , 0.8784314 , 0.9411765 ,\n",
              "        0.92156863, 0.9098039 , 0.9411765 , 0.10588235, 0.        ,\n",
              "        0.        , 0.        , 0.        ],\n",
              "       [0.        , 0.        , 0.        , 0.        , 0.42352942,\n",
              "        0.9882353 , 0.91764706, 0.92941177, 0.9254902 , 0.92941177,\n",
              "        0.9254902 , 0.92156863, 0.92941177, 0.9254902 , 0.9098039 ,\n",
              "        0.90588236, 0.9647059 , 0.7490196 , 0.9019608 , 0.93333334,\n",
              "        0.9254902 , 0.8980392 , 0.98039216, 0.36862746, 0.        ,\n",
              "        0.        , 0.        , 0.        ],\n",
              "       [0.        , 0.        , 0.        , 0.        , 0.5529412 ,\n",
              "        0.99607843, 0.9098039 , 0.9254902 , 0.92156863, 0.91764706,\n",
              "        0.92156863, 0.92156863, 0.92156863, 0.9137255 , 0.9098039 ,\n",
              "        0.9098039 , 0.9607843 , 0.7294118 , 0.9137255 , 0.92156863,\n",
              "        0.92156863, 0.9019608 , 0.9843137 , 0.5058824 , 0.        ,\n",
              "        0.        , 0.        , 0.        ],\n",
              "       [0.        , 0.        , 0.        , 0.        , 0.77254903,\n",
              "        0.9843137 , 0.9098039 , 0.92156863, 0.9137255 , 0.9137255 ,\n",
              "        0.91764706, 0.91764706, 0.91764706, 0.91764706, 0.9137255 ,\n",
              "        0.9098039 , 0.9490196 , 0.72156864, 0.94509804, 0.9098039 ,\n",
              "        0.9019608 , 0.9019608 , 0.99215686, 0.6156863 , 0.        ,\n",
              "        0.        , 0.        , 0.        ],\n",
              "       [0.        , 0.        , 0.        , 0.        , 0.88235295,\n",
              "        0.9607843 , 0.92156863, 0.92156863, 0.91764706, 0.91764706,\n",
              "        0.9254902 , 0.9254902 , 0.9254902 , 0.9137255 , 0.91764706,\n",
              "        0.91764706, 0.9372549 , 0.72156864, 0.972549  , 0.9098039 ,\n",
              "        0.90588236, 0.9254902 , 0.9647059 , 0.8352941 , 0.        ,\n",
              "        0.        , 0.        , 0.        ],\n",
              "       [0.        , 0.        , 0.        , 0.        , 0.8509804 ,\n",
              "        0.9411765 , 0.93333334, 0.9137255 , 0.92941177, 0.93333334,\n",
              "        0.92156863, 0.92156863, 0.9254902 , 0.91764706, 0.9254902 ,\n",
              "        0.9372549 , 0.90588236, 0.7764706 , 0.972549  , 0.8980392 ,\n",
              "        0.92156863, 0.9411765 , 0.94509804, 0.87058824, 0.        ,\n",
              "        0.        , 0.        , 0.        ],\n",
              "       [0.        , 0.        , 0.        , 0.        , 0.9137255 ,\n",
              "        0.92941177, 0.9490196 , 0.93333334, 0.9411765 , 0.93333334,\n",
              "        0.91764706, 0.92156863, 0.92156863, 0.9254902 , 0.9137255 ,\n",
              "        0.9490196 , 0.89411765, 0.8117647 , 0.9647059 , 0.9137255 ,\n",
              "        0.9411765 , 0.94509804, 0.92156863, 0.9411765 , 0.        ,\n",
              "        0.        , 0.        , 0.        ],\n",
              "       [0.        , 0.        , 0.        , 0.1254902 , 0.9529412 ,\n",
              "        0.92156863, 0.9490196 , 0.9372549 , 0.96862745, 0.93333334,\n",
              "        0.92156863, 0.92156863, 0.92156863, 0.9254902 , 0.9137255 ,\n",
              "        0.9607843 , 0.8392157 , 0.8117647 , 0.96862745, 0.9372549 ,\n",
              "        0.9647059 , 0.9529412 , 0.91764706, 0.9647059 , 0.16470589,\n",
              "        0.        , 0.        , 0.        ],\n",
              "       [0.        , 0.        , 0.        , 0.30980393, 0.9607843 ,\n",
              "        0.91764706, 0.9411765 , 0.96862745, 0.85490197, 0.9137255 ,\n",
              "        0.9254902 , 0.92156863, 0.92156863, 0.9254902 , 0.9137255 ,\n",
              "        0.96862745, 0.8039216 , 0.81960785, 1.        , 0.6627451 ,\n",
              "        0.8745098 , 0.99215686, 0.9137255 , 0.9843137 , 0.27058825,\n",
              "        0.        , 0.        , 0.        ],\n",
              "       [0.        , 0.        , 0.        , 0.41568628, 0.99215686,\n",
              "        0.91764706, 0.99215686, 0.95686275, 0.5803922 , 0.93333334,\n",
              "        0.91764706, 0.92156863, 0.92156863, 0.92941177, 0.9098039 ,\n",
              "        0.96862745, 0.80784315, 0.8666667 , 1.        , 0.7294118 ,\n",
              "        0.7921569 , 1.        , 0.91764706, 0.99215686, 0.39215687,\n",
              "        0.        , 0.        , 0.        ],\n",
              "       [0.        , 0.        , 0.        , 0.43137255, 0.9843137 ,\n",
              "        0.92156863, 0.9764706 , 0.9490196 , 0.8235294 , 0.9529412 ,\n",
              "        0.9137255 , 0.92156863, 0.9254902 , 0.92156863, 0.9137255 ,\n",
              "        0.96862745, 0.7764706 , 0.91764706, 0.95686275, 0.92156863,\n",
              "        0.83137256, 0.9843137 , 0.9254902 , 0.9843137 , 0.43529412,\n",
              "        0.        , 0.        , 0.        ],\n",
              "       [0.        , 0.        , 0.        , 0.53333336, 1.        ,\n",
              "        0.92941177, 0.9843137 , 0.91764706, 0.8666667 , 0.9254902 ,\n",
              "        0.9137255 , 0.9254902 , 0.9254902 , 0.92156863, 0.92156863,\n",
              "        0.9647059 , 0.75686276, 0.93333334, 0.9490196 , 0.9137255 ,\n",
              "        0.827451  , 0.99215686, 0.91764706, 1.        , 0.4862745 ,\n",
              "        0.        , 0.        , 0.        ],\n",
              "       [0.        , 0.        , 0.        , 0.62352943, 1.        ,\n",
              "        0.9372549 , 1.        , 0.8509804 , 0.8901961 , 0.9411765 ,\n",
              "        0.92156863, 0.9137255 , 0.92156863, 0.93333334, 0.9254902 ,\n",
              "        0.9490196 , 0.78039217, 0.9411765 , 0.9254902 , 0.93333334,\n",
              "        0.84705883, 0.972549  , 0.92941177, 1.        , 0.5529412 ,\n",
              "        0.        , 0.        , 0.        ],\n",
              "       [0.        , 0.        , 0.        , 0.64705884, 1.        ,\n",
              "        0.93333334, 0.972549  , 0.8509804 , 0.92156863, 0.92941177,\n",
              "        0.9254902 , 0.92156863, 0.92156863, 0.91764706, 0.9372549 ,\n",
              "        0.91764706, 0.77254903, 0.96862745, 0.8901961 , 0.93333334,\n",
              "        0.83137256, 0.96862745, 0.95686275, 1.        , 0.6392157 ,\n",
              "        0.        , 0.        , 0.        ],\n",
              "       [0.        , 0.        , 0.        , 0.65882355, 1.        ,\n",
              "        0.93333334, 0.92941177, 0.8745098 , 0.9372549 , 0.92156863,\n",
              "        0.94509804, 0.92941177, 0.93333334, 0.9529412 , 0.972549  ,\n",
              "        0.89411765, 0.7921569 , 0.9764706 , 0.92941177, 0.9529412 ,\n",
              "        0.8784314 , 0.9882353 , 0.9529412 , 1.        , 0.7176471 ,\n",
              "        0.        , 0.        , 0.        ],\n",
              "       [0.        , 0.        , 0.        , 0.65882355, 1.        ,\n",
              "        0.9254902 , 0.9764706 , 0.9411765 , 0.93333334, 0.93333334,\n",
              "        0.92941177, 0.96862745, 0.92156863, 0.8627451 , 0.9607843 ,\n",
              "        0.9372549 , 0.8980392 , 0.972549  , 0.9254902 , 0.9372549 ,\n",
              "        0.9372549 , 0.92156863, 0.9490196 , 0.9843137 , 0.7490196 ,\n",
              "        0.        , 0.        , 0.        ],\n",
              "       [0.        , 0.        , 0.        , 0.6392157 , 1.        ,\n",
              "        0.9372549 , 0.9490196 , 0.92156863, 0.9098039 , 0.91764706,\n",
              "        0.9137255 , 0.8980392 , 0.78431374, 0.88235295, 0.8980392 ,\n",
              "        0.9098039 , 0.9019608 , 0.8784314 , 0.9019608 , 0.9019608 ,\n",
              "        0.9098039 , 0.90588236, 0.9372549 , 0.95686275, 0.6745098 ,\n",
              "        0.        , 0.        , 0.        ],\n",
              "       [0.        , 0.        , 0.        , 0.6156863 , 0.9607843 ,\n",
              "        0.93333334, 0.9490196 , 0.9764706 , 1.        , 0.9764706 ,\n",
              "        0.96862745, 0.95686275, 0.79607844, 0.92941177, 1.        ,\n",
              "        0.9529412 , 0.9764706 , 0.98039216, 0.99607843, 0.9843137 ,\n",
              "        0.9882353 , 0.93333334, 0.93333334, 0.98039216, 0.5529412 ,\n",
              "        0.        , 0.        , 0.        ],\n",
              "       [0.        , 0.        , 0.        , 0.69411767, 0.95686275,\n",
              "        0.93333334, 0.91764706, 0.34901962, 0.6039216 , 0.8980392 ,\n",
              "        0.7882353 , 0.8352941 , 0.8392157 , 0.75686276, 0.7137255 ,\n",
              "        0.5882353 , 0.7647059 , 0.7607843 , 0.6313726 , 0.5882353 ,\n",
              "        0.34509805, 0.93333334, 0.93333334, 0.9764706 , 0.4392157 ,\n",
              "        0.        , 0.        , 0.        ],\n",
              "       [0.        , 0.        , 0.        , 0.8666667 , 0.98039216,\n",
              "        0.9647059 , 1.        , 0.        , 0.        , 0.        ,\n",
              "        0.        , 0.        , 0.        , 0.        , 0.        ,\n",
              "        0.        , 0.        , 0.        , 0.        , 0.        ,\n",
              "        0.        , 0.98039216, 0.94509804, 1.        , 0.49411765,\n",
              "        0.        , 0.        , 0.        ],\n",
              "       [0.        , 0.        , 0.        , 0.47058824, 0.7607843 ,\n",
              "        0.75686276, 0.68235296, 0.        , 0.        , 0.        ,\n",
              "        0.        , 0.        , 0.        , 0.        , 0.        ,\n",
              "        0.        , 0.        , 0.        , 0.00784314, 0.        ,\n",
              "        0.        , 0.6862745 , 0.74509805, 0.7764706 , 0.2509804 ,\n",
              "        0.        , 0.        , 0.        ]], dtype=float32)"
            ]
          },
          "metadata": {},
          "execution_count": 26
        }
      ]
    },
    {
      "cell_type": "code",
      "source": [
        "class CNN(nn.Module):\n",
        "  def __init__(self, in_, out_):\n",
        "    super(CNN, self).__init__()\n",
        "    self.conv_pool_01=nn.Sequential(\n",
        "        nn.Conv2d(in_channels=in_,out_channels=8, kernel_size=5, stride=1, padding=0),\n",
        "        nn.ReLU(),\n",
        "        nn.MaxPool2d(kernel_size=2, stride=2)\n",
        "\n",
        "    )\n",
        "    self.conv_pool_02=nn.Sequential(\n",
        "        nn.Conv2d(in_channels=8,out_channels=16, kernel_size=5, stride=1, padding=0),\n",
        "        nn.ReLU(),\n",
        "        nn.MaxPool2d(kernel_size=2,stride=2)\n",
        "    )\n",
        "    self.Flatten=nn.Flatten()\n",
        "    self.FC_01=nn.Linear(in_features=16*4*4, out_features=128)\n",
        "    self.FC_02=nn.Linear(in_features=128, out_features=64)\n",
        "    self.FC_03=nn.Linear(in_features=64,out_features=out_)\n",
        "  def forward(self,x):\n",
        "    x=self.conv_pool_01(x)\n",
        "    x=self.conv_pool_02(x)\n",
        "    x=self.Flatten(x)\n",
        "    x=F.relu(self.FC_01(x))\n",
        "    x=F.relu(self.FC_02(x))\n",
        "    x=F.relu(self.FC_03(x))\n",
        "    return x"
      ],
      "metadata": {
        "id": "IIIhAOvo9a8j"
      },
      "execution_count": 27,
      "outputs": []
    },
    {
      "cell_type": "code",
      "source": [
        "model=CNN(1,10)\n",
        "print(model)"
      ],
      "metadata": {
        "colab": {
          "base_uri": "https://localhost:8080/"
        },
        "id": "0YQwrIe9-d36",
        "outputId": "c3e5a404-9797-4762-b32e-4e8d95dd4397"
      },
      "execution_count": 28,
      "outputs": [
        {
          "output_type": "stream",
          "name": "stdout",
          "text": [
            "CNN(\n",
            "  (conv_pool_01): Sequential(\n",
            "    (0): Conv2d(1, 8, kernel_size=(5, 5), stride=(1, 1))\n",
            "    (1): ReLU()\n",
            "    (2): MaxPool2d(kernel_size=2, stride=2, padding=0, dilation=1, ceil_mode=False)\n",
            "  )\n",
            "  (conv_pool_02): Sequential(\n",
            "    (0): Conv2d(8, 16, kernel_size=(5, 5), stride=(1, 1))\n",
            "    (1): ReLU()\n",
            "    (2): MaxPool2d(kernel_size=2, stride=2, padding=0, dilation=1, ceil_mode=False)\n",
            "  )\n",
            "  (Flatten): Flatten(start_dim=1, end_dim=-1)\n",
            "  (FC_01): Linear(in_features=256, out_features=128, bias=True)\n",
            "  (FC_02): Linear(in_features=128, out_features=64, bias=True)\n",
            "  (FC_03): Linear(in_features=64, out_features=10, bias=True)\n",
            ")\n"
          ]
        }
      ]
    },
    {
      "cell_type": "code",
      "source": [
        "next(model.parameters()).is_cuda"
      ],
      "metadata": {
        "colab": {
          "base_uri": "https://localhost:8080/"
        },
        "id": "tM5C8Y69EYud",
        "outputId": "5f733688-322f-4fbe-94d2-7d0f729b0aad"
      },
      "execution_count": 29,
      "outputs": [
        {
          "output_type": "execute_result",
          "data": {
            "text/plain": [
              "False"
            ]
          },
          "metadata": {},
          "execution_count": 29
        }
      ]
    },
    {
      "cell_type": "code",
      "source": [
        "model.to(config.DEVICE)"
      ],
      "metadata": {
        "colab": {
          "base_uri": "https://localhost:8080/"
        },
        "id": "-UAceAL0-d6S",
        "outputId": "5c94c8ba-3f2d-4c35-bdbd-ec06d359800c"
      },
      "execution_count": 30,
      "outputs": [
        {
          "output_type": "execute_result",
          "data": {
            "text/plain": [
              "CNN(\n",
              "  (conv_pool_01): Sequential(\n",
              "    (0): Conv2d(1, 8, kernel_size=(5, 5), stride=(1, 1))\n",
              "    (1): ReLU()\n",
              "    (2): MaxPool2d(kernel_size=2, stride=2, padding=0, dilation=1, ceil_mode=False)\n",
              "  )\n",
              "  (conv_pool_02): Sequential(\n",
              "    (0): Conv2d(8, 16, kernel_size=(5, 5), stride=(1, 1))\n",
              "    (1): ReLU()\n",
              "    (2): MaxPool2d(kernel_size=2, stride=2, padding=0, dilation=1, ceil_mode=False)\n",
              "  )\n",
              "  (Flatten): Flatten(start_dim=1, end_dim=-1)\n",
              "  (FC_01): Linear(in_features=256, out_features=128, bias=True)\n",
              "  (FC_02): Linear(in_features=128, out_features=64, bias=True)\n",
              "  (FC_03): Linear(in_features=64, out_features=10, bias=True)\n",
              ")"
            ]
          },
          "metadata": {},
          "execution_count": 30
        }
      ]
    },
    {
      "cell_type": "code",
      "source": [
        "next(model.parameters()).is_cuda"
      ],
      "metadata": {
        "colab": {
          "base_uri": "https://localhost:8080/"
        },
        "id": "9elFlzNH-d9L",
        "outputId": "eee29d8a-da17-427f-e78a-011e6af61ce7"
      },
      "execution_count": 31,
      "outputs": [
        {
          "output_type": "execute_result",
          "data": {
            "text/plain": [
              "True"
            ]
          },
          "metadata": {},
          "execution_count": 31
        }
      ]
    },
    {
      "cell_type": "code",
      "source": [
        "#Checking how many trainble parameters in a model\n",
        "def count_params(model):\n",
        "  model_params={\"Modules\":list(), \"Parameters\":list()}\n",
        "  total={\"trainable\":0, \"non_trainable\":0}\n",
        "  for name, parameters in model.named_parameters():\n",
        "    param=parameters.numel()\n",
        "    if not parameters.requires_grad:\n",
        "      total[\"non_trainable\"] +=param\n",
        "\n",
        "      continue\n",
        "    \n",
        "    model_params[\"Modules\"].append(name)\n",
        "    model_params[\"Parameters\"].append(param)\n",
        "    total[\"trainable\"] +=param\n",
        "  df=pd.DataFrame(model_params)\n",
        "  df=df.style.set_caption(f\"Total trainable parameters: {total}\")\n",
        "  return df\n",
        "count_params(model)"
      ],
      "metadata": {
        "colab": {
          "base_uri": "https://localhost:8080/",
          "height": 398
        },
        "id": "XVkwEFHp-eA8",
        "outputId": "0d04c164-648e-45fa-a01c-b3e47181d353"
      },
      "execution_count": 32,
      "outputs": [
        {
          "output_type": "execute_result",
          "data": {
            "text/plain": [
              "<pandas.io.formats.style.Styler at 0x7f4e6ac11cd0>"
            ],
            "text/html": [
              "<style type=\"text/css\">\n",
              "</style>\n",
              "<table id=\"T_50cd9_\" class=\"dataframe\">\n",
              "  <caption>Total trainable parameters: {'trainable': 45226, 'non_trainable': 0}</caption>\n",
              "  <thead>\n",
              "    <tr>\n",
              "      <th class=\"blank level0\" >&nbsp;</th>\n",
              "      <th class=\"col_heading level0 col0\" >Modules</th>\n",
              "      <th class=\"col_heading level0 col1\" >Parameters</th>\n",
              "    </tr>\n",
              "  </thead>\n",
              "  <tbody>\n",
              "    <tr>\n",
              "      <th id=\"T_50cd9_level0_row0\" class=\"row_heading level0 row0\" >0</th>\n",
              "      <td id=\"T_50cd9_row0_col0\" class=\"data row0 col0\" >conv_pool_01.0.weight</td>\n",
              "      <td id=\"T_50cd9_row0_col1\" class=\"data row0 col1\" >200</td>\n",
              "    </tr>\n",
              "    <tr>\n",
              "      <th id=\"T_50cd9_level0_row1\" class=\"row_heading level0 row1\" >1</th>\n",
              "      <td id=\"T_50cd9_row1_col0\" class=\"data row1 col0\" >conv_pool_01.0.bias</td>\n",
              "      <td id=\"T_50cd9_row1_col1\" class=\"data row1 col1\" >8</td>\n",
              "    </tr>\n",
              "    <tr>\n",
              "      <th id=\"T_50cd9_level0_row2\" class=\"row_heading level0 row2\" >2</th>\n",
              "      <td id=\"T_50cd9_row2_col0\" class=\"data row2 col0\" >conv_pool_02.0.weight</td>\n",
              "      <td id=\"T_50cd9_row2_col1\" class=\"data row2 col1\" >3200</td>\n",
              "    </tr>\n",
              "    <tr>\n",
              "      <th id=\"T_50cd9_level0_row3\" class=\"row_heading level0 row3\" >3</th>\n",
              "      <td id=\"T_50cd9_row3_col0\" class=\"data row3 col0\" >conv_pool_02.0.bias</td>\n",
              "      <td id=\"T_50cd9_row3_col1\" class=\"data row3 col1\" >16</td>\n",
              "    </tr>\n",
              "    <tr>\n",
              "      <th id=\"T_50cd9_level0_row4\" class=\"row_heading level0 row4\" >4</th>\n",
              "      <td id=\"T_50cd9_row4_col0\" class=\"data row4 col0\" >FC_01.weight</td>\n",
              "      <td id=\"T_50cd9_row4_col1\" class=\"data row4 col1\" >32768</td>\n",
              "    </tr>\n",
              "    <tr>\n",
              "      <th id=\"T_50cd9_level0_row5\" class=\"row_heading level0 row5\" >5</th>\n",
              "      <td id=\"T_50cd9_row5_col0\" class=\"data row5 col0\" >FC_01.bias</td>\n",
              "      <td id=\"T_50cd9_row5_col1\" class=\"data row5 col1\" >128</td>\n",
              "    </tr>\n",
              "    <tr>\n",
              "      <th id=\"T_50cd9_level0_row6\" class=\"row_heading level0 row6\" >6</th>\n",
              "      <td id=\"T_50cd9_row6_col0\" class=\"data row6 col0\" >FC_02.weight</td>\n",
              "      <td id=\"T_50cd9_row6_col1\" class=\"data row6 col1\" >8192</td>\n",
              "    </tr>\n",
              "    <tr>\n",
              "      <th id=\"T_50cd9_level0_row7\" class=\"row_heading level0 row7\" >7</th>\n",
              "      <td id=\"T_50cd9_row7_col0\" class=\"data row7 col0\" >FC_02.bias</td>\n",
              "      <td id=\"T_50cd9_row7_col1\" class=\"data row7 col1\" >64</td>\n",
              "    </tr>\n",
              "    <tr>\n",
              "      <th id=\"T_50cd9_level0_row8\" class=\"row_heading level0 row8\" >8</th>\n",
              "      <td id=\"T_50cd9_row8_col0\" class=\"data row8 col0\" >FC_03.weight</td>\n",
              "      <td id=\"T_50cd9_row8_col1\" class=\"data row8 col1\" >640</td>\n",
              "    </tr>\n",
              "    <tr>\n",
              "      <th id=\"T_50cd9_level0_row9\" class=\"row_heading level0 row9\" >9</th>\n",
              "      <td id=\"T_50cd9_row9_col0\" class=\"data row9 col0\" >FC_03.bias</td>\n",
              "      <td id=\"T_50cd9_row9_col1\" class=\"data row9 col1\" >10</td>\n",
              "    </tr>\n",
              "  </tbody>\n",
              "</table>\n"
            ]
          },
          "metadata": {},
          "execution_count": 32
        }
      ]
    },
    {
      "cell_type": "code",
      "source": [
        "crieterion=nn.CrossEntropyLoss()\n",
        "optimizer=torch.optim.Adam(model.parameters(), lr=config.LEARNING_RATE)"
      ],
      "metadata": {
        "id": "zQE3aTBnAp5n"
      },
      "execution_count": 33,
      "outputs": []
    },
    {
      "cell_type": "code",
      "source": [
        "# Training loop\n",
        "for epoch in range(config.EPOCH):\n",
        "  with tqdm(train_data_loader) as tqdm_epoch:\n",
        "    for images, labels in tqdm_epoch:\n",
        "      tqdm_epoch.set_description(f\"Epoch {epoch+1}/{config.EPOCH}\")\n",
        "      # put the images on device\n",
        "      images=images.to(config.DEVICE)\n",
        "      labels=labels.to(config.DEVICE)\n",
        "      # Forward pass\n",
        "      outputs=model(images)\n",
        "      loss=crieterion(outputs, labels)# passing the pred and targets value\n",
        "      # Backward propagations\n",
        "      optimizer.zero_grad()# past grad(zero the gradient first)\n",
        "      loss.backward()# calculate the gradient for each weights\n",
        "      optimizer.step()#update each of thr  weights\n",
        "\n",
        "\n",
        "      tqdm_epoch.set_postfix(loss=loss.item())"
      ],
      "metadata": {
        "colab": {
          "base_uri": "https://localhost:8080/"
        },
        "id": "t5JS1MQW-eDU",
        "outputId": "148bd5da-32a6-4322-94a3-79bdd10020bd"
      },
      "execution_count": 34,
      "outputs": [
        {
          "output_type": "stream",
          "name": "stderr",
          "text": [
            "Epoch 1/10: 100%|██████████| 1875/1875 [00:26<00:00, 70.97it/s, loss=1.92]\n",
            "Epoch 2/10: 100%|██████████| 1875/1875 [00:25<00:00, 73.79it/s, loss=1.86]\n",
            "Epoch 3/10: 100%|██████████| 1875/1875 [00:26<00:00, 70.97it/s, loss=1.76]\n",
            "Epoch 4/10: 100%|██████████| 1875/1875 [00:25<00:00, 72.85it/s, loss=1.24]\n",
            "Epoch 5/10: 100%|██████████| 1875/1875 [00:25<00:00, 74.20it/s, loss=1.99]\n",
            "Epoch 6/10: 100%|██████████| 1875/1875 [00:24<00:00, 75.04it/s, loss=1.9]\n",
            "Epoch 7/10: 100%|██████████| 1875/1875 [00:25<00:00, 74.88it/s, loss=1.5]\n",
            "Epoch 8/10: 100%|██████████| 1875/1875 [00:25<00:00, 74.90it/s, loss=1.5]\n",
            "Epoch 9/10: 100%|██████████| 1875/1875 [00:25<00:00, 74.47it/s, loss=1.61]\n",
            "Epoch 10/10: 100%|██████████| 1875/1875 [00:25<00:00, 74.52it/s, loss=1.82]\n"
          ]
        }
      ]
    },
    {
      "cell_type": "code",
      "source": [
        "os.makedirs(\"model_dir\", exist_ok=True)\n",
        "model_file_path=os.path.join(\"model_dir\", \"CNN_model.pth\")\n",
        "torch.save(model,model_file_path)"
      ],
      "metadata": {
        "id": "G08PP_qt-eFk"
      },
      "execution_count": 36,
      "outputs": []
    },
    {
      "cell_type": "code",
      "source": [
        "# Load the model\n",
        "loaded_model=torch.load(model_file_path)"
      ],
      "metadata": {
        "id": "Q16c_GmX-eIM"
      },
      "execution_count": 37,
      "outputs": []
    },
    {
      "cell_type": "code",
      "source": [
        "pred=np.array([])\n",
        "target=np.array([])\n",
        "\n",
        "with torch.no_grad():\n",
        "  for batch, data in enumerate(test_data_loader):\n",
        "    images=data[0].to(config.DEVICE)\n",
        "    labels=data[1].to(config.DEVICE)\n",
        "\n",
        "    y_pred=model(images)\n",
        "    pred=np.concatenate((pred, torch.argmax(y_pred,1).cpu().numpy()))\n",
        "    target=np.concatenate((target, labels.cpu().numpy()))"
      ],
      "metadata": {
        "id": "wbnotf4QKyJV"
      },
      "execution_count": 38,
      "outputs": []
    },
    {
      "cell_type": "code",
      "source": [
        "# Confusion matrix\n",
        "cm=confusion_matrix(target, pred)\n",
        "cm"
      ],
      "metadata": {
        "colab": {
          "base_uri": "https://localhost:8080/"
        },
        "id": "GwaU-zONKyLX",
        "outputId": "0f4b7c0f-4b75-4e29-95aa-ae8db962dd5e"
      },
      "execution_count": 39,
      "outputs": [
        {
          "output_type": "execute_result",
          "data": {
            "text/plain": [
              "array([[ 994,    0,    0,    0,    0,    4,    0,    2,    0,    0],\n",
              "       [1000,    0,    0,    0,    0,    0,    0,    0,    0,    0],\n",
              "       [1000,    0,    0,    0,    0,    0,    0,    0,    0,    0],\n",
              "       [1000,    0,    0,    0,    0,    0,    0,    0,    0,    0],\n",
              "       [1000,    0,    0,    0,    0,    0,    0,    0,    0,    0],\n",
              "       [   7,    0,    0,    0,    0,  966,    0,   27,    0,    0],\n",
              "       [ 998,    0,    0,    0,    0,    0,    0,    2,    0,    0],\n",
              "       [  16,    0,    0,    0,    0,   30,    0,  954,    0,    0],\n",
              "       [ 962,    0,    0,    0,    0,   19,    0,   19,    0,    0],\n",
              "       [ 904,    0,    0,    0,    0,   27,    0,   69,    0,    0]])"
            ]
          },
          "metadata": {},
          "execution_count": 39
        }
      ]
    },
    {
      "cell_type": "code",
      "source": [
        "label_map.values()"
      ],
      "metadata": {
        "colab": {
          "base_uri": "https://localhost:8080/"
        },
        "id": "c2gyKshxND66",
        "outputId": "eb4b40d8-433e-4279-d77a-bfb74113c933"
      },
      "execution_count": 43,
      "outputs": [
        {
          "output_type": "execute_result",
          "data": {
            "text/plain": [
              "dict_values(['T-shirt/top', 'Trouser', 'Pullover', 'Dress', 'Coat', 'Sandal', 'Shirt', 'Sneaker', 'Bag', 'Ankle boot'])"
            ]
          },
          "metadata": {},
          "execution_count": 43
        }
      ]
    },
    {
      "cell_type": "code",
      "source": [
        "plt.figure(figsize=(12,10))\n",
        "sns.heatmap(cm, annot=True, fmt=\"d\", xticklabels=label_map.values(), yticklabels=label_map.values(), cbar=False)"
      ],
      "metadata": {
        "colab": {
          "base_uri": "https://localhost:8080/",
          "height": 609
        },
        "id": "XOaAeeZ5KyOx",
        "outputId": "58863b3a-4be7-464c-884f-a35f04bf2e65"
      },
      "execution_count": 44,
      "outputs": [
        {
          "output_type": "execute_result",
          "data": {
            "text/plain": [
              "<matplotlib.axes._subplots.AxesSubplot at 0x7f4dffe84fd0>"
            ]
          },
          "metadata": {},
          "execution_count": 44
        },
        {
          "output_type": "display_data",
          "data": {
            "text/plain": [
              "<Figure size 864x720 with 1 Axes>"
            ],
            "image/png": "[encoded data removed]"
          },
          "metadata": {
            "needs_background": "light"
          }
        }
      ]
    },
    {
      "cell_type": "code",
      "source": [
        "data=next(iter(test_data_loader))"
      ],
      "metadata": {
        "id": "bhxwk2eoKyS1"
      },
      "execution_count": 45,
      "outputs": []
    },
    {
      "cell_type": "code",
      "source": [
        "data[0].shape"
      ],
      "metadata": {
        "colab": {
          "base_uri": "https://localhost:8080/"
        },
        "id": "go3VxlT2Oxm_",
        "outputId": "3e5e9449-ea0f-4eae-bc47-d02081704baa"
      },
      "execution_count": 47,
      "outputs": [
        {
          "output_type": "execute_result",
          "data": {
            "text/plain": [
              "torch.Size([32, 1, 28, 28])"
            ]
          },
          "metadata": {},
          "execution_count": 47
        }
      ]
    },
    {
      "cell_type": "code",
      "source": [
        "len(data)"
      ],
      "metadata": {
        "colab": {
          "base_uri": "https://localhost:8080/"
        },
        "id": "xU3o85QFOxqI",
        "outputId": "29ceccc3-194e-455e-96a8-8d1d5b47366f"
      },
      "execution_count": 48,
      "outputs": [
        {
          "output_type": "execute_result",
          "data": {
            "text/plain": [
              "2"
            ]
          },
          "metadata": {},
          "execution_count": 48
        }
      ]
    },
    {
      "cell_type": "code",
      "source": [
        "images, labels=data\n",
        "images.shape"
      ],
      "metadata": {
        "colab": {
          "base_uri": "https://localhost:8080/"
        },
        "id": "WFUIEVqYOxtM",
        "outputId": "f54c9c72-52ba-4697-9fbf-1e1281c769ea"
      },
      "execution_count": 49,
      "outputs": [
        {
          "output_type": "execute_result",
          "data": {
            "text/plain": [
              "torch.Size([32, 1, 28, 28])"
            ]
          },
          "metadata": {},
          "execution_count": 49
        }
      ]
    },
    {
      "cell_type": "code",
      "source": [
        "labels.shape"
      ],
      "metadata": {
        "colab": {
          "base_uri": "https://localhost:8080/"
        },
        "id": "vhD5RTaiOxwR",
        "outputId": "109eafc6-6976-43cf-dd43-bd30dd4dec05"
      },
      "execution_count": 50,
      "outputs": [
        {
          "output_type": "execute_result",
          "data": {
            "text/plain": [
              "torch.Size([32])"
            ]
          },
          "metadata": {},
          "execution_count": 50
        }
      ]
    },
    {
      "cell_type": "code",
      "source": [
        "idx=2\n",
        "img=images[idx]\n",
        "img.shape"
      ],
      "metadata": {
        "colab": {
          "base_uri": "https://localhost:8080/"
        },
        "id": "Gm1zxFrKPKZk",
        "outputId": "9d076c81-7900-4e45-b921-d402331f73c5"
      },
      "execution_count": 52,
      "outputs": [
        {
          "output_type": "execute_result",
          "data": {
            "text/plain": [
              "torch.Size([1, 28, 28])"
            ]
          },
          "metadata": {},
          "execution_count": 52
        }
      ]
    },
    {
      "cell_type": "code",
      "source": [
        "label=labels[idx]\n",
        "label_map[label.item()]"
      ],
      "metadata": {
        "colab": {
          "base_uri": "https://localhost:8080/",
          "height": 36
        },
        "id": "NCLAKt6xP2n3",
        "outputId": "26a17a73-d7f9-4c83-fce2-5d25bc2afa4c"
      },
      "execution_count": 57,
      "outputs": [
        {
          "output_type": "execute_result",
          "data": {
            "text/plain": [
              "'Trouser'"
            ],
            "application/vnd.google.colaboratory.intrinsic+json": {
              "type": "string"
            }
          },
          "metadata": {},
          "execution_count": 57
        }
      ]
    },
    {
      "cell_type": "code",
      "source": [
        "plt.imshow(img.squeeze(), cmap=\"gray\")\n"
      ],
      "metadata": {
        "colab": {
          "base_uri": "https://localhost:8080/",
          "height": 282
        },
        "id": "IwoM4yqQPKcc",
        "outputId": "97c257fa-6f98-4aef-dcb8-ba0f0cab742b"
      },
      "execution_count": 55,
      "outputs": [
        {
          "output_type": "execute_result",
          "data": {
            "text/plain": [
              "<matplotlib.image.AxesImage at 0x7f4dffcd0550>"
            ]
          },
          "metadata": {},
          "execution_count": 55
        },
        {
          "output_type": "display_data",
          "data": {
            "text/plain": [
              "<Figure size 432x288 with 1 Axes>"
            ],
            "image/png": "[encoded data removed]"
          },
          "metadata": {
            "needs_background": "light"
          }
        }
      ]
    },
    {
      "cell_type": "code",
      "source": [
        "model(img)"
      ],
      "metadata": {
        "colab": {
          "base_uri": "https://localhost:8080/",
          "height": 311
        },
        "id": "e9c7REHAPKiZ",
        "outputId": "bb929ac3-299b-4330-be79-3b3371a31921"
      },
      "execution_count": 58,
      "outputs": [
        {
          "output_type": "error",
          "ename": "RuntimeError",
          "evalue": "ignored",
          "traceback": [
            "\u001b[0;31m---------------------------------------------------------------------------\u001b[0m",
            "\u001b[0;31mRuntimeError\u001b[0m                              Traceback (most recent call last)",
            "\u001b[0;32m<ipython-input-58-b33ece645a5a>\u001b[0m in \u001b[0;36m<module>\u001b[0;34m()\u001b[0m\n\u001b[0;32m----> 1\u001b[0;31m \u001b[0mmodel\u001b[0m\u001b[0;34m(\u001b[0m\u001b[0mimg\u001b[0m\u001b[0;34m)\u001b[0m\u001b[0;34m\u001b[0m\u001b[0;34m\u001b[0m\u001b[0m\n\u001b[0m",
            "\u001b[0;32m/usr/local/lib/python3.7/dist-packages/torch/nn/modules/module.py\u001b[0m in \u001b[0;36m_call_impl\u001b[0;34m(self, *input, **kwargs)\u001b[0m\n\u001b[1;32m   1108\u001b[0m         if not (self._backward_hooks or self._forward_hooks or self._forward_pre_hooks or _global_backward_hooks\n\u001b[1;32m   1109\u001b[0m                 or _global_forward_hooks or _global_forward_pre_hooks):\n\u001b[0;32m-> 1110\u001b[0;31m             \u001b[0;32mreturn\u001b[0m \u001b[0mforward_call\u001b[0m\u001b[0;34m(\u001b[0m\u001b[0;34m*\u001b[0m\u001b[0minput\u001b[0m\u001b[0;34m,\u001b[0m \u001b[0;34m**\u001b[0m\u001b[0mkwargs\u001b[0m\u001b[0;34m)\u001b[0m\u001b[0;34m\u001b[0m\u001b[0;34m\u001b[0m\u001b[0m\n\u001b[0m\u001b[1;32m   1111\u001b[0m         \u001b[0;31m# Do not call functions when jit is used\u001b[0m\u001b[0;34m\u001b[0m\u001b[0;34m\u001b[0m\u001b[0;34m\u001b[0m\u001b[0m\n\u001b[1;32m   1112\u001b[0m         \u001b[0mfull_backward_hooks\u001b[0m\u001b[0;34m,\u001b[0m \u001b[0mnon_full_backward_hooks\u001b[0m \u001b[0;34m=\u001b[0m \u001b[0;34m[\u001b[0m\u001b[0;34m]\u001b[0m\u001b[0;34m,\u001b[0m \u001b[0;34m[\u001b[0m\u001b[0;34m]\u001b[0m\u001b[0;34m\u001b[0m\u001b[0;34m\u001b[0m\u001b[0m\n",
            "\u001b[0;32m<ipython-input-27-4ec183d5c4d7>\u001b[0m in \u001b[0;36mforward\u001b[0;34m(self, x)\u001b[0m\n\u001b[1;32m     18\u001b[0m     \u001b[0mself\u001b[0m\u001b[0;34m.\u001b[0m\u001b[0mFC_03\u001b[0m\u001b[0;34m=\u001b[0m\u001b[0mnn\u001b[0m\u001b[0;34m.\u001b[0m\u001b[0mLinear\u001b[0m\u001b[0;34m(\u001b[0m\u001b[0min_features\u001b[0m\u001b[0;34m=\u001b[0m\u001b[0;36m64\u001b[0m\u001b[0;34m,\u001b[0m\u001b[0mout_features\u001b[0m\u001b[0;34m=\u001b[0m\u001b[0mout_\u001b[0m\u001b[0;34m)\u001b[0m\u001b[0;34m\u001b[0m\u001b[0;34m\u001b[0m\u001b[0m\n\u001b[1;32m     19\u001b[0m   \u001b[0;32mdef\u001b[0m \u001b[0mforward\u001b[0m\u001b[0;34m(\u001b[0m\u001b[0mself\u001b[0m\u001b[0;34m,\u001b[0m\u001b[0mx\u001b[0m\u001b[0;34m)\u001b[0m\u001b[0;34m:\u001b[0m\u001b[0;34m\u001b[0m\u001b[0;34m\u001b[0m\u001b[0m\n\u001b[0;32m---> 20\u001b[0;31m     \u001b[0mx\u001b[0m\u001b[0;34m=\u001b[0m\u001b[0mself\u001b[0m\u001b[0;34m.\u001b[0m\u001b[0mconv_pool_01\u001b[0m\u001b[0;34m(\u001b[0m\u001b[0mx\u001b[0m\u001b[0;34m)\u001b[0m\u001b[0;34m\u001b[0m\u001b[0;34m\u001b[0m\u001b[0m\n\u001b[0m\u001b[1;32m     21\u001b[0m     \u001b[0mx\u001b[0m\u001b[0;34m=\u001b[0m\u001b[0mself\u001b[0m\u001b[0;34m.\u001b[0m\u001b[0mconv_pool_02\u001b[0m\u001b[0;34m(\u001b[0m\u001b[0mx\u001b[0m\u001b[0;34m)\u001b[0m\u001b[0;34m\u001b[0m\u001b[0;34m\u001b[0m\u001b[0m\n\u001b[1;32m     22\u001b[0m     \u001b[0mx\u001b[0m\u001b[0;34m=\u001b[0m\u001b[0mself\u001b[0m\u001b[0;34m.\u001b[0m\u001b[0mFlatten\u001b[0m\u001b[0;34m(\u001b[0m\u001b[0mx\u001b[0m\u001b[0;34m)\u001b[0m\u001b[0;34m\u001b[0m\u001b[0;34m\u001b[0m\u001b[0m\n",
            "\u001b[0;32m/usr/local/lib/python3.7/dist-packages/torch/nn/modules/module.py\u001b[0m in \u001b[0;36m_call_impl\u001b[0;34m(self, *input, **kwargs)\u001b[0m\n\u001b[1;32m   1108\u001b[0m         if not (self._backward_hooks or self._forward_hooks or self._forward_pre_hooks or _global_backward_hooks\n\u001b[1;32m   1109\u001b[0m                 or _global_forward_hooks or _global_forward_pre_hooks):\n\u001b[0;32m-> 1110\u001b[0;31m             \u001b[0;32mreturn\u001b[0m \u001b[0mforward_call\u001b[0m\u001b[0;34m(\u001b[0m\u001b[0;34m*\u001b[0m\u001b[0minput\u001b[0m\u001b[0;34m,\u001b[0m \u001b[0;34m**\u001b[0m\u001b[0mkwargs\u001b[0m\u001b[0;34m)\u001b[0m\u001b[0;34m\u001b[0m\u001b[0;34m\u001b[0m\u001b[0m\n\u001b[0m\u001b[1;32m   1111\u001b[0m         \u001b[0;31m# Do not call functions when jit is used\u001b[0m\u001b[0;34m\u001b[0m\u001b[0;34m\u001b[0m\u001b[0;34m\u001b[0m\u001b[0m\n\u001b[1;32m   1112\u001b[0m         \u001b[0mfull_backward_hooks\u001b[0m\u001b[0;34m,\u001b[0m \u001b[0mnon_full_backward_hooks\u001b[0m \u001b[0;34m=\u001b[0m \u001b[0;34m[\u001b[0m\u001b[0;34m]\u001b[0m\u001b[0;34m,\u001b[0m \u001b[0;34m[\u001b[0m\u001b[0;34m]\u001b[0m\u001b[0;34m\u001b[0m\u001b[0;34m\u001b[0m\u001b[0m\n",
            "\u001b[0;32m/usr/local/lib/python3.7/dist-packages/torch/nn/modules/container.py\u001b[0m in \u001b[0;36mforward\u001b[0;34m(self, input)\u001b[0m\n\u001b[1;32m    139\u001b[0m     \u001b[0;32mdef\u001b[0m \u001b[0mforward\u001b[0m\u001b[0;34m(\u001b[0m\u001b[0mself\u001b[0m\u001b[0;34m,\u001b[0m \u001b[0minput\u001b[0m\u001b[0;34m)\u001b[0m\u001b[0;34m:\u001b[0m\u001b[0;34m\u001b[0m\u001b[0;34m\u001b[0m\u001b[0m\n\u001b[1;32m    140\u001b[0m         \u001b[0;32mfor\u001b[0m \u001b[0mmodule\u001b[0m \u001b[0;32min\u001b[0m \u001b[0mself\u001b[0m\u001b[0;34m:\u001b[0m\u001b[0;34m\u001b[0m\u001b[0;34m\u001b[0m\u001b[0m\n\u001b[0;32m--> 141\u001b[0;31m             \u001b[0minput\u001b[0m \u001b[0;34m=\u001b[0m \u001b[0mmodule\u001b[0m\u001b[0;34m(\u001b[0m\u001b[0minput\u001b[0m\u001b[0;34m)\u001b[0m\u001b[0;34m\u001b[0m\u001b[0;34m\u001b[0m\u001b[0m\n\u001b[0m\u001b[1;32m    142\u001b[0m         \u001b[0;32mreturn\u001b[0m \u001b[0minput\u001b[0m\u001b[0;34m\u001b[0m\u001b[0;34m\u001b[0m\u001b[0m\n\u001b[1;32m    143\u001b[0m \u001b[0;34m\u001b[0m\u001b[0m\n",
            "\u001b[0;32m/usr/local/lib/python3.7/dist-packages/torch/nn/modules/module.py\u001b[0m in \u001b[0;36m_call_impl\u001b[0;34m(self, *input, **kwargs)\u001b[0m\n\u001b[1;32m   1108\u001b[0m         if not (self._backward_hooks or self._forward_hooks or self._forward_pre_hooks or _global_backward_hooks\n\u001b[1;32m   1109\u001b[0m                 or _global_forward_hooks or _global_forward_pre_hooks):\n\u001b[0;32m-> 1110\u001b[0;31m             \u001b[0;32mreturn\u001b[0m \u001b[0mforward_call\u001b[0m\u001b[0;34m(\u001b[0m\u001b[0;34m*\u001b[0m\u001b[0minput\u001b[0m\u001b[0;34m,\u001b[0m \u001b[0;34m**\u001b[0m\u001b[0mkwargs\u001b[0m\u001b[0;34m)\u001b[0m\u001b[0;34m\u001b[0m\u001b[0;34m\u001b[0m\u001b[0m\n\u001b[0m\u001b[1;32m   1111\u001b[0m         \u001b[0;31m# Do not call functions when jit is used\u001b[0m\u001b[0;34m\u001b[0m\u001b[0;34m\u001b[0m\u001b[0;34m\u001b[0m\u001b[0m\n\u001b[1;32m   1112\u001b[0m         \u001b[0mfull_backward_hooks\u001b[0m\u001b[0;34m,\u001b[0m \u001b[0mnon_full_backward_hooks\u001b[0m \u001b[0;34m=\u001b[0m \u001b[0;34m[\u001b[0m\u001b[0;34m]\u001b[0m\u001b[0;34m,\u001b[0m \u001b[0;34m[\u001b[0m\u001b[0;34m]\u001b[0m\u001b[0;34m\u001b[0m\u001b[0;34m\u001b[0m\u001b[0m\n",
            "\u001b[0;32m/usr/local/lib/python3.7/dist-packages/torch/nn/modules/conv.py\u001b[0m in \u001b[0;36mforward\u001b[0;34m(self, input)\u001b[0m\n\u001b[1;32m    445\u001b[0m \u001b[0;34m\u001b[0m\u001b[0m\n\u001b[1;32m    446\u001b[0m     \u001b[0;32mdef\u001b[0m \u001b[0mforward\u001b[0m\u001b[0;34m(\u001b[0m\u001b[0mself\u001b[0m\u001b[0;34m,\u001b[0m \u001b[0minput\u001b[0m\u001b[0;34m:\u001b[0m \u001b[0mTensor\u001b[0m\u001b[0;34m)\u001b[0m \u001b[0;34m->\u001b[0m \u001b[0mTensor\u001b[0m\u001b[0;34m:\u001b[0m\u001b[0;34m\u001b[0m\u001b[0;34m\u001b[0m\u001b[0m\n\u001b[0;32m--> 447\u001b[0;31m         \u001b[0;32mreturn\u001b[0m \u001b[0mself\u001b[0m\u001b[0;34m.\u001b[0m\u001b[0m_conv_forward\u001b[0m\u001b[0;34m(\u001b[0m\u001b[0minput\u001b[0m\u001b[0;34m,\u001b[0m \u001b[0mself\u001b[0m\u001b[0;34m.\u001b[0m\u001b[0mweight\u001b[0m\u001b[0;34m,\u001b[0m \u001b[0mself\u001b[0m\u001b[0;34m.\u001b[0m\u001b[0mbias\u001b[0m\u001b[0;34m)\u001b[0m\u001b[0;34m\u001b[0m\u001b[0;34m\u001b[0m\u001b[0m\n\u001b[0m\u001b[1;32m    448\u001b[0m \u001b[0;34m\u001b[0m\u001b[0m\n\u001b[1;32m    449\u001b[0m \u001b[0;32mclass\u001b[0m \u001b[0mConv3d\u001b[0m\u001b[0;34m(\u001b[0m\u001b[0m_ConvNd\u001b[0m\u001b[0;34m)\u001b[0m\u001b[0;34m:\u001b[0m\u001b[0;34m\u001b[0m\u001b[0;34m\u001b[0m\u001b[0m\n",
            "\u001b[0;32m/usr/local/lib/python3.7/dist-packages/torch/nn/modules/conv.py\u001b[0m in \u001b[0;36m_conv_forward\u001b[0;34m(self, input, weight, bias)\u001b[0m\n\u001b[1;32m    442\u001b[0m                             _pair(0), self.dilation, self.groups)\n\u001b[1;32m    443\u001b[0m         return F.conv2d(input, weight, bias, self.stride,\n\u001b[0;32m--> 444\u001b[0;31m                         self.padding, self.dilation, self.groups)\n\u001b[0m\u001b[1;32m    445\u001b[0m \u001b[0;34m\u001b[0m\u001b[0m\n\u001b[1;32m    446\u001b[0m     \u001b[0;32mdef\u001b[0m \u001b[0mforward\u001b[0m\u001b[0;34m(\u001b[0m\u001b[0mself\u001b[0m\u001b[0;34m,\u001b[0m \u001b[0minput\u001b[0m\u001b[0;34m:\u001b[0m \u001b[0mTensor\u001b[0m\u001b[0;34m)\u001b[0m \u001b[0;34m->\u001b[0m \u001b[0mTensor\u001b[0m\u001b[0;34m:\u001b[0m\u001b[0;34m\u001b[0m\u001b[0;34m\u001b[0m\u001b[0m\n",
            "\u001b[0;31mRuntimeError\u001b[0m: Input type (torch.FloatTensor) and weight type (torch.cuda.FloatTensor) should be the same or input should be a MKLDNN tensor and weight is a dense tensor"
          ]
        }
      ]
    },
    {
      "cell_type": "code",
      "source": [
        "img.unsqueeze(dim=1).shape"
      ],
      "metadata": {
        "colab": {
          "base_uri": "https://localhost:8080/"
        },
        "id": "mDyjh0_jQZze",
        "outputId": "2ac23c9a-7a30-441a-c24c-dd991c78d714"
      },
      "execution_count": 59,
      "outputs": [
        {
          "output_type": "execute_result",
          "data": {
            "text/plain": [
              "torch.Size([1, 1, 28, 28])"
            ]
          },
          "metadata": {},
          "execution_count": 59
        }
      ]
    },
    {
      "cell_type": "code",
      "source": [
        "model(img.unsqueeze(dim=1))"
      ],
      "metadata": {
        "colab": {
          "base_uri": "https://localhost:8080/",
          "height": 311
        },
        "id": "QU2w0VsPQZ3G",
        "outputId": "b23a6cb3-417c-474e-876e-726ed8f2ddce"
      },
      "execution_count": 60,
      "outputs": [
        {
          "output_type": "error",
          "ename": "RuntimeError",
          "evalue": "ignored",
          "traceback": [
            "\u001b[0;31m---------------------------------------------------------------------------\u001b[0m",
            "\u001b[0;31mRuntimeError\u001b[0m                              Traceback (most recent call last)",
            "\u001b[0;32m<ipython-input-60-516885310960>\u001b[0m in \u001b[0;36m<module>\u001b[0;34m()\u001b[0m\n\u001b[0;32m----> 1\u001b[0;31m \u001b[0mmodel\u001b[0m\u001b[0;34m(\u001b[0m\u001b[0mimg\u001b[0m\u001b[0;34m.\u001b[0m\u001b[0munsqueeze\u001b[0m\u001b[0;34m(\u001b[0m\u001b[0mdim\u001b[0m\u001b[0;34m=\u001b[0m\u001b[0;36m1\u001b[0m\u001b[0;34m)\u001b[0m\u001b[0;34m)\u001b[0m\u001b[0;34m\u001b[0m\u001b[0;34m\u001b[0m\u001b[0m\n\u001b[0m",
            "\u001b[0;32m/usr/local/lib/python3.7/dist-packages/torch/nn/modules/module.py\u001b[0m in \u001b[0;36m_call_impl\u001b[0;34m(self, *input, **kwargs)\u001b[0m\n\u001b[1;32m   1108\u001b[0m         if not (self._backward_hooks or self._forward_hooks or self._forward_pre_hooks or _global_backward_hooks\n\u001b[1;32m   1109\u001b[0m                 or _global_forward_hooks or _global_forward_pre_hooks):\n\u001b[0;32m-> 1110\u001b[0;31m             \u001b[0;32mreturn\u001b[0m \u001b[0mforward_call\u001b[0m\u001b[0;34m(\u001b[0m\u001b[0;34m*\u001b[0m\u001b[0minput\u001b[0m\u001b[0;34m,\u001b[0m \u001b[0;34m**\u001b[0m\u001b[0mkwargs\u001b[0m\u001b[0;34m)\u001b[0m\u001b[0;34m\u001b[0m\u001b[0;34m\u001b[0m\u001b[0m\n\u001b[0m\u001b[1;32m   1111\u001b[0m         \u001b[0;31m# Do not call functions when jit is used\u001b[0m\u001b[0;34m\u001b[0m\u001b[0;34m\u001b[0m\u001b[0;34m\u001b[0m\u001b[0m\n\u001b[1;32m   1112\u001b[0m         \u001b[0mfull_backward_hooks\u001b[0m\u001b[0;34m,\u001b[0m \u001b[0mnon_full_backward_hooks\u001b[0m \u001b[0;34m=\u001b[0m \u001b[0;34m[\u001b[0m\u001b[0;34m]\u001b[0m\u001b[0;34m,\u001b[0m \u001b[0;34m[\u001b[0m\u001b[0;34m]\u001b[0m\u001b[0;34m\u001b[0m\u001b[0;34m\u001b[0m\u001b[0m\n",
            "\u001b[0;32m<ipython-input-27-4ec183d5c4d7>\u001b[0m in \u001b[0;36mforward\u001b[0;34m(self, x)\u001b[0m\n\u001b[1;32m     18\u001b[0m     \u001b[0mself\u001b[0m\u001b[0;34m.\u001b[0m\u001b[0mFC_03\u001b[0m\u001b[0;34m=\u001b[0m\u001b[0mnn\u001b[0m\u001b[0;34m.\u001b[0m\u001b[0mLinear\u001b[0m\u001b[0;34m(\u001b[0m\u001b[0min_features\u001b[0m\u001b[0;34m=\u001b[0m\u001b[0;36m64\u001b[0m\u001b[0;34m,\u001b[0m\u001b[0mout_features\u001b[0m\u001b[0;34m=\u001b[0m\u001b[0mout_\u001b[0m\u001b[0;34m)\u001b[0m\u001b[0;34m\u001b[0m\u001b[0;34m\u001b[0m\u001b[0m\n\u001b[1;32m     19\u001b[0m   \u001b[0;32mdef\u001b[0m \u001b[0mforward\u001b[0m\u001b[0;34m(\u001b[0m\u001b[0mself\u001b[0m\u001b[0;34m,\u001b[0m\u001b[0mx\u001b[0m\u001b[0;34m)\u001b[0m\u001b[0;34m:\u001b[0m\u001b[0;34m\u001b[0m\u001b[0;34m\u001b[0m\u001b[0m\n\u001b[0;32m---> 20\u001b[0;31m     \u001b[0mx\u001b[0m\u001b[0;34m=\u001b[0m\u001b[0mself\u001b[0m\u001b[0;34m.\u001b[0m\u001b[0mconv_pool_01\u001b[0m\u001b[0;34m(\u001b[0m\u001b[0mx\u001b[0m\u001b[0;34m)\u001b[0m\u001b[0;34m\u001b[0m\u001b[0;34m\u001b[0m\u001b[0m\n\u001b[0m\u001b[1;32m     21\u001b[0m     \u001b[0mx\u001b[0m\u001b[0;34m=\u001b[0m\u001b[0mself\u001b[0m\u001b[0;34m.\u001b[0m\u001b[0mconv_pool_02\u001b[0m\u001b[0;34m(\u001b[0m\u001b[0mx\u001b[0m\u001b[0;34m)\u001b[0m\u001b[0;34m\u001b[0m\u001b[0;34m\u001b[0m\u001b[0m\n\u001b[1;32m     22\u001b[0m     \u001b[0mx\u001b[0m\u001b[0;34m=\u001b[0m\u001b[0mself\u001b[0m\u001b[0;34m.\u001b[0m\u001b[0mFlatten\u001b[0m\u001b[0;34m(\u001b[0m\u001b[0mx\u001b[0m\u001b[0;34m)\u001b[0m\u001b[0;34m\u001b[0m\u001b[0;34m\u001b[0m\u001b[0m\n",
            "\u001b[0;32m/usr/local/lib/python3.7/dist-packages/torch/nn/modules/module.py\u001b[0m in \u001b[0;36m_call_impl\u001b[0;34m(self, *input, **kwargs)\u001b[0m\n\u001b[1;32m   1108\u001b[0m         if not (self._backward_hooks or self._forward_hooks or self._forward_pre_hooks or _global_backward_hooks\n\u001b[1;32m   1109\u001b[0m                 or _global_forward_hooks or _global_forward_pre_hooks):\n\u001b[0;32m-> 1110\u001b[0;31m             \u001b[0;32mreturn\u001b[0m \u001b[0mforward_call\u001b[0m\u001b[0;34m(\u001b[0m\u001b[0;34m*\u001b[0m\u001b[0minput\u001b[0m\u001b[0;34m,\u001b[0m \u001b[0;34m**\u001b[0m\u001b[0mkwargs\u001b[0m\u001b[0;34m)\u001b[0m\u001b[0;34m\u001b[0m\u001b[0;34m\u001b[0m\u001b[0m\n\u001b[0m\u001b[1;32m   1111\u001b[0m         \u001b[0;31m# Do not call functions when jit is used\u001b[0m\u001b[0;34m\u001b[0m\u001b[0;34m\u001b[0m\u001b[0;34m\u001b[0m\u001b[0m\n\u001b[1;32m   1112\u001b[0m         \u001b[0mfull_backward_hooks\u001b[0m\u001b[0;34m,\u001b[0m \u001b[0mnon_full_backward_hooks\u001b[0m \u001b[0;34m=\u001b[0m \u001b[0;34m[\u001b[0m\u001b[0;34m]\u001b[0m\u001b[0;34m,\u001b[0m \u001b[0;34m[\u001b[0m\u001b[0;34m]\u001b[0m\u001b[0;34m\u001b[0m\u001b[0;34m\u001b[0m\u001b[0m\n",
            "\u001b[0;32m/usr/local/lib/python3.7/dist-packages/torch/nn/modules/container.py\u001b[0m in \u001b[0;36mforward\u001b[0;34m(self, input)\u001b[0m\n\u001b[1;32m    139\u001b[0m     \u001b[0;32mdef\u001b[0m \u001b[0mforward\u001b[0m\u001b[0;34m(\u001b[0m\u001b[0mself\u001b[0m\u001b[0;34m,\u001b[0m \u001b[0minput\u001b[0m\u001b[0;34m)\u001b[0m\u001b[0;34m:\u001b[0m\u001b[0;34m\u001b[0m\u001b[0;34m\u001b[0m\u001b[0m\n\u001b[1;32m    140\u001b[0m         \u001b[0;32mfor\u001b[0m \u001b[0mmodule\u001b[0m \u001b[0;32min\u001b[0m \u001b[0mself\u001b[0m\u001b[0;34m:\u001b[0m\u001b[0;34m\u001b[0m\u001b[0;34m\u001b[0m\u001b[0m\n\u001b[0;32m--> 141\u001b[0;31m             \u001b[0minput\u001b[0m \u001b[0;34m=\u001b[0m \u001b[0mmodule\u001b[0m\u001b[0;34m(\u001b[0m\u001b[0minput\u001b[0m\u001b[0;34m)\u001b[0m\u001b[0;34m\u001b[0m\u001b[0;34m\u001b[0m\u001b[0m\n\u001b[0m\u001b[1;32m    142\u001b[0m         \u001b[0;32mreturn\u001b[0m \u001b[0minput\u001b[0m\u001b[0;34m\u001b[0m\u001b[0;34m\u001b[0m\u001b[0m\n\u001b[1;32m    143\u001b[0m \u001b[0;34m\u001b[0m\u001b[0m\n",
            "\u001b[0;32m/usr/local/lib/python3.7/dist-packages/torch/nn/modules/module.py\u001b[0m in \u001b[0;36m_call_impl\u001b[0;34m(self, *input, **kwargs)\u001b[0m\n\u001b[1;32m   1108\u001b[0m         if not (self._backward_hooks or self._forward_hooks or self._forward_pre_hooks or _global_backward_hooks\n\u001b[1;32m   1109\u001b[0m                 or _global_forward_hooks or _global_forward_pre_hooks):\n\u001b[0;32m-> 1110\u001b[0;31m             \u001b[0;32mreturn\u001b[0m \u001b[0mforward_call\u001b[0m\u001b[0;34m(\u001b[0m\u001b[0;34m*\u001b[0m\u001b[0minput\u001b[0m\u001b[0;34m,\u001b[0m \u001b[0;34m**\u001b[0m\u001b[0mkwargs\u001b[0m\u001b[0;34m)\u001b[0m\u001b[0;34m\u001b[0m\u001b[0;34m\u001b[0m\u001b[0m\n\u001b[0m\u001b[1;32m   1111\u001b[0m         \u001b[0;31m# Do not call functions when jit is used\u001b[0m\u001b[0;34m\u001b[0m\u001b[0;34m\u001b[0m\u001b[0;34m\u001b[0m\u001b[0m\n\u001b[1;32m   1112\u001b[0m         \u001b[0mfull_backward_hooks\u001b[0m\u001b[0;34m,\u001b[0m \u001b[0mnon_full_backward_hooks\u001b[0m \u001b[0;34m=\u001b[0m \u001b[0;34m[\u001b[0m\u001b[0;34m]\u001b[0m\u001b[0;34m,\u001b[0m \u001b[0;34m[\u001b[0m\u001b[0;34m]\u001b[0m\u001b[0;34m\u001b[0m\u001b[0;34m\u001b[0m\u001b[0m\n",
            "\u001b[0;32m/usr/local/lib/python3.7/dist-packages/torch/nn/modules/conv.py\u001b[0m in \u001b[0;36mforward\u001b[0;34m(self, input)\u001b[0m\n\u001b[1;32m    445\u001b[0m \u001b[0;34m\u001b[0m\u001b[0m\n\u001b[1;32m    446\u001b[0m     \u001b[0;32mdef\u001b[0m \u001b[0mforward\u001b[0m\u001b[0;34m(\u001b[0m\u001b[0mself\u001b[0m\u001b[0;34m,\u001b[0m \u001b[0minput\u001b[0m\u001b[0;34m:\u001b[0m \u001b[0mTensor\u001b[0m\u001b[0;34m)\u001b[0m \u001b[0;34m->\u001b[0m \u001b[0mTensor\u001b[0m\u001b[0;34m:\u001b[0m\u001b[0;34m\u001b[0m\u001b[0;34m\u001b[0m\u001b[0m\n\u001b[0;32m--> 447\u001b[0;31m         \u001b[0;32mreturn\u001b[0m \u001b[0mself\u001b[0m\u001b[0;34m.\u001b[0m\u001b[0m_conv_forward\u001b[0m\u001b[0;34m(\u001b[0m\u001b[0minput\u001b[0m\u001b[0;34m,\u001b[0m \u001b[0mself\u001b[0m\u001b[0;34m.\u001b[0m\u001b[0mweight\u001b[0m\u001b[0;34m,\u001b[0m \u001b[0mself\u001b[0m\u001b[0;34m.\u001b[0m\u001b[0mbias\u001b[0m\u001b[0;34m)\u001b[0m\u001b[0;34m\u001b[0m\u001b[0;34m\u001b[0m\u001b[0m\n\u001b[0m\u001b[1;32m    448\u001b[0m \u001b[0;34m\u001b[0m\u001b[0m\n\u001b[1;32m    449\u001b[0m \u001b[0;32mclass\u001b[0m \u001b[0mConv3d\u001b[0m\u001b[0;34m(\u001b[0m\u001b[0m_ConvNd\u001b[0m\u001b[0;34m)\u001b[0m\u001b[0;34m:\u001b[0m\u001b[0;34m\u001b[0m\u001b[0;34m\u001b[0m\u001b[0m\n",
            "\u001b[0;32m/usr/local/lib/python3.7/dist-packages/torch/nn/modules/conv.py\u001b[0m in \u001b[0;36m_conv_forward\u001b[0;34m(self, input, weight, bias)\u001b[0m\n\u001b[1;32m    442\u001b[0m                             _pair(0), self.dilation, self.groups)\n\u001b[1;32m    443\u001b[0m         return F.conv2d(input, weight, bias, self.stride,\n\u001b[0;32m--> 444\u001b[0;31m                         self.padding, self.dilation, self.groups)\n\u001b[0m\u001b[1;32m    445\u001b[0m \u001b[0;34m\u001b[0m\u001b[0m\n\u001b[1;32m    446\u001b[0m     \u001b[0;32mdef\u001b[0m \u001b[0mforward\u001b[0m\u001b[0;34m(\u001b[0m\u001b[0mself\u001b[0m\u001b[0;34m,\u001b[0m \u001b[0minput\u001b[0m\u001b[0;34m:\u001b[0m \u001b[0mTensor\u001b[0m\u001b[0;34m)\u001b[0m \u001b[0;34m->\u001b[0m \u001b[0mTensor\u001b[0m\u001b[0;34m:\u001b[0m\u001b[0;34m\u001b[0m\u001b[0;34m\u001b[0m\u001b[0m\n",
            "\u001b[0;31mRuntimeError\u001b[0m: Input type (torch.FloatTensor) and weight type (torch.cuda.FloatTensor) should be the same or input should be a MKLDNN tensor and weight is a dense tensor"
          ]
        }
      ]
    },
    {
      "cell_type": "code",
      "source": [
        "logit=model(img.unsqueeze(dim=1).to(config.DEVICE))"
      ],
      "metadata": {
        "id": "MTSFEmMBQZ55"
      },
      "execution_count": 63,
      "outputs": []
    },
    {
      "cell_type": "markdown",
      "source": [
        ""
      ],
      "metadata": {
        "id": "PS4LCkbrRPQR"
      }
    },
    {
      "cell_type": "code",
      "source": [
        "F.softmax(logit, dim=1)"
      ],
      "metadata": {
        "colab": {
          "base_uri": "https://localhost:8080/"
        },
        "id": "CSLJhgtCPKmR",
        "outputId": "a72d2842-3969-4261-bf6f-320d702b6374"
      },
      "execution_count": 64,
      "outputs": [
        {
          "output_type": "execute_result",
          "data": {
            "text/plain": [
              "tensor([[0.1000, 0.1000, 0.1000, 0.1000, 0.1000, 0.1000, 0.1000, 0.1000, 0.1000,\n",
              "         0.1000]], device='cuda:0', grad_fn=<SoftmaxBackward0>)"
            ]
          },
          "metadata": {},
          "execution_count": 64
        }
      ]
    },
    {
      "cell_type": "code",
      "source": [
        "sum([0.1000, 0.1000, 0.1000, 0.1000, 0.1000, 0.1000, 0.1000, 0.1000, 0.1000,\n",
        "         0.1000])"
      ],
      "metadata": {
        "colab": {
          "base_uri": "https://localhost:8080/"
        },
        "id": "TTQcBs-0Kl9E",
        "outputId": "d3598d45-aabe-40a9-e012-f77462be210a"
      },
      "execution_count": 65,
      "outputs": [
        {
          "output_type": "execute_result",
          "data": {
            "text/plain": [
              "0.9999999999999999"
            ]
          },
          "metadata": {},
          "execution_count": 65
        }
      ]
    },
    {
      "cell_type": "code",
      "source": [
        "predicted_prob=F.softmax(logit, dim=1)"
      ],
      "metadata": {
        "id": "RzSctEL4RVmA"
      },
      "execution_count": 66,
      "outputs": []
    },
    {
      "cell_type": "code",
      "source": [
        "argmax=torch.argmax(predicted_prob).item()\n",
        "argmax"
      ],
      "metadata": {
        "colab": {
          "base_uri": "https://localhost:8080/"
        },
        "id": "5hZQxLC6RVpY",
        "outputId": "a670e672-56a6-4a03-e5e6-74d24b864364"
      },
      "execution_count": 67,
      "outputs": [
        {
          "output_type": "execute_result",
          "data": {
            "text/plain": [
              "0"
            ]
          },
          "metadata": {},
          "execution_count": 67
        }
      ]
    },
    {
      "cell_type": "code",
      "source": [
        "label_map[argmax]"
      ],
      "metadata": {
        "colab": {
          "base_uri": "https://localhost:8080/",
          "height": 36
        },
        "id": "wOnStB9GRvMh",
        "outputId": "338876b7-f29c-4fe7-a1d7-7bc173596202"
      },
      "execution_count": 68,
      "outputs": [
        {
          "output_type": "execute_result",
          "data": {
            "text/plain": [
              "'T-shirt/top'"
            ],
            "application/vnd.google.colaboratory.intrinsic+json": {
              "type": "string"
            }
          },
          "metadata": {},
          "execution_count": 68
        }
      ]
    },
    {
      "cell_type": "code",
      "source": [
        "def predict(data, model, label_map, device, idx=0):\n",
        "  images, labels=data\n",
        "  img=images[idx]\n",
        "  label=labels[idx]\n",
        "\n",
        "  plt.imshow(img.squeeze(), cmap=\"gray\")\n",
        "  logit=model(img.unsqueeze(dim=1).to(config.DEVICE))\n",
        "  predicted_prob=F.softmax(logit, dim=1)\n",
        "  argmax=torch.argmax(predicted_prob).item()\n",
        "  predicted_label=label_map[argmax]\n",
        "  actual_label=label_map[label.item()]\n",
        "  plt.title(f\"actual: {actual_label} | predicted: {predicted_label}\")\n",
        "  plt.axis(\"off\")\n",
        "  return  predicted_label, actual_label"
      ],
      "metadata": {
        "id": "yS5sBbZ2R3vg"
      },
      "execution_count": 73,
      "outputs": []
    },
    {
      "cell_type": "code",
      "source": [
        "predict(data, model, label_map, config.DEVICE, idx=2)"
      ],
      "metadata": {
        "colab": {
          "base_uri": "https://localhost:8080/",
          "height": 281
        },
        "id": "cbxENafcR3y3",
        "outputId": "0d8affe3-4b23-4a1d-8582-321a59ba3705"
      },
      "execution_count": 74,
      "outputs": [
        {
          "output_type": "execute_result",
          "data": {
            "text/plain": [
              "('T-shirt/top', 'Trouser')"
            ]
          },
          "metadata": {},
          "execution_count": 74
        },
        {
          "output_type": "display_data",
          "data": {
            "text/plain": [
              "<Figure size 432x288 with 1 Axes>"
            ],
            "image/png": "[encoded data removed]"
          },
          "metadata": {
            "needs_background": "light"
          }
        }
      ]
    },
    {
      "cell_type": "code",
      "source": [
        ""
      ],
      "metadata": {
        "id": "9pTq0fYFR31s"
      },
      "execution_count": null,
      "outputs": []
    },
    {
      "cell_type": "code",
      "source": [
        ""
      ],
      "metadata": {
        "id": "yuvEfrLPR34W"
      },
      "execution_count": null,
      "outputs": []
    }
  ]
}