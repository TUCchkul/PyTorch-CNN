{
  "nbformat": 4,
  "nbformat_minor": 0,
  "metadata": {
    "colab": {
      "name": "transfer_learning.ipynb",
      "provenance": [],
      "mount_file_id": "1JXnglbv-UnlJcljcOqRTBGtAI7h09ChD",
      "authorship_tag": "ABX9TyNTVbF0lCg0oPw0xcsibAmT",
      "include_colab_link": true
    },
    "kernelspec": {
      "name": "python3",
      "display_name": "Python 3"
    },
    "language_info": {
      "name": "python"
    },
    "accelerator": "GPU",
    "gpuClass": "standard"
  },
  "cells": [
    {
      "cell_type": "markdown",
      "metadata": {
        "id": "view-in-github",
        "colab_type": "text"
      },
      "source": [
        "<a href=\"https://colab.research.google.com/github/TUCchkul/PyTorch-CNN/blob/main/transfer_learning.ipynb\" target=\"_parent\"><img src=\"https://colab.research.google.com/assets/colab-badge.svg\" alt=\"Open In Colab\"/></a>"
      ]
    },
    {
      "cell_type": "code",
      "execution_count": 60,
      "metadata": {
        "colab": {
          "base_uri": "https://localhost:8080/"
        },
        "id": "hBhG1ZofYzgX",
        "outputId": "aea505ce-6113-45ad-877a-2c7432652fc1"
      },
      "outputs": [
        {
          "output_type": "stream",
          "name": "stdout",
          "text": [
            "/content/drive/MyDrive/Pytorch\n"
          ]
        }
      ],
      "source": [
        "%cd /content/drive/MyDrive/Pytorch"
      ]
    },
    {
      "cell_type": "code",
      "source": [
        "!pwd"
      ],
      "metadata": {
        "colab": {
          "base_uri": "https://localhost:8080/"
        },
        "id": "67ANYn6pZPHI",
        "outputId": "13072233-2730-4de1-896f-9b9580fd118d"
      },
      "execution_count": 61,
      "outputs": [
        {
          "output_type": "stream",
          "name": "stdout",
          "text": [
            "/content/drive/MyDrive/Pytorch\n"
          ]
        }
      ]
    },
    {
      "cell_type": "code",
      "source": [
        "import os\n",
        "import numpy as np\n",
        "import pandas as pd\n",
        "import matplotlib.pyplot as plt\n",
        "import seaborn as sns\n",
        "import torch\n",
        "import torch.nn as nn\n",
        "from torch.utils.data import DataLoader\n",
        "from torchvision import transforms, datasets, models\n",
        "import torch.nn.functional as F\n",
        "from sklearn.metrics import confusion_matrix\n",
        "from tqdm import tqdm\n",
        "import urllib.request as request"
      ],
      "metadata": {
        "id": "8hXbqyurZPKP"
      },
      "execution_count": 62,
      "outputs": []
    },
    {
      "cell_type": "code",
      "source": [
        "class Config:\n",
        "  def __init__(self):\n",
        "    self.ROOT_DATA_DIR=\"hymenoptera_data_new\"\n",
        "    self.EPOCH=50\n",
        "    self.LEARNING_RATE=0.01\n",
        "    self.BATCH_SIZE=32\n",
        "    self.IMAGE_SIZE=(224,224)\n",
        "    self.DEVICE=\"cuda\" if torch.cuda.is_available() else \"CPU\"\n",
        "    print(f\"THis notebook is using the device: {self.DEVICE}\")\n",
        "    self.SEED=2022\n",
        "    self.create_dir(dir_path=self.ROOT_DATA_DIR)\n",
        "  def create_dir(self, dir_path):\n",
        "    os.makedirs(dir_path, exist_ok=True)\n",
        "    print(f\"{dir_path} directory is created\")\n",
        "\n",
        "\n",
        "config=Config()"
      ],
      "metadata": {
        "colab": {
          "base_uri": "https://localhost:8080/"
        },
        "id": "_8mzM9u2ZU86",
        "outputId": "11999d70-b830-4da0-81e7-bb61e9fb1800"
      },
      "execution_count": 63,
      "outputs": [
        {
          "output_type": "stream",
          "name": "stdout",
          "text": [
            "THis notebook is using the device: cuda\n",
            "hymenoptera_data_new directory is created\n"
          ]
        }
      ]
    },
    {
      "cell_type": "code",
      "source": [
        ""
      ],
      "metadata": {
        "id": "PcM__-ImjA5d"
      },
      "execution_count": 63,
      "outputs": []
    },
    {
      "cell_type": "code",
      "source": [
        "data_URL=\"https://download.pytorch.org/tutorial/hymenoptera_data.zip\""
      ],
      "metadata": {
        "id": "HXK-yyH7ZVAC"
      },
      "execution_count": 64,
      "outputs": []
    },
    {
      "cell_type": "code",
      "source": [
        "config.create_dir(dir_path=config.ROOT_DATA_DIR)\n"
      ],
      "metadata": {
        "colab": {
          "base_uri": "https://localhost:8080/"
        },
        "id": "YddJyywEfkYv",
        "outputId": "0bab16a1-898b-4670-b7ac-9162dffae6ad"
      },
      "execution_count": 65,
      "outputs": [
        {
          "output_type": "stream",
          "name": "stdout",
          "text": [
            "hymenoptera_data_new directory is created\n"
          ]
        }
      ]
    },
    {
      "cell_type": "code",
      "source": [
        "data_zip_file=\"data.zip\"\n",
        "data_file_path=os.path.join(config.ROOT_DATA_DIR, data_zip_file)\n",
        "request.urlretrieve(data_URL,data_file_path)"
      ],
      "metadata": {
        "colab": {
          "base_uri": "https://localhost:8080/"
        },
        "id": "f_cv13KzfkcG",
        "outputId": "df46c151-d336-40f7-c20c-b3a57eff4390"
      },
      "execution_count": 66,
      "outputs": [
        {
          "output_type": "execute_result",
          "data": {
            "text/plain": [
              "('hymenoptera_data_new/data.zip', <http.client.HTTPMessage at 0x7f9a705726d0>)"
            ]
          },
          "metadata": {},
          "execution_count": 66
        }
      ]
    },
    {
      "cell_type": "code",
      "source": [
        "from zipfile import ZipFile\n",
        "\n",
        "def unzip_file(source: str, dest: str) -> None:\n",
        "  print(f\"Extraction started........\")\n",
        "  with ZipFile(source, \"r\") as zip_f:\n",
        "    zip_f.extractall(dest)\n",
        "  print(f\"extracted {source} to {dest}\")"
      ],
      "metadata": {
        "id": "vESH8YkbfkfT"
      },
      "execution_count": 67,
      "outputs": []
    },
    {
      "cell_type": "code",
      "source": [
        "unzip_file(data_file_path, config.ROOT_DATA_DIR)"
      ],
      "metadata": {
        "colab": {
          "base_uri": "https://localhost:8080/"
        },
        "id": "7lFQBpuiZVC2",
        "outputId": "2b97baca-281e-47af-b537-f196653fbf81"
      },
      "execution_count": 68,
      "outputs": [
        {
          "output_type": "stream",
          "name": "stdout",
          "text": [
            "Extraction started........\n",
            "extracted hymenoptera_data_new/data.zip to hymenoptera_data_new\n"
          ]
        }
      ]
    },
    {
      "cell_type": "code",
      "source": [
        "# Create data loader\n",
        "!ls hymenoptera_data_new/hymenoptera_data/train"
      ],
      "metadata": {
        "colab": {
          "base_uri": "https://localhost:8080/"
        },
        "id": "hcS0ucihq0MG",
        "outputId": "4f8c9a84-88fb-4a23-8e6a-a8ab306e4e03"
      },
      "execution_count": 69,
      "outputs": [
        {
          "output_type": "stream",
          "name": "stdout",
          "text": [
            "ants  bees\n"
          ]
        }
      ]
    },
    {
      "cell_type": "code",
      "source": [
        "from pathlib import Path"
      ],
      "metadata": {
        "id": "MBAU8FEcrwcP"
      },
      "execution_count": 70,
      "outputs": []
    },
    {
      "cell_type": "code",
      "source": [
        "Path(\"hymenoptera_data_new/hymenoptera_data/train\")"
      ],
      "metadata": {
        "colab": {
          "base_uri": "https://localhost:8080/"
        },
        "id": "EkW8kqxctvxm",
        "outputId": "bd7ae141-60b2-4e58-f949-24bb58386d99"
      },
      "execution_count": 71,
      "outputs": [
        {
          "output_type": "execute_result",
          "data": {
            "text/plain": [
              "PosixPath('hymenoptera_data_new/hymenoptera_data/train')"
            ]
          },
          "metadata": {},
          "execution_count": 71
        }
      ]
    },
    {
      "cell_type": "markdown",
      "source": [
        "# Create data loader"
      ],
      "metadata": {
        "id": "GxGPWPkeuwgv"
      }
    },
    {
      "cell_type": "code",
      "source": [
        "train_path=Path(\"hymenoptera_data_new/hymenoptera_data/train\")\n",
        "test_path=Path(\"hymenoptera_data_new/hymenoptera_data/val\")"
      ],
      "metadata": {
        "id": "VdM9cKkAq0PO"
      },
      "execution_count": 72,
      "outputs": []
    },
    {
      "cell_type": "markdown",
      "source": [
        "mean of each channel of the image for 28,28 img size\n",
        "\n",
        "mean=sum(value of the pixels)/784\n",
        "\n",
        "std=(data-mean)/std"
      ],
      "metadata": {
        "id": "oqaja3zrvW_5"
      }
    },
    {
      "cell_type": "code",
      "source": [
        "mean=torch.tensor([0.5,0.5,0.5])\n",
        "std=torch.tensor([0.5,0.5,0.5])"
      ],
      "metadata": {
        "id": "qrHiblGjq0Sm"
      },
      "execution_count": 73,
      "outputs": []
    },
    {
      "cell_type": "code",
      "source": [
        "train_transforms=transforms.Compose(\n",
        "    [\n",
        "     transforms.Resize(config.IMAGE_SIZE),\n",
        "     transforms.RandomRotation(degrees=20),\n",
        "     transforms.ToTensor(),\n",
        "     transforms.Normalize(mean,std)\n",
        "    ]\n",
        ")\n",
        "test_transforms=transforms.Compose(\n",
        "    [\n",
        "     transforms.Resize(config.IMAGE_SIZE),\n",
        "     transforms.ToTensor(),\n",
        "     transforms.Normalize(mean,std)\n",
        "    ]\n",
        ")"
      ],
      "metadata": {
        "id": "OIzGq8GAu0N-"
      },
      "execution_count": 74,
      "outputs": []
    },
    {
      "cell_type": "code",
      "source": [
        "train_data=datasets.ImageFolder(root=train_path, transform=train_transforms)\n",
        "test_data=datasets.ImageFolder(root=test_path, transform=test_transforms)"
      ],
      "metadata": {
        "id": "1scxDsE4u0RA"
      },
      "execution_count": 75,
      "outputs": []
    },
    {
      "cell_type": "code",
      "source": [
        "train_data.class_to_idx"
      ],
      "metadata": {
        "colab": {
          "base_uri": "https://localhost:8080/"
        },
        "id": "ONxH7Fgcu0TU",
        "outputId": "30605862-fa45-42b7-86ab-f787a762abe7"
      },
      "execution_count": 76,
      "outputs": [
        {
          "output_type": "execute_result",
          "data": {
            "text/plain": [
              "{'ants': 0, 'bees': 1}"
            ]
          },
          "metadata": {},
          "execution_count": 76
        }
      ]
    },
    {
      "cell_type": "code",
      "source": [
        "label_map=train_data.class_to_idx"
      ],
      "metadata": {
        "id": "PhRKwk1-u0Vw"
      },
      "execution_count": 77,
      "outputs": []
    },
    {
      "cell_type": "code",
      "source": [
        "train_data"
      ],
      "metadata": {
        "colab": {
          "base_uri": "https://localhost:8080/"
        },
        "id": "qK9I1_GZzUON",
        "outputId": "18ed1284-163e-4905-b94f-80f638e8c950"
      },
      "execution_count": 78,
      "outputs": [
        {
          "output_type": "execute_result",
          "data": {
            "text/plain": [
              "Dataset ImageFolder\n",
              "    Number of datapoints: 244\n",
              "    Root location: hymenoptera_data_new/hymenoptera_data/train\n",
              "    StandardTransform\n",
              "Transform: Compose(\n",
              "               Resize(size=(224, 224), interpolation=bilinear, max_size=None, antialias=None)\n",
              "               RandomRotation(degrees=[-20.0, 20.0], interpolation=nearest, expand=False, fill=0)\n",
              "               ToTensor()\n",
              "               Normalize(mean=tensor([0.5000, 0.5000, 0.5000]), std=tensor([0.5000, 0.5000, 0.5000]))\n",
              "           )"
            ]
          },
          "metadata": {},
          "execution_count": 78
        }
      ]
    },
    {
      "cell_type": "code",
      "source": [
        "test_data"
      ],
      "metadata": {
        "colab": {
          "base_uri": "https://localhost:8080/"
        },
        "id": "cenfnmjBzywN",
        "outputId": "efd79c11-ee3e-48d5-a7b9-37e78d6eecf8"
      },
      "execution_count": 79,
      "outputs": [
        {
          "output_type": "execute_result",
          "data": {
            "text/plain": [
              "Dataset ImageFolder\n",
              "    Number of datapoints: 153\n",
              "    Root location: hymenoptera_data_new/hymenoptera_data/val\n",
              "    StandardTransform\n",
              "Transform: Compose(\n",
              "               Resize(size=(224, 224), interpolation=bilinear, max_size=None, antialias=None)\n",
              "               ToTensor()\n",
              "               Normalize(mean=tensor([0.5000, 0.5000, 0.5000]), std=tensor([0.5000, 0.5000, 0.5000]))\n",
              "           )"
            ]
          },
          "metadata": {},
          "execution_count": 79
        }
      ]
    },
    {
      "cell_type": "code",
      "source": [
        "train_loader=DataLoader(train_data, shuffle=True, batch_size=config.BATCH_SIZE)\n",
        "test_loader=DataLoader(test_data, shuffle=False, batch_size=config.BATCH_SIZE)"
      ],
      "metadata": {
        "id": "98IiITW9zy0S"
      },
      "execution_count": 80,
      "outputs": []
    },
    {
      "cell_type": "code",
      "source": [
        "data=next(iter(train_loader))"
      ],
      "metadata": {
        "id": "vWI3qK660Wra"
      },
      "execution_count": 81,
      "outputs": []
    },
    {
      "cell_type": "code",
      "source": [
        "len(data)"
      ],
      "metadata": {
        "colab": {
          "base_uri": "https://localhost:8080/"
        },
        "id": "YoZsPcLH0Wtx",
        "outputId": "acc6f91f-1ee9-428e-bd59-4619cf870d24"
      },
      "execution_count": 82,
      "outputs": [
        {
          "output_type": "execute_result",
          "data": {
            "text/plain": [
              "2"
            ]
          },
          "metadata": {},
          "execution_count": 82
        }
      ]
    },
    {
      "cell_type": "code",
      "source": [
        "images, labels=data\n",
        "images.shape"
      ],
      "metadata": {
        "colab": {
          "base_uri": "https://localhost:8080/"
        },
        "id": "vmOfiFfd0WwR",
        "outputId": "6a069c3b-8838-4468-deb3-449e5041aede"
      },
      "execution_count": 83,
      "outputs": [
        {
          "output_type": "execute_result",
          "data": {
            "text/plain": [
              "torch.Size([32, 3, 224, 224])"
            ]
          },
          "metadata": {},
          "execution_count": 83
        }
      ]
    },
    {
      "cell_type": "code",
      "source": [
        "labels.shape"
      ],
      "metadata": {
        "colab": {
          "base_uri": "https://localhost:8080/"
        },
        "id": "KcdZVOaY0Wyx",
        "outputId": "c53bcfe0-1c0c-4ed2-aef5-073ca02d77e8"
      },
      "execution_count": 84,
      "outputs": [
        {
          "output_type": "execute_result",
          "data": {
            "text/plain": [
              "torch.Size([32])"
            ]
          },
          "metadata": {},
          "execution_count": 84
        }
      ]
    },
    {
      "cell_type": "code",
      "source": [
        "img=images[0]\n",
        "img.shape"
      ],
      "metadata": {
        "colab": {
          "base_uri": "https://localhost:8080/"
        },
        "id": "-v0bOyJmzURX",
        "outputId": "ed1118c2-2811-4a00-d37f-8a1b784238eb"
      },
      "execution_count": 85,
      "outputs": [
        {
          "output_type": "execute_result",
          "data": {
            "text/plain": [
              "torch.Size([3, 224, 224])"
            ]
          },
          "metadata": {},
          "execution_count": 85
        }
      ]
    },
    {
      "cell_type": "code",
      "source": [
        "plt.imshow(img)"
      ],
      "metadata": {
        "colab": {
          "base_uri": "https://localhost:8080/",
          "height": 563
        },
        "id": "GU1gxhp50wro",
        "outputId": "0c7194bd-429d-4f03-8f6f-746c4c4084b8"
      },
      "execution_count": 86,
      "outputs": [
        {
          "output_type": "error",
          "ename": "TypeError",
          "evalue": "ignored",
          "traceback": [
            "\u001b[0;31m---------------------------------------------------------------------------\u001b[0m",
            "\u001b[0;31mTypeError\u001b[0m                                 Traceback (most recent call last)",
            "\u001b[0;32m<ipython-input-86-23af6c37b3d0>\u001b[0m in \u001b[0;36m<module>\u001b[0;34m()\u001b[0m\n\u001b[0;32m----> 1\u001b[0;31m \u001b[0mplt\u001b[0m\u001b[0;34m.\u001b[0m\u001b[0mimshow\u001b[0m\u001b[0;34m(\u001b[0m\u001b[0mimg\u001b[0m\u001b[0;34m)\u001b[0m\u001b[0;34m\u001b[0m\u001b[0;34m\u001b[0m\u001b[0m\n\u001b[0m",
            "\u001b[0;32m/usr/local/lib/python3.7/dist-packages/matplotlib/pyplot.py\u001b[0m in \u001b[0;36mimshow\u001b[0;34m(X, cmap, norm, aspect, interpolation, alpha, vmin, vmax, origin, extent, shape, filternorm, filterrad, imlim, resample, url, data, **kwargs)\u001b[0m\n\u001b[1;32m   2649\u001b[0m         \u001b[0mfilternorm\u001b[0m\u001b[0;34m=\u001b[0m\u001b[0mfilternorm\u001b[0m\u001b[0;34m,\u001b[0m \u001b[0mfilterrad\u001b[0m\u001b[0;34m=\u001b[0m\u001b[0mfilterrad\u001b[0m\u001b[0;34m,\u001b[0m \u001b[0mimlim\u001b[0m\u001b[0;34m=\u001b[0m\u001b[0mimlim\u001b[0m\u001b[0;34m,\u001b[0m\u001b[0;34m\u001b[0m\u001b[0;34m\u001b[0m\u001b[0m\n\u001b[1;32m   2650\u001b[0m         resample=resample, url=url, **({\"data\": data} if data is not\n\u001b[0;32m-> 2651\u001b[0;31m         None else {}), **kwargs)\n\u001b[0m\u001b[1;32m   2652\u001b[0m     \u001b[0msci\u001b[0m\u001b[0;34m(\u001b[0m\u001b[0m__ret\u001b[0m\u001b[0;34m)\u001b[0m\u001b[0;34m\u001b[0m\u001b[0;34m\u001b[0m\u001b[0m\n\u001b[1;32m   2653\u001b[0m     \u001b[0;32mreturn\u001b[0m \u001b[0m__ret\u001b[0m\u001b[0;34m\u001b[0m\u001b[0;34m\u001b[0m\u001b[0m\n",
            "\u001b[0;32m/usr/local/lib/python3.7/dist-packages/matplotlib/__init__.py\u001b[0m in \u001b[0;36minner\u001b[0;34m(ax, data, *args, **kwargs)\u001b[0m\n\u001b[1;32m   1563\u001b[0m     \u001b[0;32mdef\u001b[0m \u001b[0minner\u001b[0m\u001b[0;34m(\u001b[0m\u001b[0max\u001b[0m\u001b[0;34m,\u001b[0m \u001b[0;34m*\u001b[0m\u001b[0margs\u001b[0m\u001b[0;34m,\u001b[0m \u001b[0mdata\u001b[0m\u001b[0;34m=\u001b[0m\u001b[0;32mNone\u001b[0m\u001b[0;34m,\u001b[0m \u001b[0;34m**\u001b[0m\u001b[0mkwargs\u001b[0m\u001b[0;34m)\u001b[0m\u001b[0;34m:\u001b[0m\u001b[0;34m\u001b[0m\u001b[0;34m\u001b[0m\u001b[0m\n\u001b[1;32m   1564\u001b[0m         \u001b[0;32mif\u001b[0m \u001b[0mdata\u001b[0m \u001b[0;32mis\u001b[0m \u001b[0;32mNone\u001b[0m\u001b[0;34m:\u001b[0m\u001b[0;34m\u001b[0m\u001b[0;34m\u001b[0m\u001b[0m\n\u001b[0;32m-> 1565\u001b[0;31m             \u001b[0;32mreturn\u001b[0m \u001b[0mfunc\u001b[0m\u001b[0;34m(\u001b[0m\u001b[0max\u001b[0m\u001b[0;34m,\u001b[0m \u001b[0;34m*\u001b[0m\u001b[0mmap\u001b[0m\u001b[0;34m(\u001b[0m\u001b[0msanitize_sequence\u001b[0m\u001b[0;34m,\u001b[0m \u001b[0margs\u001b[0m\u001b[0;34m)\u001b[0m\u001b[0;34m,\u001b[0m \u001b[0;34m**\u001b[0m\u001b[0mkwargs\u001b[0m\u001b[0;34m)\u001b[0m\u001b[0;34m\u001b[0m\u001b[0;34m\u001b[0m\u001b[0m\n\u001b[0m\u001b[1;32m   1566\u001b[0m \u001b[0;34m\u001b[0m\u001b[0m\n\u001b[1;32m   1567\u001b[0m         \u001b[0mbound\u001b[0m \u001b[0;34m=\u001b[0m \u001b[0mnew_sig\u001b[0m\u001b[0;34m.\u001b[0m\u001b[0mbind\u001b[0m\u001b[0;34m(\u001b[0m\u001b[0max\u001b[0m\u001b[0;34m,\u001b[0m \u001b[0;34m*\u001b[0m\u001b[0margs\u001b[0m\u001b[0;34m,\u001b[0m \u001b[0;34m**\u001b[0m\u001b[0mkwargs\u001b[0m\u001b[0;34m)\u001b[0m\u001b[0;34m\u001b[0m\u001b[0;34m\u001b[0m\u001b[0m\n",
            "\u001b[0;32m/usr/local/lib/python3.7/dist-packages/matplotlib/cbook/deprecation.py\u001b[0m in \u001b[0;36mwrapper\u001b[0;34m(*args, **kwargs)\u001b[0m\n\u001b[1;32m    356\u001b[0m                 \u001b[0;34mf\"%(removal)s.  If any parameter follows {name!r}, they \"\u001b[0m\u001b[0;34m\u001b[0m\u001b[0;34m\u001b[0m\u001b[0m\n\u001b[1;32m    357\u001b[0m                 f\"should be pass as keyword, not positionally.\")\n\u001b[0;32m--> 358\u001b[0;31m         \u001b[0;32mreturn\u001b[0m \u001b[0mfunc\u001b[0m\u001b[0;34m(\u001b[0m\u001b[0;34m*\u001b[0m\u001b[0margs\u001b[0m\u001b[0;34m,\u001b[0m \u001b[0;34m**\u001b[0m\u001b[0mkwargs\u001b[0m\u001b[0;34m)\u001b[0m\u001b[0;34m\u001b[0m\u001b[0;34m\u001b[0m\u001b[0m\n\u001b[0m\u001b[1;32m    359\u001b[0m \u001b[0;34m\u001b[0m\u001b[0m\n\u001b[1;32m    360\u001b[0m     \u001b[0;32mreturn\u001b[0m \u001b[0mwrapper\u001b[0m\u001b[0;34m\u001b[0m\u001b[0;34m\u001b[0m\u001b[0m\n",
            "\u001b[0;32m/usr/local/lib/python3.7/dist-packages/matplotlib/cbook/deprecation.py\u001b[0m in \u001b[0;36mwrapper\u001b[0;34m(*args, **kwargs)\u001b[0m\n\u001b[1;32m    356\u001b[0m                 \u001b[0;34mf\"%(removal)s.  If any parameter follows {name!r}, they \"\u001b[0m\u001b[0;34m\u001b[0m\u001b[0;34m\u001b[0m\u001b[0m\n\u001b[1;32m    357\u001b[0m                 f\"should be pass as keyword, not positionally.\")\n\u001b[0;32m--> 358\u001b[0;31m         \u001b[0;32mreturn\u001b[0m \u001b[0mfunc\u001b[0m\u001b[0;34m(\u001b[0m\u001b[0;34m*\u001b[0m\u001b[0margs\u001b[0m\u001b[0;34m,\u001b[0m \u001b[0;34m**\u001b[0m\u001b[0mkwargs\u001b[0m\u001b[0;34m)\u001b[0m\u001b[0;34m\u001b[0m\u001b[0;34m\u001b[0m\u001b[0m\n\u001b[0m\u001b[1;32m    359\u001b[0m \u001b[0;34m\u001b[0m\u001b[0m\n\u001b[1;32m    360\u001b[0m     \u001b[0;32mreturn\u001b[0m \u001b[0mwrapper\u001b[0m\u001b[0;34m\u001b[0m\u001b[0;34m\u001b[0m\u001b[0m\n",
            "\u001b[0;32m/usr/local/lib/python3.7/dist-packages/matplotlib/axes/_axes.py\u001b[0m in \u001b[0;36mimshow\u001b[0;34m(self, X, cmap, norm, aspect, interpolation, alpha, vmin, vmax, origin, extent, shape, filternorm, filterrad, imlim, resample, url, **kwargs)\u001b[0m\n\u001b[1;32m   5624\u001b[0m                               resample=resample, **kwargs)\n\u001b[1;32m   5625\u001b[0m \u001b[0;34m\u001b[0m\u001b[0m\n\u001b[0;32m-> 5626\u001b[0;31m         \u001b[0mim\u001b[0m\u001b[0;34m.\u001b[0m\u001b[0mset_data\u001b[0m\u001b[0;34m(\u001b[0m\u001b[0mX\u001b[0m\u001b[0;34m)\u001b[0m\u001b[0;34m\u001b[0m\u001b[0;34m\u001b[0m\u001b[0m\n\u001b[0m\u001b[1;32m   5627\u001b[0m         \u001b[0mim\u001b[0m\u001b[0;34m.\u001b[0m\u001b[0mset_alpha\u001b[0m\u001b[0;34m(\u001b[0m\u001b[0malpha\u001b[0m\u001b[0;34m)\u001b[0m\u001b[0;34m\u001b[0m\u001b[0;34m\u001b[0m\u001b[0m\n\u001b[1;32m   5628\u001b[0m         \u001b[0;32mif\u001b[0m \u001b[0mim\u001b[0m\u001b[0;34m.\u001b[0m\u001b[0mget_clip_path\u001b[0m\u001b[0;34m(\u001b[0m\u001b[0;34m)\u001b[0m \u001b[0;32mis\u001b[0m \u001b[0;32mNone\u001b[0m\u001b[0;34m:\u001b[0m\u001b[0;34m\u001b[0m\u001b[0;34m\u001b[0m\u001b[0m\n",
            "\u001b[0;32m/usr/local/lib/python3.7/dist-packages/matplotlib/image.py\u001b[0m in \u001b[0;36mset_data\u001b[0;34m(self, A)\u001b[0m\n\u001b[1;32m    697\u001b[0m                 or self._A.ndim == 3 and self._A.shape[-1] in [3, 4]):\n\u001b[1;32m    698\u001b[0m             raise TypeError(\"Invalid shape {} for image data\"\n\u001b[0;32m--> 699\u001b[0;31m                             .format(self._A.shape))\n\u001b[0m\u001b[1;32m    700\u001b[0m \u001b[0;34m\u001b[0m\u001b[0m\n\u001b[1;32m    701\u001b[0m         \u001b[0;32mif\u001b[0m \u001b[0mself\u001b[0m\u001b[0;34m.\u001b[0m\u001b[0m_A\u001b[0m\u001b[0;34m.\u001b[0m\u001b[0mndim\u001b[0m \u001b[0;34m==\u001b[0m \u001b[0;36m3\u001b[0m\u001b[0;34m:\u001b[0m\u001b[0;34m\u001b[0m\u001b[0;34m\u001b[0m\u001b[0m\n",
            "\u001b[0;31mTypeError\u001b[0m: Invalid shape (3, 224, 224) for image data"
          ]
        },
        {
          "output_type": "display_data",
          "data": {
            "text/plain": [
              "<Figure size 432x288 with 1 Axes>"
            ],
            "image/png": "[encoded data removed]"
          },
          "metadata": {
            "needs_background": "light"
          }
        }
      ]
    },
    {
      "cell_type": "code",
      "source": [
        "plt.imshow(img.permute(1,2,0))"
      ],
      "metadata": {
        "colab": {
          "base_uri": "https://localhost:8080/",
          "height": 304
        },
        "id": "yiyD5AhX05bf",
        "outputId": "ae50d657-fb0f-4064-a331-caaba048f2fb"
      },
      "execution_count": 87,
      "outputs": [
        {
          "output_type": "stream",
          "name": "stderr",
          "text": [
            "Clipping input data to the valid range for imshow with RGB data ([0..1] for floats or [0..255] for integers).\n"
          ]
        },
        {
          "output_type": "execute_result",
          "data": {
            "text/plain": [
              "<matplotlib.image.AxesImage at 0x7f9a701743d0>"
            ]
          },
          "metadata": {},
          "execution_count": 87
        },
        {
          "output_type": "display_data",
          "data": {
            "text/plain": [
              "<Figure size 432x288 with 1 Axes>"
            ],
            "image/png": "[encoded data removed]"
          },
          "metadata": {
            "needs_background": "light"
          }
        }
      ]
    },
    {
      "cell_type": "code",
      "source": [
        "# Download pretrain model\n",
        "model=models.alexnet(pretrained=True)"
      ],
      "metadata": {
        "id": "8IbUblv005fr"
      },
      "execution_count": 88,
      "outputs": []
    },
    {
      "cell_type": "code",
      "source": [
        "print(model)"
      ],
      "metadata": {
        "colab": {
          "base_uri": "https://localhost:8080/"
        },
        "id": "nRW0Ujqd1QVd",
        "outputId": "63bfb9cd-cd04-44db-d32b-b34eccc25260"
      },
      "execution_count": 89,
      "outputs": [
        {
          "output_type": "stream",
          "name": "stdout",
          "text": [
            "AlexNet(\n",
            "  (features): Sequential(\n",
            "    (0): Conv2d(3, 64, kernel_size=(11, 11), stride=(4, 4), padding=(2, 2))\n",
            "    (1): ReLU(inplace=True)\n",
            "    (2): MaxPool2d(kernel_size=3, stride=2, padding=0, dilation=1, ceil_mode=False)\n",
            "    (3): Conv2d(64, 192, kernel_size=(5, 5), stride=(1, 1), padding=(2, 2))\n",
            "    (4): ReLU(inplace=True)\n",
            "    (5): MaxPool2d(kernel_size=3, stride=2, padding=0, dilation=1, ceil_mode=False)\n",
            "    (6): Conv2d(192, 384, kernel_size=(3, 3), stride=(1, 1), padding=(1, 1))\n",
            "    (7): ReLU(inplace=True)\n",
            "    (8): Conv2d(384, 256, kernel_size=(3, 3), stride=(1, 1), padding=(1, 1))\n",
            "    (9): ReLU(inplace=True)\n",
            "    (10): Conv2d(256, 256, kernel_size=(3, 3), stride=(1, 1), padding=(1, 1))\n",
            "    (11): ReLU(inplace=True)\n",
            "    (12): MaxPool2d(kernel_size=3, stride=2, padding=0, dilation=1, ceil_mode=False)\n",
            "  )\n",
            "  (avgpool): AdaptiveAvgPool2d(output_size=(6, 6))\n",
            "  (classifier): Sequential(\n",
            "    (0): Dropout(p=0.5, inplace=False)\n",
            "    (1): Linear(in_features=9216, out_features=4096, bias=True)\n",
            "    (2): ReLU(inplace=True)\n",
            "    (3): Dropout(p=0.5, inplace=False)\n",
            "    (4): Linear(in_features=4096, out_features=4096, bias=True)\n",
            "    (5): ReLU(inplace=True)\n",
            "    (6): Linear(in_features=4096, out_features=1000, bias=True)\n",
            "  )\n",
            ")\n"
          ]
        }
      ]
    },
    {
      "cell_type": "code",
      "source": [
        "#Checking how many trainble parameters in a model\n",
        "def count_params(model):\n",
        "  model_params={\"Modules\":list(), \"Parameters\":list()}\n",
        "  total={\"trainable\":0, \"non_trainable\":0}\n",
        "  for name, parameters in model.named_parameters():\n",
        "    param=parameters.numel()\n",
        "    if not parameters.requires_grad:\n",
        "      total[\"non_trainable\"] +=param\n",
        "\n",
        "      continue\n",
        "    \n",
        "    model_params[\"Modules\"].append(name)\n",
        "    model_params[\"Parameters\"].append(param)\n",
        "    total[\"trainable\"] +=param\n",
        "  df=pd.DataFrame(model_params)\n",
        "  df=df.style.set_caption(f\"Total trainable parameters: {total}\")\n",
        "  return df\n",
        "count_params(model)"
      ],
      "metadata": {
        "colab": {
          "base_uri": "https://localhost:8080/",
          "height": 586
        },
        "id": "xvdmEqSI1QYV",
        "outputId": "f4213299-e52f-451e-fbc1-6025d23ec40e"
      },
      "execution_count": 90,
      "outputs": [
        {
          "output_type": "execute_result",
          "data": {
            "text/plain": [
              "<pandas.io.formats.style.Styler at 0x7f9a7015d390>"
            ],
            "text/html": [
              "<style type=\"text/css\">\n",
              "</style>\n",
              "<table id=\"T_5351a_\" class=\"dataframe\">\n",
              "  <caption>Total trainable parameters: {'trainable': 61100840, 'non_trainable': 0}</caption>\n",
              "  <thead>\n",
              "    <tr>\n",
              "      <th class=\"blank level0\" >&nbsp;</th>\n",
              "      <th class=\"col_heading level0 col0\" >Modules</th>\n",
              "      <th class=\"col_heading level0 col1\" >Parameters</th>\n",
              "    </tr>\n",
              "  </thead>\n",
              "  <tbody>\n",
              "    <tr>\n",
              "      <th id=\"T_5351a_level0_row0\" class=\"row_heading level0 row0\" >0</th>\n",
              "      <td id=\"T_5351a_row0_col0\" class=\"data row0 col0\" >features.0.weight</td>\n",
              "      <td id=\"T_5351a_row0_col1\" class=\"data row0 col1\" >23232</td>\n",
              "    </tr>\n",
              "    <tr>\n",
              "      <th id=\"T_5351a_level0_row1\" class=\"row_heading level0 row1\" >1</th>\n",
              "      <td id=\"T_5351a_row1_col0\" class=\"data row1 col0\" >features.0.bias</td>\n",
              "      <td id=\"T_5351a_row1_col1\" class=\"data row1 col1\" >64</td>\n",
              "    </tr>\n",
              "    <tr>\n",
              "      <th id=\"T_5351a_level0_row2\" class=\"row_heading level0 row2\" >2</th>\n",
              "      <td id=\"T_5351a_row2_col0\" class=\"data row2 col0\" >features.3.weight</td>\n",
              "      <td id=\"T_5351a_row2_col1\" class=\"data row2 col1\" >307200</td>\n",
              "    </tr>\n",
              "    <tr>\n",
              "      <th id=\"T_5351a_level0_row3\" class=\"row_heading level0 row3\" >3</th>\n",
              "      <td id=\"T_5351a_row3_col0\" class=\"data row3 col0\" >features.3.bias</td>\n",
              "      <td id=\"T_5351a_row3_col1\" class=\"data row3 col1\" >192</td>\n",
              "    </tr>\n",
              "    <tr>\n",
              "      <th id=\"T_5351a_level0_row4\" class=\"row_heading level0 row4\" >4</th>\n",
              "      <td id=\"T_5351a_row4_col0\" class=\"data row4 col0\" >features.6.weight</td>\n",
              "      <td id=\"T_5351a_row4_col1\" class=\"data row4 col1\" >663552</td>\n",
              "    </tr>\n",
              "    <tr>\n",
              "      <th id=\"T_5351a_level0_row5\" class=\"row_heading level0 row5\" >5</th>\n",
              "      <td id=\"T_5351a_row5_col0\" class=\"data row5 col0\" >features.6.bias</td>\n",
              "      <td id=\"T_5351a_row5_col1\" class=\"data row5 col1\" >384</td>\n",
              "    </tr>\n",
              "    <tr>\n",
              "      <th id=\"T_5351a_level0_row6\" class=\"row_heading level0 row6\" >6</th>\n",
              "      <td id=\"T_5351a_row6_col0\" class=\"data row6 col0\" >features.8.weight</td>\n",
              "      <td id=\"T_5351a_row6_col1\" class=\"data row6 col1\" >884736</td>\n",
              "    </tr>\n",
              "    <tr>\n",
              "      <th id=\"T_5351a_level0_row7\" class=\"row_heading level0 row7\" >7</th>\n",
              "      <td id=\"T_5351a_row7_col0\" class=\"data row7 col0\" >features.8.bias</td>\n",
              "      <td id=\"T_5351a_row7_col1\" class=\"data row7 col1\" >256</td>\n",
              "    </tr>\n",
              "    <tr>\n",
              "      <th id=\"T_5351a_level0_row8\" class=\"row_heading level0 row8\" >8</th>\n",
              "      <td id=\"T_5351a_row8_col0\" class=\"data row8 col0\" >features.10.weight</td>\n",
              "      <td id=\"T_5351a_row8_col1\" class=\"data row8 col1\" >589824</td>\n",
              "    </tr>\n",
              "    <tr>\n",
              "      <th id=\"T_5351a_level0_row9\" class=\"row_heading level0 row9\" >9</th>\n",
              "      <td id=\"T_5351a_row9_col0\" class=\"data row9 col0\" >features.10.bias</td>\n",
              "      <td id=\"T_5351a_row9_col1\" class=\"data row9 col1\" >256</td>\n",
              "    </tr>\n",
              "    <tr>\n",
              "      <th id=\"T_5351a_level0_row10\" class=\"row_heading level0 row10\" >10</th>\n",
              "      <td id=\"T_5351a_row10_col0\" class=\"data row10 col0\" >classifier.1.weight</td>\n",
              "      <td id=\"T_5351a_row10_col1\" class=\"data row10 col1\" >37748736</td>\n",
              "    </tr>\n",
              "    <tr>\n",
              "      <th id=\"T_5351a_level0_row11\" class=\"row_heading level0 row11\" >11</th>\n",
              "      <td id=\"T_5351a_row11_col0\" class=\"data row11 col0\" >classifier.1.bias</td>\n",
              "      <td id=\"T_5351a_row11_col1\" class=\"data row11 col1\" >4096</td>\n",
              "    </tr>\n",
              "    <tr>\n",
              "      <th id=\"T_5351a_level0_row12\" class=\"row_heading level0 row12\" >12</th>\n",
              "      <td id=\"T_5351a_row12_col0\" class=\"data row12 col0\" >classifier.4.weight</td>\n",
              "      <td id=\"T_5351a_row12_col1\" class=\"data row12 col1\" >16777216</td>\n",
              "    </tr>\n",
              "    <tr>\n",
              "      <th id=\"T_5351a_level0_row13\" class=\"row_heading level0 row13\" >13</th>\n",
              "      <td id=\"T_5351a_row13_col0\" class=\"data row13 col0\" >classifier.4.bias</td>\n",
              "      <td id=\"T_5351a_row13_col1\" class=\"data row13 col1\" >4096</td>\n",
              "    </tr>\n",
              "    <tr>\n",
              "      <th id=\"T_5351a_level0_row14\" class=\"row_heading level0 row14\" >14</th>\n",
              "      <td id=\"T_5351a_row14_col0\" class=\"data row14 col0\" >classifier.6.weight</td>\n",
              "      <td id=\"T_5351a_row14_col1\" class=\"data row14 col1\" >4096000</td>\n",
              "    </tr>\n",
              "    <tr>\n",
              "      <th id=\"T_5351a_level0_row15\" class=\"row_heading level0 row15\" >15</th>\n",
              "      <td id=\"T_5351a_row15_col0\" class=\"data row15 col0\" >classifier.6.bias</td>\n",
              "      <td id=\"T_5351a_row15_col1\" class=\"data row15 col1\" >1000</td>\n",
              "    </tr>\n",
              "  </tbody>\n",
              "</table>\n"
            ]
          },
          "metadata": {},
          "execution_count": 90
        }
      ]
    },
    {
      "cell_type": "code",
      "source": [
        "# freeze all the layers\n",
        "for parameters in model.parameters():\n",
        "  print(parameters.requires_grad)"
      ],
      "metadata": {
        "colab": {
          "base_uri": "https://localhost:8080/"
        },
        "id": "eqxhGE5g1QcP",
        "outputId": "b12db978-83f4-4643-d72b-c99e3c6dae48"
      },
      "execution_count": 91,
      "outputs": [
        {
          "output_type": "stream",
          "name": "stdout",
          "text": [
            "True\n",
            "True\n",
            "True\n",
            "True\n",
            "True\n",
            "True\n",
            "True\n",
            "True\n",
            "True\n",
            "True\n",
            "True\n",
            "True\n",
            "True\n",
            "True\n",
            "True\n",
            "True\n"
          ]
        }
      ]
    },
    {
      "cell_type": "code",
      "source": [
        "#making False\n",
        "for parameters in model.parameters():\n",
        "  parameters.requires_grad=False"
      ],
      "metadata": {
        "id": "ASzWFqMs_WqH"
      },
      "execution_count": 92,
      "outputs": []
    },
    {
      "cell_type": "code",
      "source": [
        "count_params(model)"
      ],
      "metadata": {
        "colab": {
          "base_uri": "https://localhost:8080/",
          "height": 101
        },
        "id": "VFVere9T_W0-",
        "outputId": "4f214c78-0e5a-43c3-aed2-0159973ce1eb"
      },
      "execution_count": 93,
      "outputs": [
        {
          "output_type": "execute_result",
          "data": {
            "text/plain": [
              "<pandas.io.formats.style.Styler at 0x7f9a7015b110>"
            ],
            "text/html": [
              "<style type=\"text/css\">\n",
              "</style>\n",
              "<table id=\"T_005f0_\" class=\"dataframe\">\n",
              "  <caption>Total trainable parameters: {'trainable': 0, 'non_trainable': 61100840}</caption>\n",
              "  <thead>\n",
              "    <tr>\n",
              "      <th class=\"blank level0\" >&nbsp;</th>\n",
              "      <th class=\"col_heading level0 col0\" >Modules</th>\n",
              "      <th class=\"col_heading level0 col1\" >Parameters</th>\n",
              "    </tr>\n",
              "  </thead>\n",
              "  <tbody>\n",
              "  </tbody>\n",
              "</table>\n"
            ]
          },
          "metadata": {},
          "execution_count": 93
        }
      ]
    },
    {
      "cell_type": "code",
      "source": [
        "# Define our own classifier\n",
        "model.classifier"
      ],
      "metadata": {
        "colab": {
          "base_uri": "https://localhost:8080/"
        },
        "id": "2INLY-0Y_W3y",
        "outputId": "68391382-61e7-4537-b527-29e612efb419"
      },
      "execution_count": 94,
      "outputs": [
        {
          "output_type": "execute_result",
          "data": {
            "text/plain": [
              "Sequential(\n",
              "  (0): Dropout(p=0.5, inplace=False)\n",
              "  (1): Linear(in_features=9216, out_features=4096, bias=True)\n",
              "  (2): ReLU(inplace=True)\n",
              "  (3): Dropout(p=0.5, inplace=False)\n",
              "  (4): Linear(in_features=4096, out_features=4096, bias=True)\n",
              "  (5): ReLU(inplace=True)\n",
              "  (6): Linear(in_features=4096, out_features=1000, bias=True)\n",
              ")"
            ]
          },
          "metadata": {},
          "execution_count": 94
        }
      ]
    },
    {
      "cell_type": "code",
      "source": [
        "#inplace =True->\n",
        "model.classifier=nn.Sequential(\n",
        "    nn.Linear(in_features=9216, out_features=100, bias=True),\n",
        "    nn.ReLU(inplace=True),\n",
        "    nn.Dropout(p=0.5, inplace=False),\n",
        "    nn.Linear(in_features=100, out_features=2, bias=True)\n",
        ")"
      ],
      "metadata": {
        "id": "ucRNarFr0wuq"
      },
      "execution_count": 95,
      "outputs": []
    },
    {
      "cell_type": "code",
      "source": [
        "print(model)"
      ],
      "metadata": {
        "colab": {
          "base_uri": "https://localhost:8080/"
        },
        "id": "60R1D0rK_6a5",
        "outputId": "d3381e0e-4dac-4c03-f948-6a99321bbe2f"
      },
      "execution_count": 96,
      "outputs": [
        {
          "output_type": "stream",
          "name": "stdout",
          "text": [
            "AlexNet(\n",
            "  (features): Sequential(\n",
            "    (0): Conv2d(3, 64, kernel_size=(11, 11), stride=(4, 4), padding=(2, 2))\n",
            "    (1): ReLU(inplace=True)\n",
            "    (2): MaxPool2d(kernel_size=3, stride=2, padding=0, dilation=1, ceil_mode=False)\n",
            "    (3): Conv2d(64, 192, kernel_size=(5, 5), stride=(1, 1), padding=(2, 2))\n",
            "    (4): ReLU(inplace=True)\n",
            "    (5): MaxPool2d(kernel_size=3, stride=2, padding=0, dilation=1, ceil_mode=False)\n",
            "    (6): Conv2d(192, 384, kernel_size=(3, 3), stride=(1, 1), padding=(1, 1))\n",
            "    (7): ReLU(inplace=True)\n",
            "    (8): Conv2d(384, 256, kernel_size=(3, 3), stride=(1, 1), padding=(1, 1))\n",
            "    (9): ReLU(inplace=True)\n",
            "    (10): Conv2d(256, 256, kernel_size=(3, 3), stride=(1, 1), padding=(1, 1))\n",
            "    (11): ReLU(inplace=True)\n",
            "    (12): MaxPool2d(kernel_size=3, stride=2, padding=0, dilation=1, ceil_mode=False)\n",
            "  )\n",
            "  (avgpool): AdaptiveAvgPool2d(output_size=(6, 6))\n",
            "  (classifier): Sequential(\n",
            "    (0): Linear(in_features=9216, out_features=100, bias=True)\n",
            "    (1): ReLU(inplace=True)\n",
            "    (2): Dropout(p=0.5, inplace=False)\n",
            "    (3): Linear(in_features=100, out_features=2, bias=True)\n",
            "  )\n",
            ")\n"
          ]
        }
      ]
    },
    {
      "cell_type": "code",
      "source": [
        "count_params(model)"
      ],
      "metadata": {
        "colab": {
          "base_uri": "https://localhost:8080/",
          "height": 227
        },
        "id": "2_IsEqDI_6eF",
        "outputId": "0170a030-7a3e-4b80-c933-a58aa4e5e819"
      },
      "execution_count": 97,
      "outputs": [
        {
          "output_type": "execute_result",
          "data": {
            "text/plain": [
              "<pandas.io.formats.style.Styler at 0x7f9a701998d0>"
            ],
            "text/html": [
              "<style type=\"text/css\">\n",
              "</style>\n",
              "<table id=\"T_ba77b_\" class=\"dataframe\">\n",
              "  <caption>Total trainable parameters: {'trainable': 921902, 'non_trainable': 2469696}</caption>\n",
              "  <thead>\n",
              "    <tr>\n",
              "      <th class=\"blank level0\" >&nbsp;</th>\n",
              "      <th class=\"col_heading level0 col0\" >Modules</th>\n",
              "      <th class=\"col_heading level0 col1\" >Parameters</th>\n",
              "    </tr>\n",
              "  </thead>\n",
              "  <tbody>\n",
              "    <tr>\n",
              "      <th id=\"T_ba77b_level0_row0\" class=\"row_heading level0 row0\" >0</th>\n",
              "      <td id=\"T_ba77b_row0_col0\" class=\"data row0 col0\" >classifier.0.weight</td>\n",
              "      <td id=\"T_ba77b_row0_col1\" class=\"data row0 col1\" >921600</td>\n",
              "    </tr>\n",
              "    <tr>\n",
              "      <th id=\"T_ba77b_level0_row1\" class=\"row_heading level0 row1\" >1</th>\n",
              "      <td id=\"T_ba77b_row1_col0\" class=\"data row1 col0\" >classifier.0.bias</td>\n",
              "      <td id=\"T_ba77b_row1_col1\" class=\"data row1 col1\" >100</td>\n",
              "    </tr>\n",
              "    <tr>\n",
              "      <th id=\"T_ba77b_level0_row2\" class=\"row_heading level0 row2\" >2</th>\n",
              "      <td id=\"T_ba77b_row2_col0\" class=\"data row2 col0\" >classifier.3.weight</td>\n",
              "      <td id=\"T_ba77b_row2_col1\" class=\"data row2 col1\" >200</td>\n",
              "    </tr>\n",
              "    <tr>\n",
              "      <th id=\"T_ba77b_level0_row3\" class=\"row_heading level0 row3\" >3</th>\n",
              "      <td id=\"T_ba77b_row3_col0\" class=\"data row3 col0\" >classifier.3.bias</td>\n",
              "      <td id=\"T_ba77b_row3_col1\" class=\"data row3 col1\" >2</td>\n",
              "    </tr>\n",
              "  </tbody>\n",
              "</table>\n"
            ]
          },
          "metadata": {},
          "execution_count": 97
        }
      ]
    },
    {
      "cell_type": "code",
      "source": [
        "model.to(config.DEVICE)"
      ],
      "metadata": {
        "colab": {
          "base_uri": "https://localhost:8080/"
        },
        "id": "OcBl0-LWBoxG",
        "outputId": "11adbd50-558e-40a9-a82b-381a60f46c43"
      },
      "execution_count": 98,
      "outputs": [
        {
          "output_type": "execute_result",
          "data": {
            "text/plain": [
              "AlexNet(\n",
              "  (features): Sequential(\n",
              "    (0): Conv2d(3, 64, kernel_size=(11, 11), stride=(4, 4), padding=(2, 2))\n",
              "    (1): ReLU(inplace=True)\n",
              "    (2): MaxPool2d(kernel_size=3, stride=2, padding=0, dilation=1, ceil_mode=False)\n",
              "    (3): Conv2d(64, 192, kernel_size=(5, 5), stride=(1, 1), padding=(2, 2))\n",
              "    (4): ReLU(inplace=True)\n",
              "    (5): MaxPool2d(kernel_size=3, stride=2, padding=0, dilation=1, ceil_mode=False)\n",
              "    (6): Conv2d(192, 384, kernel_size=(3, 3), stride=(1, 1), padding=(1, 1))\n",
              "    (7): ReLU(inplace=True)\n",
              "    (8): Conv2d(384, 256, kernel_size=(3, 3), stride=(1, 1), padding=(1, 1))\n",
              "    (9): ReLU(inplace=True)\n",
              "    (10): Conv2d(256, 256, kernel_size=(3, 3), stride=(1, 1), padding=(1, 1))\n",
              "    (11): ReLU(inplace=True)\n",
              "    (12): MaxPool2d(kernel_size=3, stride=2, padding=0, dilation=1, ceil_mode=False)\n",
              "  )\n",
              "  (avgpool): AdaptiveAvgPool2d(output_size=(6, 6))\n",
              "  (classifier): Sequential(\n",
              "    (0): Linear(in_features=9216, out_features=100, bias=True)\n",
              "    (1): ReLU(inplace=True)\n",
              "    (2): Dropout(p=0.5, inplace=False)\n",
              "    (3): Linear(in_features=100, out_features=2, bias=True)\n",
              "  )\n",
              ")"
            ]
          },
          "metadata": {},
          "execution_count": 98
        }
      ]
    },
    {
      "cell_type": "code",
      "source": [
        "criterion=nn.CrossEntropyLoss()\n",
        "optimizer=torch.optim.Adam(model.parameters())"
      ],
      "metadata": {
        "id": "rCaV16OuBo0u"
      },
      "execution_count": 99,
      "outputs": []
    },
    {
      "cell_type": "code",
      "source": [
        "for epoch in range(config.EPOCH):\n",
        "  with tqdm(train_loader) as tqdm_epoch:\n",
        "    for images, labels in tqdm_epoch:\n",
        "      tqdm_epoch.set_description(f\"Epoch {epoch+1}/{config.EPOCH}\")\n",
        "      images=images.to(config.DEVICE)\n",
        "      labels=labels.to(config.DEVICE)\n",
        "\n",
        "      # forward pass\n",
        "      outputs=model(images)\n",
        "      loss=criterion(outputs, labels)\n",
        "\n",
        "      #Backward pass\n",
        "      optimizer.zero_grad()\n",
        "      loss.backward()\n",
        "      optimizer.step()\n",
        "      \n",
        "      tqdm_epoch.set_postfix(loss=loss.item())"
      ],
      "metadata": {
        "colab": {
          "base_uri": "https://localhost:8080/"
        },
        "id": "JTkRzkXgBo6S",
        "outputId": "d7357997-12d6-4f8f-dead-8fa8c6768e31"
      },
      "execution_count": 100,
      "outputs": [
        {
          "output_type": "stream",
          "name": "stderr",
          "text": [
            "Epoch 1/50: 100%|██████████| 8/8 [00:02<00:00,  3.14it/s, loss=0.46]\n",
            "Epoch 2/50: 100%|██████████| 8/8 [00:02<00:00,  3.15it/s, loss=0.289]\n",
            "Epoch 3/50: 100%|██████████| 8/8 [00:03<00:00,  2.66it/s, loss=0.138]\n",
            "Epoch 4/50: 100%|██████████| 8/8 [00:02<00:00,  3.33it/s, loss=0.451]\n",
            "Epoch 5/50: 100%|██████████| 8/8 [00:02<00:00,  3.38it/s, loss=0.104]\n",
            "Epoch 6/50: 100%|██████████| 8/8 [00:02<00:00,  3.29it/s, loss=0.106]\n",
            "Epoch 7/50: 100%|██████████| 8/8 [00:02<00:00,  3.33it/s, loss=0.0344]\n",
            "Epoch 8/50: 100%|██████████| 8/8 [00:02<00:00,  3.38it/s, loss=0.00994]\n",
            "Epoch 9/50: 100%|██████████| 8/8 [00:02<00:00,  3.36it/s, loss=0.0511]\n",
            "Epoch 10/50: 100%|██████████| 8/8 [00:02<00:00,  3.37it/s, loss=0.0164]\n",
            "Epoch 11/50: 100%|██████████| 8/8 [00:02<00:00,  3.30it/s, loss=0.126]\n",
            "Epoch 12/50: 100%|██████████| 8/8 [00:02<00:00,  3.38it/s, loss=0.021]\n",
            "Epoch 13/50: 100%|██████████| 8/8 [00:02<00:00,  3.36it/s, loss=0.00798]\n",
            "Epoch 14/50: 100%|██████████| 8/8 [00:02<00:00,  3.35it/s, loss=0.0177]\n",
            "Epoch 15/50: 100%|██████████| 8/8 [00:02<00:00,  3.37it/s, loss=0.0918]\n",
            "Epoch 16/50: 100%|██████████| 8/8 [00:02<00:00,  3.38it/s, loss=0.014]\n",
            "Epoch 17/50: 100%|██████████| 8/8 [00:02<00:00,  3.35it/s, loss=0.00911]\n",
            "Epoch 18/50: 100%|██████████| 8/8 [00:02<00:00,  3.38it/s, loss=0.02]\n",
            "Epoch 19/50: 100%|██████████| 8/8 [00:02<00:00,  3.38it/s, loss=0.00229]\n",
            "Epoch 20/50: 100%|██████████| 8/8 [00:02<00:00,  3.33it/s, loss=0.00695]\n",
            "Epoch 21/50: 100%|██████████| 8/8 [00:02<00:00,  3.33it/s, loss=0.00633]\n",
            "Epoch 22/50: 100%|██████████| 8/8 [00:02<00:00,  3.43it/s, loss=0.00258]\n",
            "Epoch 23/50: 100%|██████████| 8/8 [00:02<00:00,  3.37it/s, loss=0.0155]\n",
            "Epoch 24/50: 100%|██████████| 8/8 [00:02<00:00,  3.33it/s, loss=0.00398]\n",
            "Epoch 25/50: 100%|██████████| 8/8 [00:02<00:00,  3.34it/s, loss=0.00119]\n",
            "Epoch 26/50: 100%|██████████| 8/8 [00:02<00:00,  3.37it/s, loss=0.000579]\n",
            "Epoch 27/50: 100%|██████████| 8/8 [00:02<00:00,  3.36it/s, loss=0.00318]\n",
            "Epoch 28/50: 100%|██████████| 8/8 [00:02<00:00,  3.35it/s, loss=0.00447]\n",
            "Epoch 29/50: 100%|██████████| 8/8 [00:02<00:00,  3.38it/s, loss=0.00245]\n",
            "Epoch 30/50: 100%|██████████| 8/8 [00:02<00:00,  3.37it/s, loss=0.0135]\n",
            "Epoch 31/50: 100%|██████████| 8/8 [00:02<00:00,  3.26it/s, loss=0.00126]\n",
            "Epoch 32/50: 100%|██████████| 8/8 [00:03<00:00,  2.39it/s, loss=0.011]\n",
            "Epoch 33/50: 100%|██████████| 8/8 [00:02<00:00,  3.22it/s, loss=0.0133]\n",
            "Epoch 34/50: 100%|██████████| 8/8 [00:02<00:00,  3.39it/s, loss=0.000113]\n",
            "Epoch 35/50: 100%|██████████| 8/8 [00:02<00:00,  3.38it/s, loss=0.0158]\n",
            "Epoch 36/50: 100%|██████████| 8/8 [00:02<00:00,  3.39it/s, loss=0.00311]\n",
            "Epoch 37/50: 100%|██████████| 8/8 [00:02<00:00,  3.45it/s, loss=0.0219]\n",
            "Epoch 38/50: 100%|██████████| 8/8 [00:02<00:00,  3.39it/s, loss=0.000658]\n",
            "Epoch 39/50: 100%|██████████| 8/8 [00:02<00:00,  3.40it/s, loss=0.000647]\n",
            "Epoch 40/50: 100%|██████████| 8/8 [00:02<00:00,  3.34it/s, loss=0.00276]\n",
            "Epoch 41/50: 100%|██████████| 8/8 [00:02<00:00,  3.39it/s, loss=0.000724]\n",
            "Epoch 42/50: 100%|██████████| 8/8 [00:02<00:00,  3.38it/s, loss=0.0235]\n",
            "Epoch 43/50: 100%|██████████| 8/8 [00:02<00:00,  3.37it/s, loss=0.000276]\n",
            "Epoch 44/50: 100%|██████████| 8/8 [00:02<00:00,  3.38it/s, loss=0.00379]\n",
            "Epoch 45/50: 100%|██████████| 8/8 [00:02<00:00,  3.40it/s, loss=8.41e-5]\n",
            "Epoch 46/50: 100%|██████████| 8/8 [00:02<00:00,  3.34it/s, loss=0.000236]\n",
            "Epoch 47/50: 100%|██████████| 8/8 [00:02<00:00,  3.40it/s, loss=0.000417]\n",
            "Epoch 48/50: 100%|██████████| 8/8 [00:02<00:00,  3.36it/s, loss=0.000894]\n",
            "Epoch 49/50: 100%|██████████| 8/8 [00:02<00:00,  3.36it/s, loss=2.23e-5]\n",
            "Epoch 50/50: 100%|██████████| 8/8 [00:02<00:00,  3.40it/s, loss=0.0081]\n"
          ]
        }
      ]
    },
    {
      "cell_type": "markdown",
      "source": [
        "Evaluate the Model"
      ],
      "metadata": {
        "id": "go66cTYLGYiC"
      }
    },
    {
      "cell_type": "code",
      "source": [
        "!pwd"
      ],
      "metadata": {
        "colab": {
          "base_uri": "https://localhost:8080/"
        },
        "id": "VsAZRzd0CKaW",
        "outputId": "c6d5606f-7c0d-4fe9-b693-38afa940553f"
      },
      "execution_count": 101,
      "outputs": [
        {
          "output_type": "stream",
          "name": "stdout",
          "text": [
            "/content/drive/MyDrive/Pytorch\n"
          ]
        }
      ]
    },
    {
      "cell_type": "code",
      "source": [
        "os.makedirs(\"model_dir_transfer_learning\", exist_ok=True)\n",
        "model_file_path=os.path.join(\"model_dir_transfer_learning\", \"CNN_model_AlexNet.pth\")\n",
        "torch.save(model,model_file_path)"
      ],
      "metadata": {
        "id": "xPycV_fHCKdx"
      },
      "execution_count": 102,
      "outputs": []
    },
    {
      "cell_type": "code",
      "source": [
        "loaded_model=torch.load(model_file_path)"
      ],
      "metadata": {
        "id": "8VvhL1yQCKh7"
      },
      "execution_count": 103,
      "outputs": []
    },
    {
      "cell_type": "code",
      "source": [
        "pred=np.array([])\n",
        "target=np.array([])\n",
        "\n",
        "with torch.no_grad():\n",
        "  for batch, data in enumerate(test_loader):\n",
        "    images=data[0].to(config.DEVICE)\n",
        "    labels=data[1].to(config.DEVICE)\n",
        "\n",
        "    y_pred=model(images)\n",
        "    pred=np.concatenate((pred, torch.argmax(y_pred,1).cpu().numpy()))\n",
        "    target=np.concatenate((target, labels.cpu().numpy()))"
      ],
      "metadata": {
        "id": "boclYU47Bo9s"
      },
      "execution_count": 104,
      "outputs": []
    },
    {
      "cell_type": "code",
      "source": [
        "cm=confusion_matrix(target, pred)\n",
        "cm"
      ],
      "metadata": {
        "colab": {
          "base_uri": "https://localhost:8080/"
        },
        "id": "Cu6-g5m1BpAF",
        "outputId": "de7060af-3ae1-4fa3-9484-20712631858b"
      },
      "execution_count": 105,
      "outputs": [
        {
          "output_type": "execute_result",
          "data": {
            "text/plain": [
              "array([[63,  7],\n",
              "       [14, 69]])"
            ]
          },
          "metadata": {},
          "execution_count": 105
        }
      ]
    },
    {
      "cell_type": "code",
      "source": [
        "plt.figure(figsize=(12,10))\n",
        "sns.heatmap(cm, annot=True, fmt=\"d\", xticklabels=label_map.keys(), yticklabels=label_map.keys(), cbar=False)"
      ],
      "metadata": {
        "colab": {
          "base_uri": "https://localhost:8080/",
          "height": 609
        },
        "id": "-f4ProSCHcai",
        "outputId": "4b2ecaa8-fa43-4f76-8aa4-3e954405abaf"
      },
      "execution_count": 107,
      "outputs": [
        {
          "output_type": "execute_result",
          "data": {
            "text/plain": [
              "<matplotlib.axes._subplots.AxesSubplot at 0x7f9a70094890>"
            ]
          },
          "metadata": {},
          "execution_count": 107
        },
        {
          "output_type": "display_data",
          "data": {
            "text/plain": [
              "<Figure size 864x720 with 1 Axes>"
            ],
            "image/png": "[encoded data removed]"
          },
          "metadata": {
            "needs_background": "light"
          }
        }
      ]
    },
    {
      "cell_type": "code",
      "source": [
        "data=next(iter(test_loader))\n",
        "data"
      ],
      "metadata": {
        "colab": {
          "base_uri": "https://localhost:8080/"
        },
        "id": "UsYWRG0mIGMe",
        "outputId": "c505887f-7a89-4231-b4bd-27b02af62596"
      },
      "execution_count": 109,
      "outputs": [
        {
          "output_type": "execute_result",
          "data": {
            "text/plain": [
              "[tensor([[[[ 0.6078,  0.5765,  0.7176,  ...,  0.4275,  0.3490,  0.2784],\n",
              "           [ 0.4667,  0.5373,  0.6078,  ...,  0.4353,  0.4353,  0.3176],\n",
              "           [ 0.5294,  0.5529,  0.4902,  ...,  0.3569,  0.3569,  0.3569],\n",
              "           ...,\n",
              "           [ 0.0980,  0.3490,  0.6941,  ...,  0.2392,  0.2863,  0.6078],\n",
              "           [ 0.2863,  0.4588,  0.6157,  ...,  0.0667,  0.1059,  0.1922],\n",
              "           [ 0.2706,  0.3961,  0.5294,  ...,  0.0275,  0.2549,  0.0902]],\n",
              " \n",
              "          [[ 0.9216,  0.8275,  0.8980,  ...,  0.7412,  0.5686,  0.4667],\n",
              "           [ 0.8353,  0.8745,  0.8980,  ...,  0.7490,  0.6314,  0.4902],\n",
              "           [ 0.8196,  0.8588,  0.7961,  ...,  0.6706,  0.6157,  0.6157],\n",
              "           ...,\n",
              "           [ 0.3255,  0.4510,  0.8588,  ...,  0.3569,  0.4196,  0.7255],\n",
              "           [ 0.5686,  0.6000,  0.8118,  ...,  0.1843,  0.2392,  0.2549],\n",
              "           [ 0.5059,  0.6314,  0.7961,  ...,  0.1294,  0.4196,  0.1529]],\n",
              " \n",
              "          [[ 0.9843,  0.8902,  0.9216,  ...,  0.7961,  0.6549,  0.4275],\n",
              "           [ 0.8667,  0.9059,  0.9216,  ...,  0.7725,  0.7412,  0.5216],\n",
              "           [ 0.8667,  0.8902,  0.8667,  ...,  0.6863,  0.7176,  0.6863],\n",
              "           ...,\n",
              "           [ 0.3961,  0.5922,  0.8902,  ..., -0.1059,  0.2157,  0.5608],\n",
              "           [ 0.6235,  0.7333,  0.8353,  ..., -0.2941, -0.2235, -0.1765],\n",
              "           [ 0.6078,  0.7647,  0.8275,  ..., -0.3412, -0.1137, -0.3098]]],\n",
              " \n",
              " \n",
              "         [[[ 0.2078,  0.1922,  0.1686,  ..., -0.0667, -0.0588, -0.0353],\n",
              "           [ 0.1922,  0.1765,  0.1529,  ..., -0.0510, -0.0510, -0.0431],\n",
              "           [ 0.1922,  0.1765,  0.1529,  ..., -0.0275, -0.0431, -0.0431],\n",
              "           ...,\n",
              "           [-0.2392, -0.2235, -0.2157,  ...,  0.0824,  0.0902,  0.0902],\n",
              "           [-0.1922, -0.1765, -0.1765,  ...,  0.0745,  0.0980,  0.1137],\n",
              "           [-0.1922, -0.1765, -0.1608,  ...,  0.0588,  0.0824,  0.1059]],\n",
              " \n",
              "          [[ 0.0667,  0.0667,  0.0510,  ..., -0.1451, -0.1373, -0.1137],\n",
              "           [ 0.0510,  0.0510,  0.0275,  ..., -0.1451, -0.1294, -0.1216],\n",
              "           [ 0.0510,  0.0431,  0.0118,  ..., -0.1294, -0.1294, -0.1216],\n",
              "           ...,\n",
              "           [-0.3490, -0.3333, -0.3333,  ..., -0.0980, -0.0824, -0.0745],\n",
              "           [-0.3020, -0.3020, -0.3020,  ..., -0.0902, -0.0902, -0.0902],\n",
              "           [-0.2941, -0.3176, -0.2941,  ..., -0.0902, -0.0902, -0.0824]],\n",
              " \n",
              "          [[-0.0431, -0.0510, -0.0588,  ..., -0.2157, -0.2078, -0.1843],\n",
              "           [-0.0588, -0.0745, -0.0902,  ..., -0.2157, -0.2000, -0.1922],\n",
              "           [-0.0667, -0.0824, -0.1137,  ..., -0.2000, -0.2000, -0.1922],\n",
              "           ...,\n",
              "           [-0.4353, -0.4353, -0.4353,  ..., -0.2392, -0.2314, -0.2549],\n",
              "           [-0.3961, -0.4118, -0.4196,  ..., -0.2549, -0.2627, -0.2549],\n",
              "           [-0.3882, -0.4118, -0.4118,  ..., -0.2784, -0.2706, -0.2627]]],\n",
              " \n",
              " \n",
              "         [[[ 0.2941,  0.3255,  0.3176,  ...,  0.3882,  0.4039,  0.3961],\n",
              "           [ 0.3098,  0.3333,  0.3255,  ...,  0.3882,  0.4039,  0.4118],\n",
              "           [ 0.3569,  0.3490,  0.3333,  ...,  0.4039,  0.3961,  0.4118],\n",
              "           ...,\n",
              "           [ 1.0000,  0.9922,  0.9922,  ...,  0.4196,  0.6392,  0.6549],\n",
              "           [ 1.0000,  0.9922,  0.9922,  ...,  0.4824,  0.5843,  0.5922],\n",
              "           [ 1.0000,  1.0000,  0.9922,  ...,  0.5294,  0.5529,  0.5608]],\n",
              " \n",
              "          [[-0.0745, -0.0353, -0.0353,  ...,  0.0510,  0.0588,  0.0667],\n",
              "           [-0.0431, -0.0275, -0.0275,  ...,  0.0510,  0.0588,  0.0588],\n",
              "           [-0.0275, -0.0275, -0.0353,  ...,  0.0667,  0.0667,  0.0824],\n",
              "           ...,\n",
              "           [-0.0275, -0.0275, -0.0353,  ...,  0.0588,  0.2863,  0.3020],\n",
              "           [-0.0275, -0.0353, -0.0353,  ...,  0.0431,  0.1765,  0.1451],\n",
              "           [-0.0353, -0.0353, -0.0275,  ...,  0.1216,  0.1294,  0.0980]],\n",
              " \n",
              "          [[-0.0118,  0.0118, -0.0039,  ...,  0.1059,  0.0902,  0.1059],\n",
              "           [ 0.0196,  0.0353,  0.0118,  ...,  0.1137,  0.1137,  0.1294],\n",
              "           [ 0.0588,  0.0588,  0.0431,  ...,  0.1294,  0.1137,  0.1373],\n",
              "           ...,\n",
              "           [ 0.0824,  0.0824,  0.0745,  ...,  0.0745,  0.1608,  0.3804],\n",
              "           [ 0.0824,  0.0745,  0.0745,  ...,  0.0902,  0.1137,  0.1686],\n",
              "           [ 0.0667,  0.0745,  0.0667,  ...,  0.0431, -0.0275, -0.0510]]],\n",
              " \n",
              " \n",
              "         ...,\n",
              " \n",
              " \n",
              "         [[[-0.7020, -0.7333, -0.7333,  ...,  0.9294,  0.6784,  0.0039],\n",
              "           [-0.7255, -0.7176, -0.7255,  ...,  0.9294,  0.5922, -0.1137],\n",
              "           [-0.7176, -0.7490, -0.7412,  ...,  0.9137,  0.5059, -0.2157],\n",
              "           ...,\n",
              "           [ 0.8039,  0.8039,  0.8039,  ..., -0.5294, -0.5373, -0.5059],\n",
              "           [ 0.8039,  0.8118,  0.8118,  ..., -0.5137, -0.5294, -0.4902],\n",
              "           [ 0.8039,  0.8196,  0.8118,  ..., -0.5059, -0.5373, -0.4902]],\n",
              " \n",
              "          [[-0.4980, -0.5137, -0.5294,  ..., -0.4824, -0.6863, -0.9451],\n",
              "           [-0.5059, -0.5137, -0.5373,  ..., -0.4980, -0.7098, -0.9608],\n",
              "           [-0.5216, -0.5373, -0.5451,  ..., -0.5137, -0.7569, -0.9686],\n",
              "           ...,\n",
              "           [-0.5765, -0.5686, -0.5529,  ..., -0.2627, -0.2471, -0.2471],\n",
              "           [-0.5686, -0.5608, -0.5608,  ..., -0.2549, -0.2471, -0.2471],\n",
              "           [-0.5686, -0.5529, -0.5608,  ..., -0.2392, -0.2471, -0.2549]],\n",
              " \n",
              "          [[-0.9686, -0.9686, -0.9843,  ..., -0.9686, -0.9451, -0.9529],\n",
              "           [-0.9686, -0.9686, -0.9843,  ..., -0.9686, -0.9451, -0.9686],\n",
              "           [-0.9765, -0.9843, -0.9843,  ..., -0.9608, -0.9216, -0.9529],\n",
              "           ...,\n",
              "           [-0.9765, -0.9922, -0.9922,  ..., -0.2471, -0.2392, -0.2314],\n",
              "           [-0.9843, -0.9922, -0.9922,  ..., -0.2235, -0.2235, -0.2157],\n",
              "           [-0.9922, -0.9843, -0.9843,  ..., -0.2000, -0.2235, -0.2000]]],\n",
              " \n",
              " \n",
              "         [[[ 0.0980,  0.1216,  0.1294,  ...,  0.1451,  0.2392,  0.2471],\n",
              "           [ 0.0745,  0.0902,  0.0824,  ...,  0.1686,  0.2471,  0.2392],\n",
              "           [-0.0745, -0.0824,  0.0039,  ...,  0.2392,  0.2941,  0.2784],\n",
              "           ...,\n",
              "           [-0.2157, -0.2941, -0.2941,  ...,  0.4431,  0.5137,  0.4588],\n",
              "           [-0.2627, -0.3020, -0.2784,  ...,  0.4824,  0.5294,  0.4745],\n",
              "           [-0.2471, -0.2863, -0.2471,  ...,  0.4275,  0.4353,  0.4039]],\n",
              " \n",
              "          [[ 0.0980,  0.1216,  0.1451,  ...,  0.1765,  0.2549,  0.2706],\n",
              "           [ 0.1216,  0.1373,  0.1451,  ...,  0.2000,  0.2627,  0.2549],\n",
              "           [ 0.0667,  0.0510,  0.1216,  ...,  0.2706,  0.3098,  0.2863],\n",
              "           ...,\n",
              "           [-0.2235, -0.2784, -0.2627,  ...,  0.3961,  0.4824,  0.4353],\n",
              "           [-0.2314, -0.2627, -0.2392,  ...,  0.4196,  0.4980,  0.4588],\n",
              "           [-0.2314, -0.2471, -0.2157,  ...,  0.3412,  0.4039,  0.3961]],\n",
              " \n",
              "          [[-0.7333, -0.7176, -0.7098,  ..., -0.8667, -0.8118, -0.8039],\n",
              "           [-0.6941, -0.6863, -0.7098,  ..., -0.8275, -0.7647, -0.7647],\n",
              "           [-0.8196, -0.8353, -0.7725,  ..., -0.7569, -0.7098, -0.7176],\n",
              "           ...,\n",
              "           [-0.9843, -0.9922, -0.9843,  ..., -0.4275, -0.3569, -0.4275],\n",
              "           [-0.9686, -0.9922, -0.9686,  ..., -0.4118, -0.3255, -0.4039],\n",
              "           [-0.9529, -0.9843, -0.9373,  ..., -0.4902, -0.4196, -0.4667]]],\n",
              " \n",
              " \n",
              "         [[[-0.4667, -0.3804, -0.3882,  ..., -0.4980, -0.3490, -0.3020],\n",
              "           [-0.5451, -0.4275, -0.3020,  ..., -0.4745, -0.2314, -0.4667],\n",
              "           [-0.4196, -0.2784, -0.3961,  ..., -0.3333, -0.2235, -0.3882],\n",
              "           ...,\n",
              "           [ 0.6549,  0.5686,  0.5686,  ...,  0.5529,  0.5765,  0.5451],\n",
              "           [ 0.5608,  0.5765,  0.5373,  ...,  0.5608,  0.5529,  0.5608],\n",
              "           [ 0.5294,  0.5137,  0.5451,  ...,  0.4431,  0.4902,  0.5059]],\n",
              " \n",
              "          [[-0.2941, -0.2235, -0.3176,  ..., -0.3412, -0.2941, -0.3255],\n",
              "           [-0.3804, -0.2784, -0.2000,  ..., -0.3255, -0.2627, -0.4824],\n",
              "           [-0.2235, -0.1294, -0.2235,  ..., -0.2000, -0.2627, -0.3333],\n",
              "           ...,\n",
              "           [ 0.6157,  0.5294,  0.5373,  ...,  0.5137,  0.5451,  0.5216],\n",
              "           [ 0.5059,  0.5529,  0.4902,  ...,  0.5529,  0.5059,  0.5216],\n",
              "           [ 0.5059,  0.4588,  0.4902,  ...,  0.3176,  0.4745,  0.4980]],\n",
              " \n",
              "          [[-0.7490, -0.6235, -0.6784,  ..., -0.6941, -0.4980, -0.6549],\n",
              "           [-0.7725, -0.6863, -0.5843,  ..., -0.6235, -0.4980, -0.7725],\n",
              "           [-0.6627, -0.5686, -0.6549,  ..., -0.4980, -0.5608, -0.7490],\n",
              "           ...,\n",
              "           [ 0.6863,  0.5843,  0.5608,  ...,  0.5608,  0.5843,  0.5686],\n",
              "           [ 0.5529,  0.5843,  0.5451,  ...,  0.5843,  0.5451,  0.5686],\n",
              "           [ 0.5529,  0.5059,  0.5216,  ...,  0.3804,  0.4980,  0.5294]]]]),\n",
              " tensor([0, 0, 0, 0, 0, 0, 0, 0, 0, 0, 0, 0, 0, 0, 0, 0, 0, 0, 0, 0, 0, 0, 0, 0,\n",
              "         0, 0, 0, 0, 0, 0, 0, 0])]"
            ]
          },
          "metadata": {},
          "execution_count": 109
        }
      ]
    },
    {
      "cell_type": "code",
      "source": [
        "len(data)"
      ],
      "metadata": {
        "colab": {
          "base_uri": "https://localhost:8080/"
        },
        "id": "eXWCkJUMIGP3",
        "outputId": "3b066328-48af-45cd-db00-13b55216b35e"
      },
      "execution_count": 110,
      "outputs": [
        {
          "output_type": "execute_result",
          "data": {
            "text/plain": [
              "2"
            ]
          },
          "metadata": {},
          "execution_count": 110
        }
      ]
    },
    {
      "cell_type": "code",
      "source": [
        "images, labels=data"
      ],
      "metadata": {
        "id": "MVi4x6hjIGUo"
      },
      "execution_count": 111,
      "outputs": []
    },
    {
      "cell_type": "code",
      "source": [
        "images.shape"
      ],
      "metadata": {
        "colab": {
          "base_uri": "https://localhost:8080/"
        },
        "id": "Y7gaY_hoIiGG",
        "outputId": "bdc18966-d331-40c2-a463-410ba66bbaff"
      },
      "execution_count": 112,
      "outputs": [
        {
          "output_type": "execute_result",
          "data": {
            "text/plain": [
              "torch.Size([32, 3, 224, 224])"
            ]
          },
          "metadata": {},
          "execution_count": 112
        }
      ]
    },
    {
      "cell_type": "code",
      "source": [
        "labels.shape"
      ],
      "metadata": {
        "colab": {
          "base_uri": "https://localhost:8080/"
        },
        "id": "DdEo6YzPIiIp",
        "outputId": "953fc4ab-a1a5-4aa0-9c84-a056180f364d"
      },
      "execution_count": 113,
      "outputs": [
        {
          "output_type": "execute_result",
          "data": {
            "text/plain": [
              "torch.Size([32])"
            ]
          },
          "metadata": {},
          "execution_count": 113
        }
      ]
    },
    {
      "cell_type": "code",
      "source": [
        "img=images[2]"
      ],
      "metadata": {
        "id": "i1-3V5wKImQt"
      },
      "execution_count": 114,
      "outputs": []
    },
    {
      "cell_type": "code",
      "source": [
        "img.shape"
      ],
      "metadata": {
        "colab": {
          "base_uri": "https://localhost:8080/"
        },
        "id": "bPHXcXwgImg9",
        "outputId": "34a46bb1-1a14-46f5-9a57-82985c3bfd5a"
      },
      "execution_count": 115,
      "outputs": [
        {
          "output_type": "execute_result",
          "data": {
            "text/plain": [
              "torch.Size([3, 224, 224])"
            ]
          },
          "metadata": {},
          "execution_count": 115
        }
      ]
    },
    {
      "cell_type": "code",
      "source": [
        "plt.imshow(img.permute(1,2,0))"
      ],
      "metadata": {
        "colab": {
          "base_uri": "https://localhost:8080/",
          "height": 304
        },
        "id": "NNQNLUUbI4EH",
        "outputId": "546f93dd-6404-4abc-ad31-2e4de1c9892b"
      },
      "execution_count": 116,
      "outputs": [
        {
          "output_type": "stream",
          "name": "stderr",
          "text": [
            "Clipping input data to the valid range for imshow with RGB data ([0..1] for floats or [0..255] for integers).\n"
          ]
        },
        {
          "output_type": "execute_result",
          "data": {
            "text/plain": [
              "<matplotlib.image.AxesImage at 0x7f9a7008c490>"
            ]
          },
          "metadata": {},
          "execution_count": 116
        },
        {
          "output_type": "display_data",
          "data": {
            "text/plain": [
              "<Figure size 432x288 with 1 Axes>"
            ],
            "image/png": "[encoded data removed]"
          },
          "metadata": {
            "needs_background": "light"
          }
        }
      ]
    },
    {
      "cell_type": "code",
      "source": [
        "img.unsqueeze(0).shape"
      ],
      "metadata": {
        "colab": {
          "base_uri": "https://localhost:8080/"
        },
        "id": "qckCLsynI4HK",
        "outputId": "358fd83d-b202-4e96-edd8-3c51158ac0f6"
      },
      "execution_count": 117,
      "outputs": [
        {
          "output_type": "execute_result",
          "data": {
            "text/plain": [
              "torch.Size([1, 3, 224, 224])"
            ]
          },
          "metadata": {},
          "execution_count": 117
        }
      ]
    },
    {
      "cell_type": "code",
      "source": [
        "img_on_gpu=img.unsqueeze(0).to(config.DEVICE)\n",
        "pred_prob=F.softmax(model(img_on_gpu), dim=1)\n",
        "pred_prob"
      ],
      "metadata": {
        "colab": {
          "base_uri": "https://localhost:8080/"
        },
        "id": "g1jVE_9YIiLi",
        "outputId": "798de85d-995d-4b4e-8d3c-e8d66eb2e325"
      },
      "execution_count": 119,
      "outputs": [
        {
          "output_type": "execute_result",
          "data": {
            "text/plain": [
              "tensor([[9.9987e-01, 1.2722e-04]], device='cuda:0', grad_fn=<SoftmaxBackward0>)"
            ]
          },
          "metadata": {},
          "execution_count": 119
        }
      ]
    },
    {
      "cell_type": "code",
      "source": [
        "argmax=torch.argmax(pred_prob).item()\n",
        "argmax"
      ],
      "metadata": {
        "colab": {
          "base_uri": "https://localhost:8080/"
        },
        "id": "4xK-4EdWJLZH",
        "outputId": "34aef316-0a03-4bf4-8516-fb7069513d3a"
      },
      "execution_count": 120,
      "outputs": [
        {
          "output_type": "execute_result",
          "data": {
            "text/plain": [
              "0"
            ]
          },
          "metadata": {},
          "execution_count": 120
        }
      ]
    },
    {
      "cell_type": "code",
      "source": [
        "inv_level_map={val:key for key,val in label_map.items()}\n",
        "inv_level_map"
      ],
      "metadata": {
        "colab": {
          "base_uri": "https://localhost:8080/"
        },
        "id": "QdXP0P8TJn8F",
        "outputId": "eaa9fdef-3b40-4943-8a70-e2591896ed81"
      },
      "execution_count": 121,
      "outputs": [
        {
          "output_type": "execute_result",
          "data": {
            "text/plain": [
              "{0: 'ants', 1: 'bees'}"
            ]
          },
          "metadata": {},
          "execution_count": 121
        }
      ]
    },
    {
      "cell_type": "code",
      "source": [
        "inv_level_map[argmax],inv_level_map[labels[2].item()]"
      ],
      "metadata": {
        "colab": {
          "base_uri": "https://localhost:8080/"
        },
        "id": "uS-16TsTJoR4",
        "outputId": "53c852ec-ea00-4bd4-e629-539a4c1db61c"
      },
      "execution_count": 124,
      "outputs": [
        {
          "output_type": "execute_result",
          "data": {
            "text/plain": [
              "('ants', 'ants')"
            ]
          },
          "metadata": {},
          "execution_count": 124
        }
      ]
    },
    {
      "cell_type": "code",
      "source": [
        ""
      ],
      "metadata": {
        "id": "k2celJRPKLPL"
      },
      "execution_count": null,
      "outputs": []
    },
    {
      "cell_type": "code",
      "source": [
        ""
      ],
      "metadata": {
        "id": "IKF4iPJlKePP"
      },
      "execution_count": null,
      "outputs": []
    },
    {
      "cell_type": "code",
      "source": [
        ""
      ],
      "metadata": {
        "id": "uU2KtlQDKeSX"
      },
      "execution_count": null,
      "outputs": []
    },
    {
      "cell_type": "code",
      "source": [
        "def predict(data, model, label_map, device, idx=0):\n",
        "  images, labels=data\n",
        "  img=images[idx]\n",
        "  label=labels[idx]\n",
        "\n",
        "  plt.imshow(img.permute(1,2,0), cmap=\"gray\")\n",
        "  img_on_gpu=img.unsqueeze(0).to(config.DEVICE)\n",
        "  pred_prob=F.softmax(model(img_on_gpu), dim=1)\n",
        "  argmax=torch.argmax(pred_prob).item()\n",
        "  predicted_label=label_map[argmax]\n",
        "  actual_label=label_map[label.item()]\n",
        "  plt.title(f\"actual: {actual_label} | predicted: {predicted_label}\")\n",
        "  plt.axis(\"off\")\n",
        "  return  predicted_label, actual_label"
      ],
      "metadata": {
        "id": "tlcN5jtMHcdZ"
      },
      "execution_count": 126,
      "outputs": []
    },
    {
      "cell_type": "code",
      "source": [
        "predict(data, model, inv_level_map, config.DEVICE, idx=2)"
      ],
      "metadata": {
        "colab": {
          "base_uri": "https://localhost:8080/",
          "height": 299
        },
        "id": "3tHNWKwKHcgD",
        "outputId": "321552f4-cc59-4a74-b0e7-e933d0803900"
      },
      "execution_count": 127,
      "outputs": [
        {
          "output_type": "stream",
          "name": "stderr",
          "text": [
            "Clipping input data to the valid range for imshow with RGB data ([0..1] for floats or [0..255] for integers).\n"
          ]
        },
        {
          "output_type": "execute_result",
          "data": {
            "text/plain": [
              "('ants', 'ants')"
            ]
          },
          "metadata": {},
          "execution_count": 127
        },
        {
          "output_type": "display_data",
          "data": {
            "text/plain": [
              "<Figure size 432x288 with 1 Axes>"
            ],
            "image/png": "[encoded data removed]"
          },
          "metadata": {
            "needs_background": "light"
          }
        }
      ]
    },
    {
      "cell_type": "code",
      "source": [
        ""
      ],
      "metadata": {
        "id": "DaUKRHAoHcip"
      },
      "execution_count": null,
      "outputs": []
    }
  ]
}