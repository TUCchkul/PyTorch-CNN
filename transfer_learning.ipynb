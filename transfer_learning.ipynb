{
  "nbformat": 4,
  "nbformat_minor": 0,
  "metadata": {
    "colab": {
      "name": "transfer_learning.ipynb",
      "provenance": [],
      "mount_file_id": "1JXnglbv-UnlJcljcOqRTBGtAI7h09ChD",
      "authorship_tag": "ABX9TyMwHtPYLK64zhEaaDwaff0t",
      "include_colab_link": true
    },
    "kernelspec": {
      "name": "python3",
      "display_name": "Python 3"
    },
    "language_info": {
      "name": "python"
    },
    "accelerator": "GPU",
    "gpuClass": "standard"
  },
  "cells": [
    {
      "cell_type": "markdown",
      "metadata": {
        "id": "view-in-github",
        "colab_type": "text"
      },
      "source": [
        "<a href=\"https://colab.research.google.com/github/TUCchkul/PyTorch-CNN/blob/main/transfer_learning.ipynb\" target=\"_parent\"><img src=\"https://colab.research.google.com/assets/colab-badge.svg\" alt=\"Open In Colab\"/></a>"
      ]
    },
    {
      "cell_type": "code",
      "execution_count": 190,
      "metadata": {
        "colab": {
          "base_uri": "https://localhost:8080/"
        },
        "id": "hBhG1ZofYzgX",
        "outputId": "59b3f701-c9d4-4b48-84d9-69c30e627488"
      },
      "outputs": [
        {
          "output_type": "stream",
          "name": "stdout",
          "text": [
            "/content/drive/MyDrive/Pytorch\n"
          ]
        }
      ],
      "source": [
        "%cd /content/drive/MyDrive/Pytorch"
      ]
    },
    {
      "cell_type": "code",
      "source": [
        "!pwd"
      ],
      "metadata": {
        "colab": {
          "base_uri": "https://localhost:8080/"
        },
        "id": "67ANYn6pZPHI",
        "outputId": "d02468da-c3f9-4dbe-c123-4d3c6beedead"
      },
      "execution_count": 191,
      "outputs": [
        {
          "output_type": "stream",
          "name": "stdout",
          "text": [
            "/content/drive/MyDrive/Pytorch\n"
          ]
        }
      ]
    },
    {
      "cell_type": "code",
      "source": [
        "import os\n",
        "import numpy as np\n",
        "import pandas as pd\n",
        "import matplotlib.pyplot as plt\n",
        "import seaborn as sns\n",
        "import torch\n",
        "import torch.nn as nn\n",
        "from torch.utils.data import DataLoader\n",
        "from torchvision import transforms, datasets, models\n",
        "import torch.nn.functional as F\n",
        "from sklearn.metrics import confusion_matrix\n",
        "from tqdm import tqdm\n",
        "import urllib.request as request"
      ],
      "metadata": {
        "id": "8hXbqyurZPKP"
      },
      "execution_count": 192,
      "outputs": []
    },
    {
      "cell_type": "code",
      "source": [
        "class Config:\n",
        "  def __init__(self):\n",
        "    self.ROOT_DATA_DIR=\"hymenoptera_data_new\"\n",
        "    self.EPOCH=1000\n",
        "    self.LEARNING_RATE=0.01\n",
        "    self.BATCH_SIZE=32\n",
        "    self.IMAGE_SIZE=(224,224)\n",
        "    self.DEVICE=\"cuda\" if torch.cuda.is_available() else \"CPU\"\n",
        "    print(f\"THis notebook is using the device: {self.DEVICE}\")\n",
        "    self.SEED=2022\n",
        "    self.create_dir(dir_path=self.ROOT_DATA_DIR)\n",
        "  def create_dir(self, dir_path):\n",
        "    os.makedirs(dir_path, exist_ok=True)\n",
        "    print(f\"{dir_path} directory is created\")\n",
        "\n",
        "\n",
        "config=Config()"
      ],
      "metadata": {
        "colab": {
          "base_uri": "https://localhost:8080/"
        },
        "id": "_8mzM9u2ZU86",
        "outputId": "b87dc4e2-2f4f-430a-a76e-b1cec9bf5f6b"
      },
      "execution_count": 193,
      "outputs": [
        {
          "output_type": "stream",
          "name": "stdout",
          "text": [
            "THis notebook is using the device: cuda\n",
            "hymenoptera_data_new directory is created\n"
          ]
        }
      ]
    },
    {
      "cell_type": "code",
      "source": [
        ""
      ],
      "metadata": {
        "id": "PcM__-ImjA5d"
      },
      "execution_count": 193,
      "outputs": []
    },
    {
      "cell_type": "code",
      "source": [
        "data_URL=\"https://download.pytorch.org/tutorial/hymenoptera_data.zip\""
      ],
      "metadata": {
        "id": "HXK-yyH7ZVAC"
      },
      "execution_count": 194,
      "outputs": []
    },
    {
      "cell_type": "code",
      "source": [
        "config.create_dir(dir_path=config.ROOT_DATA_DIR)\n"
      ],
      "metadata": {
        "colab": {
          "base_uri": "https://localhost:8080/"
        },
        "id": "YddJyywEfkYv",
        "outputId": "23654ede-8252-43ce-9d80-d9bc0e801f6f"
      },
      "execution_count": 195,
      "outputs": [
        {
          "output_type": "stream",
          "name": "stdout",
          "text": [
            "hymenoptera_data_new directory is created\n"
          ]
        }
      ]
    },
    {
      "cell_type": "code",
      "source": [
        "data_zip_file=\"data.zip\"\n",
        "data_file_path=os.path.join(config.ROOT_DATA_DIR, data_zip_file)\n",
        "request.urlretrieve(data_URL,data_file_path)"
      ],
      "metadata": {
        "colab": {
          "base_uri": "https://localhost:8080/"
        },
        "id": "f_cv13KzfkcG",
        "outputId": "a675c874-c4dc-48f5-f3fd-11f20f0e0240"
      },
      "execution_count": 196,
      "outputs": [
        {
          "output_type": "execute_result",
          "data": {
            "text/plain": [
              "('hymenoptera_data_new/data.zip', <http.client.HTTPMessage at 0x7f9a5e678b50>)"
            ]
          },
          "metadata": {},
          "execution_count": 196
        }
      ]
    },
    {
      "cell_type": "code",
      "source": [
        "from zipfile import ZipFile\n",
        "\n",
        "def unzip_file(source: str, dest: str) -> None:\n",
        "  print(f\"Extraction started........\")\n",
        "  with ZipFile(source, \"r\") as zip_f:\n",
        "    zip_f.extractall(dest)\n",
        "  print(f\"extracted {source} to {dest}\")"
      ],
      "metadata": {
        "id": "vESH8YkbfkfT"
      },
      "execution_count": 197,
      "outputs": []
    },
    {
      "cell_type": "code",
      "source": [
        "unzip_file(data_file_path, config.ROOT_DATA_DIR)"
      ],
      "metadata": {
        "colab": {
          "base_uri": "https://localhost:8080/"
        },
        "id": "7lFQBpuiZVC2",
        "outputId": "1f78d064-9a23-46c1-e563-0e0246d39398"
      },
      "execution_count": 198,
      "outputs": [
        {
          "output_type": "stream",
          "name": "stdout",
          "text": [
            "Extraction started........\n",
            "extracted hymenoptera_data_new/data.zip to hymenoptera_data_new\n"
          ]
        }
      ]
    },
    {
      "cell_type": "code",
      "source": [
        "# Create data loader\n",
        "!ls hymenoptera_data_new/hymenoptera_data/train"
      ],
      "metadata": {
        "colab": {
          "base_uri": "https://localhost:8080/"
        },
        "id": "hcS0ucihq0MG",
        "outputId": "74dcd5ae-1a51-4690-c42d-fc3ad7ceb2c6"
      },
      "execution_count": 199,
      "outputs": [
        {
          "output_type": "stream",
          "name": "stdout",
          "text": [
            "ants  bees\n"
          ]
        }
      ]
    },
    {
      "cell_type": "code",
      "source": [
        "from pathlib import Path"
      ],
      "metadata": {
        "id": "MBAU8FEcrwcP"
      },
      "execution_count": 200,
      "outputs": []
    },
    {
      "cell_type": "code",
      "source": [
        "Path(\"hymenoptera_data_new/hymenoptera_data/train\")"
      ],
      "metadata": {
        "colab": {
          "base_uri": "https://localhost:8080/"
        },
        "id": "EkW8kqxctvxm",
        "outputId": "79e4fa09-0129-4c96-c176-67d6b85157e0"
      },
      "execution_count": 201,
      "outputs": [
        {
          "output_type": "execute_result",
          "data": {
            "text/plain": [
              "PosixPath('hymenoptera_data_new/hymenoptera_data/train')"
            ]
          },
          "metadata": {},
          "execution_count": 201
        }
      ]
    },
    {
      "cell_type": "markdown",
      "source": [
        "# Create data loader"
      ],
      "metadata": {
        "id": "GxGPWPkeuwgv"
      }
    },
    {
      "cell_type": "code",
      "source": [
        "train_path=Path(\"hymenoptera_data_new/hymenoptera_data/train\")\n",
        "test_path=Path(\"hymenoptera_data_new/hymenoptera_data/val\")"
      ],
      "metadata": {
        "id": "VdM9cKkAq0PO"
      },
      "execution_count": 202,
      "outputs": []
    },
    {
      "cell_type": "markdown",
      "source": [
        "mean of each channel of the image for 28,28 img size\n",
        "\n",
        "mean=sum(value of the pixels)/784\n",
        "\n",
        "std=(data-mean)/std"
      ],
      "metadata": {
        "id": "oqaja3zrvW_5"
      }
    },
    {
      "cell_type": "code",
      "source": [
        "mean=torch.tensor([0.5,0.5,0.5])\n",
        "std=torch.tensor([0.5,0.5,0.5])"
      ],
      "metadata": {
        "id": "qrHiblGjq0Sm"
      },
      "execution_count": 203,
      "outputs": []
    },
    {
      "cell_type": "code",
      "source": [
        "train_transforms=transforms.Compose(\n",
        "    [\n",
        "     transforms.Resize(config.IMAGE_SIZE),\n",
        "     transforms.RandomRotation(degrees=20),\n",
        "     transforms.ToTensor(),\n",
        "     transforms.Normalize(mean,std)\n",
        "    ]\n",
        ")\n",
        "test_transforms=transforms.Compose(\n",
        "    [\n",
        "     transforms.Resize(config.IMAGE_SIZE),\n",
        "     transforms.ToTensor(),\n",
        "     transforms.Normalize(mean,std)\n",
        "    ]\n",
        ")"
      ],
      "metadata": {
        "id": "OIzGq8GAu0N-"
      },
      "execution_count": 204,
      "outputs": []
    },
    {
      "cell_type": "code",
      "source": [
        "train_data=datasets.ImageFolder(root=train_path, transform=train_transforms)\n",
        "test_data=datasets.ImageFolder(root=test_path, transform=test_transforms)"
      ],
      "metadata": {
        "id": "1scxDsE4u0RA"
      },
      "execution_count": 205,
      "outputs": []
    },
    {
      "cell_type": "code",
      "source": [
        "train_data.class_to_idx"
      ],
      "metadata": {
        "colab": {
          "base_uri": "https://localhost:8080/"
        },
        "id": "ONxH7Fgcu0TU",
        "outputId": "7f0411df-bbb7-4fcc-c021-cad4533242d4"
      },
      "execution_count": 206,
      "outputs": [
        {
          "output_type": "execute_result",
          "data": {
            "text/plain": [
              "{'ants': 0, 'bees': 1}"
            ]
          },
          "metadata": {},
          "execution_count": 206
        }
      ]
    },
    {
      "cell_type": "code",
      "source": [
        "label_map=train_data.class_to_idx"
      ],
      "metadata": {
        "id": "PhRKwk1-u0Vw"
      },
      "execution_count": 207,
      "outputs": []
    },
    {
      "cell_type": "code",
      "source": [
        "train_data"
      ],
      "metadata": {
        "colab": {
          "base_uri": "https://localhost:8080/"
        },
        "id": "qK9I1_GZzUON",
        "outputId": "7e1f710e-c277-453e-87c5-799d3b197ee1"
      },
      "execution_count": 208,
      "outputs": [
        {
          "output_type": "execute_result",
          "data": {
            "text/plain": [
              "Dataset ImageFolder\n",
              "    Number of datapoints: 244\n",
              "    Root location: hymenoptera_data_new/hymenoptera_data/train\n",
              "    StandardTransform\n",
              "Transform: Compose(\n",
              "               Resize(size=(224, 224), interpolation=bilinear, max_size=None, antialias=None)\n",
              "               RandomRotation(degrees=[-20.0, 20.0], interpolation=nearest, expand=False, fill=0)\n",
              "               ToTensor()\n",
              "               Normalize(mean=tensor([0.5000, 0.5000, 0.5000]), std=tensor([0.5000, 0.5000, 0.5000]))\n",
              "           )"
            ]
          },
          "metadata": {},
          "execution_count": 208
        }
      ]
    },
    {
      "cell_type": "code",
      "source": [
        "test_data"
      ],
      "metadata": {
        "colab": {
          "base_uri": "https://localhost:8080/"
        },
        "id": "cenfnmjBzywN",
        "outputId": "f94528b1-a97c-4619-80ba-4f316936f1e9"
      },
      "execution_count": 209,
      "outputs": [
        {
          "output_type": "execute_result",
          "data": {
            "text/plain": [
              "Dataset ImageFolder\n",
              "    Number of datapoints: 153\n",
              "    Root location: hymenoptera_data_new/hymenoptera_data/val\n",
              "    StandardTransform\n",
              "Transform: Compose(\n",
              "               Resize(size=(224, 224), interpolation=bilinear, max_size=None, antialias=None)\n",
              "               ToTensor()\n",
              "               Normalize(mean=tensor([0.5000, 0.5000, 0.5000]), std=tensor([0.5000, 0.5000, 0.5000]))\n",
              "           )"
            ]
          },
          "metadata": {},
          "execution_count": 209
        }
      ]
    },
    {
      "cell_type": "code",
      "source": [
        "train_loader=DataLoader(train_data, shuffle=True, batch_size=config.BATCH_SIZE)\n",
        "test_loader=DataLoader(test_data, shuffle=False, batch_size=config.BATCH_SIZE)"
      ],
      "metadata": {
        "id": "98IiITW9zy0S"
      },
      "execution_count": 210,
      "outputs": []
    },
    {
      "cell_type": "code",
      "source": [
        "data=next(iter(train_loader))"
      ],
      "metadata": {
        "id": "vWI3qK660Wra"
      },
      "execution_count": 211,
      "outputs": []
    },
    {
      "cell_type": "code",
      "source": [
        "len(data)"
      ],
      "metadata": {
        "colab": {
          "base_uri": "https://localhost:8080/"
        },
        "id": "YoZsPcLH0Wtx",
        "outputId": "b5366f46-8ee9-4904-e4b0-5dd42b2cf130"
      },
      "execution_count": 212,
      "outputs": [
        {
          "output_type": "execute_result",
          "data": {
            "text/plain": [
              "2"
            ]
          },
          "metadata": {},
          "execution_count": 212
        }
      ]
    },
    {
      "cell_type": "code",
      "source": [
        "images, labels=data\n",
        "images.shape"
      ],
      "metadata": {
        "colab": {
          "base_uri": "https://localhost:8080/"
        },
        "id": "vmOfiFfd0WwR",
        "outputId": "a64ab540-c1c8-44e9-a26b-bb813814f34c"
      },
      "execution_count": 213,
      "outputs": [
        {
          "output_type": "execute_result",
          "data": {
            "text/plain": [
              "torch.Size([32, 3, 224, 224])"
            ]
          },
          "metadata": {},
          "execution_count": 213
        }
      ]
    },
    {
      "cell_type": "code",
      "source": [
        "labels.shape"
      ],
      "metadata": {
        "colab": {
          "base_uri": "https://localhost:8080/"
        },
        "id": "KcdZVOaY0Wyx",
        "outputId": "178e2e11-6c85-4909-924f-85d0222cf5c4"
      },
      "execution_count": 214,
      "outputs": [
        {
          "output_type": "execute_result",
          "data": {
            "text/plain": [
              "torch.Size([32])"
            ]
          },
          "metadata": {},
          "execution_count": 214
        }
      ]
    },
    {
      "cell_type": "code",
      "source": [
        "img=images[0]\n",
        "img.shape"
      ],
      "metadata": {
        "colab": {
          "base_uri": "https://localhost:8080/"
        },
        "id": "-v0bOyJmzURX",
        "outputId": "e4f4837a-db16-49c9-9b57-062d3e365de7"
      },
      "execution_count": 215,
      "outputs": [
        {
          "output_type": "execute_result",
          "data": {
            "text/plain": [
              "torch.Size([3, 224, 224])"
            ]
          },
          "metadata": {},
          "execution_count": 215
        }
      ]
    },
    {
      "cell_type": "code",
      "source": [
        "#plt.imshow(img)"
      ],
      "metadata": {
        "id": "GU1gxhp50wro"
      },
      "execution_count": 216,
      "outputs": []
    },
    {
      "cell_type": "code",
      "source": [
        "plt.imshow(img.permute(1,2,0))"
      ],
      "metadata": {
        "colab": {
          "base_uri": "https://localhost:8080/",
          "height": 304
        },
        "id": "yiyD5AhX05bf",
        "outputId": "3bdb9beb-876f-43f2-d7d2-a5b47f92c3ad"
      },
      "execution_count": 217,
      "outputs": [
        {
          "output_type": "stream",
          "name": "stderr",
          "text": [
            "Clipping input data to the valid range for imshow with RGB data ([0..1] for floats or [0..255] for integers).\n"
          ]
        },
        {
          "output_type": "execute_result",
          "data": {
            "text/plain": [
              "<matplotlib.image.AxesImage at 0x7f9a5e3ff490>"
            ]
          },
          "metadata": {},
          "execution_count": 217
        },
        {
          "output_type": "display_data",
          "data": {
            "text/plain": [
              "<Figure size 432x288 with 1 Axes>"
            ],
            "image/png": "[encoded data removed]"
          },
          "metadata": {
            "needs_background": "light"
          }
        }
      ]
    },
    {
      "cell_type": "code",
      "source": [
        "# Download pretrain model\n",
        "model=models.alexnet(pretrained=True)"
      ],
      "metadata": {
        "id": "8IbUblv005fr"
      },
      "execution_count": 218,
      "outputs": []
    },
    {
      "cell_type": "code",
      "source": [
        "print(model)"
      ],
      "metadata": {
        "colab": {
          "base_uri": "https://localhost:8080/"
        },
        "id": "nRW0Ujqd1QVd",
        "outputId": "26f2a3c6-4e8e-4001-fed3-92a17afe88c9"
      },
      "execution_count": 219,
      "outputs": [
        {
          "output_type": "stream",
          "name": "stdout",
          "text": [
            "AlexNet(\n",
            "  (features): Sequential(\n",
            "    (0): Conv2d(3, 64, kernel_size=(11, 11), stride=(4, 4), padding=(2, 2))\n",
            "    (1): ReLU(inplace=True)\n",
            "    (2): MaxPool2d(kernel_size=3, stride=2, padding=0, dilation=1, ceil_mode=False)\n",
            "    (3): Conv2d(64, 192, kernel_size=(5, 5), stride=(1, 1), padding=(2, 2))\n",
            "    (4): ReLU(inplace=True)\n",
            "    (5): MaxPool2d(kernel_size=3, stride=2, padding=0, dilation=1, ceil_mode=False)\n",
            "    (6): Conv2d(192, 384, kernel_size=(3, 3), stride=(1, 1), padding=(1, 1))\n",
            "    (7): ReLU(inplace=True)\n",
            "    (8): Conv2d(384, 256, kernel_size=(3, 3), stride=(1, 1), padding=(1, 1))\n",
            "    (9): ReLU(inplace=True)\n",
            "    (10): Conv2d(256, 256, kernel_size=(3, 3), stride=(1, 1), padding=(1, 1))\n",
            "    (11): ReLU(inplace=True)\n",
            "    (12): MaxPool2d(kernel_size=3, stride=2, padding=0, dilation=1, ceil_mode=False)\n",
            "  )\n",
            "  (avgpool): AdaptiveAvgPool2d(output_size=(6, 6))\n",
            "  (classifier): Sequential(\n",
            "    (0): Dropout(p=0.5, inplace=False)\n",
            "    (1): Linear(in_features=9216, out_features=4096, bias=True)\n",
            "    (2): ReLU(inplace=True)\n",
            "    (3): Dropout(p=0.5, inplace=False)\n",
            "    (4): Linear(in_features=4096, out_features=4096, bias=True)\n",
            "    (5): ReLU(inplace=True)\n",
            "    (6): Linear(in_features=4096, out_features=1000, bias=True)\n",
            "  )\n",
            ")\n"
          ]
        }
      ]
    },
    {
      "cell_type": "code",
      "source": [
        "#Checking how many trainble parameters in a model\n",
        "def count_params(model):\n",
        "  model_params={\"Modules\":list(), \"Parameters\":list()}\n",
        "  total={\"trainable\":0, \"non_trainable\":0}\n",
        "  for name, parameters in model.named_parameters():\n",
        "    param=parameters.numel()\n",
        "    if not parameters.requires_grad:\n",
        "      total[\"non_trainable\"] +=param\n",
        "\n",
        "      continue\n",
        "    \n",
        "    model_params[\"Modules\"].append(name)\n",
        "    model_params[\"Parameters\"].append(param)\n",
        "    total[\"trainable\"] +=param\n",
        "  df=pd.DataFrame(model_params)\n",
        "  df=df.style.set_caption(f\"Total trainable parameters: {total}\")\n",
        "  return df\n",
        "count_params(model)"
      ],
      "metadata": {
        "colab": {
          "base_uri": "https://localhost:8080/",
          "height": 586
        },
        "id": "xvdmEqSI1QYV",
        "outputId": "4809a56e-d00a-471f-e4f7-cf617935f607"
      },
      "execution_count": 220,
      "outputs": [
        {
          "output_type": "execute_result",
          "data": {
            "text/plain": [
              "<pandas.io.formats.style.Styler at 0x7f9a5e4339d0>"
            ],
            "text/html": [
              "<style type=\"text/css\">\n",
              "</style>\n",
              "<table id=\"T_514e7_\" class=\"dataframe\">\n",
              "  <caption>Total trainable parameters: {'trainable': 61100840, 'non_trainable': 0}</caption>\n",
              "  <thead>\n",
              "    <tr>\n",
              "      <th class=\"blank level0\" >&nbsp;</th>\n",
              "      <th class=\"col_heading level0 col0\" >Modules</th>\n",
              "      <th class=\"col_heading level0 col1\" >Parameters</th>\n",
              "    </tr>\n",
              "  </thead>\n",
              "  <tbody>\n",
              "    <tr>\n",
              "      <th id=\"T_514e7_level0_row0\" class=\"row_heading level0 row0\" >0</th>\n",
              "      <td id=\"T_514e7_row0_col0\" class=\"data row0 col0\" >features.0.weight</td>\n",
              "      <td id=\"T_514e7_row0_col1\" class=\"data row0 col1\" >23232</td>\n",
              "    </tr>\n",
              "    <tr>\n",
              "      <th id=\"T_514e7_level0_row1\" class=\"row_heading level0 row1\" >1</th>\n",
              "      <td id=\"T_514e7_row1_col0\" class=\"data row1 col0\" >features.0.bias</td>\n",
              "      <td id=\"T_514e7_row1_col1\" class=\"data row1 col1\" >64</td>\n",
              "    </tr>\n",
              "    <tr>\n",
              "      <th id=\"T_514e7_level0_row2\" class=\"row_heading level0 row2\" >2</th>\n",
              "      <td id=\"T_514e7_row2_col0\" class=\"data row2 col0\" >features.3.weight</td>\n",
              "      <td id=\"T_514e7_row2_col1\" class=\"data row2 col1\" >307200</td>\n",
              "    </tr>\n",
              "    <tr>\n",
              "      <th id=\"T_514e7_level0_row3\" class=\"row_heading level0 row3\" >3</th>\n",
              "      <td id=\"T_514e7_row3_col0\" class=\"data row3 col0\" >features.3.bias</td>\n",
              "      <td id=\"T_514e7_row3_col1\" class=\"data row3 col1\" >192</td>\n",
              "    </tr>\n",
              "    <tr>\n",
              "      <th id=\"T_514e7_level0_row4\" class=\"row_heading level0 row4\" >4</th>\n",
              "      <td id=\"T_514e7_row4_col0\" class=\"data row4 col0\" >features.6.weight</td>\n",
              "      <td id=\"T_514e7_row4_col1\" class=\"data row4 col1\" >663552</td>\n",
              "    </tr>\n",
              "    <tr>\n",
              "      <th id=\"T_514e7_level0_row5\" class=\"row_heading level0 row5\" >5</th>\n",
              "      <td id=\"T_514e7_row5_col0\" class=\"data row5 col0\" >features.6.bias</td>\n",
              "      <td id=\"T_514e7_row5_col1\" class=\"data row5 col1\" >384</td>\n",
              "    </tr>\n",
              "    <tr>\n",
              "      <th id=\"T_514e7_level0_row6\" class=\"row_heading level0 row6\" >6</th>\n",
              "      <td id=\"T_514e7_row6_col0\" class=\"data row6 col0\" >features.8.weight</td>\n",
              "      <td id=\"T_514e7_row6_col1\" class=\"data row6 col1\" >884736</td>\n",
              "    </tr>\n",
              "    <tr>\n",
              "      <th id=\"T_514e7_level0_row7\" class=\"row_heading level0 row7\" >7</th>\n",
              "      <td id=\"T_514e7_row7_col0\" class=\"data row7 col0\" >features.8.bias</td>\n",
              "      <td id=\"T_514e7_row7_col1\" class=\"data row7 col1\" >256</td>\n",
              "    </tr>\n",
              "    <tr>\n",
              "      <th id=\"T_514e7_level0_row8\" class=\"row_heading level0 row8\" >8</th>\n",
              "      <td id=\"T_514e7_row8_col0\" class=\"data row8 col0\" >features.10.weight</td>\n",
              "      <td id=\"T_514e7_row8_col1\" class=\"data row8 col1\" >589824</td>\n",
              "    </tr>\n",
              "    <tr>\n",
              "      <th id=\"T_514e7_level0_row9\" class=\"row_heading level0 row9\" >9</th>\n",
              "      <td id=\"T_514e7_row9_col0\" class=\"data row9 col0\" >features.10.bias</td>\n",
              "      <td id=\"T_514e7_row9_col1\" class=\"data row9 col1\" >256</td>\n",
              "    </tr>\n",
              "    <tr>\n",
              "      <th id=\"T_514e7_level0_row10\" class=\"row_heading level0 row10\" >10</th>\n",
              "      <td id=\"T_514e7_row10_col0\" class=\"data row10 col0\" >classifier.1.weight</td>\n",
              "      <td id=\"T_514e7_row10_col1\" class=\"data row10 col1\" >37748736</td>\n",
              "    </tr>\n",
              "    <tr>\n",
              "      <th id=\"T_514e7_level0_row11\" class=\"row_heading level0 row11\" >11</th>\n",
              "      <td id=\"T_514e7_row11_col0\" class=\"data row11 col0\" >classifier.1.bias</td>\n",
              "      <td id=\"T_514e7_row11_col1\" class=\"data row11 col1\" >4096</td>\n",
              "    </tr>\n",
              "    <tr>\n",
              "      <th id=\"T_514e7_level0_row12\" class=\"row_heading level0 row12\" >12</th>\n",
              "      <td id=\"T_514e7_row12_col0\" class=\"data row12 col0\" >classifier.4.weight</td>\n",
              "      <td id=\"T_514e7_row12_col1\" class=\"data row12 col1\" >16777216</td>\n",
              "    </tr>\n",
              "    <tr>\n",
              "      <th id=\"T_514e7_level0_row13\" class=\"row_heading level0 row13\" >13</th>\n",
              "      <td id=\"T_514e7_row13_col0\" class=\"data row13 col0\" >classifier.4.bias</td>\n",
              "      <td id=\"T_514e7_row13_col1\" class=\"data row13 col1\" >4096</td>\n",
              "    </tr>\n",
              "    <tr>\n",
              "      <th id=\"T_514e7_level0_row14\" class=\"row_heading level0 row14\" >14</th>\n",
              "      <td id=\"T_514e7_row14_col0\" class=\"data row14 col0\" >classifier.6.weight</td>\n",
              "      <td id=\"T_514e7_row14_col1\" class=\"data row14 col1\" >4096000</td>\n",
              "    </tr>\n",
              "    <tr>\n",
              "      <th id=\"T_514e7_level0_row15\" class=\"row_heading level0 row15\" >15</th>\n",
              "      <td id=\"T_514e7_row15_col0\" class=\"data row15 col0\" >classifier.6.bias</td>\n",
              "      <td id=\"T_514e7_row15_col1\" class=\"data row15 col1\" >1000</td>\n",
              "    </tr>\n",
              "  </tbody>\n",
              "</table>\n"
            ]
          },
          "metadata": {},
          "execution_count": 220
        }
      ]
    },
    {
      "cell_type": "code",
      "source": [
        "# freeze all the layers\n",
        "for parameters in model.parameters():\n",
        "  print(parameters.requires_grad)"
      ],
      "metadata": {
        "colab": {
          "base_uri": "https://localhost:8080/"
        },
        "id": "eqxhGE5g1QcP",
        "outputId": "122ebd88-4345-44fb-ba08-9b506c88a439"
      },
      "execution_count": 221,
      "outputs": [
        {
          "output_type": "stream",
          "name": "stdout",
          "text": [
            "True\n",
            "True\n",
            "True\n",
            "True\n",
            "True\n",
            "True\n",
            "True\n",
            "True\n",
            "True\n",
            "True\n",
            "True\n",
            "True\n",
            "True\n",
            "True\n",
            "True\n",
            "True\n"
          ]
        }
      ]
    },
    {
      "cell_type": "code",
      "source": [
        "#making False\n",
        "for parameters in model.parameters():\n",
        "  parameters.requires_grad=False"
      ],
      "metadata": {
        "id": "ASzWFqMs_WqH"
      },
      "execution_count": 222,
      "outputs": []
    },
    {
      "cell_type": "code",
      "source": [
        "count_params(model)"
      ],
      "metadata": {
        "colab": {
          "base_uri": "https://localhost:8080/",
          "height": 101
        },
        "id": "VFVere9T_W0-",
        "outputId": "61d61220-a63f-4fc5-e49a-9d2bdf1ef0ae"
      },
      "execution_count": 223,
      "outputs": [
        {
          "output_type": "execute_result",
          "data": {
            "text/plain": [
              "<pandas.io.formats.style.Styler at 0x7f9a5e42b850>"
            ],
            "text/html": [
              "<style type=\"text/css\">\n",
              "</style>\n",
              "<table id=\"T_1a628_\" class=\"dataframe\">\n",
              "  <caption>Total trainable parameters: {'trainable': 0, 'non_trainable': 61100840}</caption>\n",
              "  <thead>\n",
              "    <tr>\n",
              "      <th class=\"blank level0\" >&nbsp;</th>\n",
              "      <th class=\"col_heading level0 col0\" >Modules</th>\n",
              "      <th class=\"col_heading level0 col1\" >Parameters</th>\n",
              "    </tr>\n",
              "  </thead>\n",
              "  <tbody>\n",
              "  </tbody>\n",
              "</table>\n"
            ]
          },
          "metadata": {},
          "execution_count": 223
        }
      ]
    },
    {
      "cell_type": "code",
      "source": [
        "# Define our own classifier\n",
        "model.classifier"
      ],
      "metadata": {
        "colab": {
          "base_uri": "https://localhost:8080/"
        },
        "id": "2INLY-0Y_W3y",
        "outputId": "3312f31e-1740-4348-ee99-179bfdb1a9b5"
      },
      "execution_count": 224,
      "outputs": [
        {
          "output_type": "execute_result",
          "data": {
            "text/plain": [
              "Sequential(\n",
              "  (0): Dropout(p=0.5, inplace=False)\n",
              "  (1): Linear(in_features=9216, out_features=4096, bias=True)\n",
              "  (2): ReLU(inplace=True)\n",
              "  (3): Dropout(p=0.5, inplace=False)\n",
              "  (4): Linear(in_features=4096, out_features=4096, bias=True)\n",
              "  (5): ReLU(inplace=True)\n",
              "  (6): Linear(in_features=4096, out_features=1000, bias=True)\n",
              ")"
            ]
          },
          "metadata": {},
          "execution_count": 224
        }
      ]
    },
    {
      "cell_type": "code",
      "source": [
        "#inplace =True->\n",
        "model.classifier=nn.Sequential(\n",
        "    nn.Linear(in_features=9216, out_features=100, bias=True),\n",
        "    nn.ReLU(inplace=True),\n",
        "    nn.Dropout(p=0.5, inplace=False),\n",
        "    nn.Linear(in_features=100, out_features=2, bias=True)\n",
        ")"
      ],
      "metadata": {
        "id": "ucRNarFr0wuq"
      },
      "execution_count": 225,
      "outputs": []
    },
    {
      "cell_type": "code",
      "source": [
        "print(model)"
      ],
      "metadata": {
        "colab": {
          "base_uri": "https://localhost:8080/"
        },
        "id": "60R1D0rK_6a5",
        "outputId": "1f94347b-7c98-439d-ef87-ddf618cd52af"
      },
      "execution_count": 226,
      "outputs": [
        {
          "output_type": "stream",
          "name": "stdout",
          "text": [
            "AlexNet(\n",
            "  (features): Sequential(\n",
            "    (0): Conv2d(3, 64, kernel_size=(11, 11), stride=(4, 4), padding=(2, 2))\n",
            "    (1): ReLU(inplace=True)\n",
            "    (2): MaxPool2d(kernel_size=3, stride=2, padding=0, dilation=1, ceil_mode=False)\n",
            "    (3): Conv2d(64, 192, kernel_size=(5, 5), stride=(1, 1), padding=(2, 2))\n",
            "    (4): ReLU(inplace=True)\n",
            "    (5): MaxPool2d(kernel_size=3, stride=2, padding=0, dilation=1, ceil_mode=False)\n",
            "    (6): Conv2d(192, 384, kernel_size=(3, 3), stride=(1, 1), padding=(1, 1))\n",
            "    (7): ReLU(inplace=True)\n",
            "    (8): Conv2d(384, 256, kernel_size=(3, 3), stride=(1, 1), padding=(1, 1))\n",
            "    (9): ReLU(inplace=True)\n",
            "    (10): Conv2d(256, 256, kernel_size=(3, 3), stride=(1, 1), padding=(1, 1))\n",
            "    (11): ReLU(inplace=True)\n",
            "    (12): MaxPool2d(kernel_size=3, stride=2, padding=0, dilation=1, ceil_mode=False)\n",
            "  )\n",
            "  (avgpool): AdaptiveAvgPool2d(output_size=(6, 6))\n",
            "  (classifier): Sequential(\n",
            "    (0): Linear(in_features=9216, out_features=100, bias=True)\n",
            "    (1): ReLU(inplace=True)\n",
            "    (2): Dropout(p=0.5, inplace=False)\n",
            "    (3): Linear(in_features=100, out_features=2, bias=True)\n",
            "  )\n",
            ")\n"
          ]
        }
      ]
    },
    {
      "cell_type": "code",
      "source": [
        "count_params(model)"
      ],
      "metadata": {
        "colab": {
          "base_uri": "https://localhost:8080/",
          "height": 227
        },
        "id": "2_IsEqDI_6eF",
        "outputId": "93735eee-204a-4805-e8fd-5051606aab0e"
      },
      "execution_count": 227,
      "outputs": [
        {
          "output_type": "execute_result",
          "data": {
            "text/plain": [
              "<pandas.io.formats.style.Styler at 0x7f9a5e3e55d0>"
            ],
            "text/html": [
              "<style type=\"text/css\">\n",
              "</style>\n",
              "<table id=\"T_1d9bb_\" class=\"dataframe\">\n",
              "  <caption>Total trainable parameters: {'trainable': 921902, 'non_trainable': 2469696}</caption>\n",
              "  <thead>\n",
              "    <tr>\n",
              "      <th class=\"blank level0\" >&nbsp;</th>\n",
              "      <th class=\"col_heading level0 col0\" >Modules</th>\n",
              "      <th class=\"col_heading level0 col1\" >Parameters</th>\n",
              "    </tr>\n",
              "  </thead>\n",
              "  <tbody>\n",
              "    <tr>\n",
              "      <th id=\"T_1d9bb_level0_row0\" class=\"row_heading level0 row0\" >0</th>\n",
              "      <td id=\"T_1d9bb_row0_col0\" class=\"data row0 col0\" >classifier.0.weight</td>\n",
              "      <td id=\"T_1d9bb_row0_col1\" class=\"data row0 col1\" >921600</td>\n",
              "    </tr>\n",
              "    <tr>\n",
              "      <th id=\"T_1d9bb_level0_row1\" class=\"row_heading level0 row1\" >1</th>\n",
              "      <td id=\"T_1d9bb_row1_col0\" class=\"data row1 col0\" >classifier.0.bias</td>\n",
              "      <td id=\"T_1d9bb_row1_col1\" class=\"data row1 col1\" >100</td>\n",
              "    </tr>\n",
              "    <tr>\n",
              "      <th id=\"T_1d9bb_level0_row2\" class=\"row_heading level0 row2\" >2</th>\n",
              "      <td id=\"T_1d9bb_row2_col0\" class=\"data row2 col0\" >classifier.3.weight</td>\n",
              "      <td id=\"T_1d9bb_row2_col1\" class=\"data row2 col1\" >200</td>\n",
              "    </tr>\n",
              "    <tr>\n",
              "      <th id=\"T_1d9bb_level0_row3\" class=\"row_heading level0 row3\" >3</th>\n",
              "      <td id=\"T_1d9bb_row3_col0\" class=\"data row3 col0\" >classifier.3.bias</td>\n",
              "      <td id=\"T_1d9bb_row3_col1\" class=\"data row3 col1\" >2</td>\n",
              "    </tr>\n",
              "  </tbody>\n",
              "</table>\n"
            ]
          },
          "metadata": {},
          "execution_count": 227
        }
      ]
    },
    {
      "cell_type": "code",
      "source": [
        "model.to(config.DEVICE)"
      ],
      "metadata": {
        "colab": {
          "base_uri": "https://localhost:8080/"
        },
        "id": "OcBl0-LWBoxG",
        "outputId": "fda22cfa-1c1a-430e-d2eb-d81b7c65d9c4"
      },
      "execution_count": 228,
      "outputs": [
        {
          "output_type": "execute_result",
          "data": {
            "text/plain": [
              "AlexNet(\n",
              "  (features): Sequential(\n",
              "    (0): Conv2d(3, 64, kernel_size=(11, 11), stride=(4, 4), padding=(2, 2))\n",
              "    (1): ReLU(inplace=True)\n",
              "    (2): MaxPool2d(kernel_size=3, stride=2, padding=0, dilation=1, ceil_mode=False)\n",
              "    (3): Conv2d(64, 192, kernel_size=(5, 5), stride=(1, 1), padding=(2, 2))\n",
              "    (4): ReLU(inplace=True)\n",
              "    (5): MaxPool2d(kernel_size=3, stride=2, padding=0, dilation=1, ceil_mode=False)\n",
              "    (6): Conv2d(192, 384, kernel_size=(3, 3), stride=(1, 1), padding=(1, 1))\n",
              "    (7): ReLU(inplace=True)\n",
              "    (8): Conv2d(384, 256, kernel_size=(3, 3), stride=(1, 1), padding=(1, 1))\n",
              "    (9): ReLU(inplace=True)\n",
              "    (10): Conv2d(256, 256, kernel_size=(3, 3), stride=(1, 1), padding=(1, 1))\n",
              "    (11): ReLU(inplace=True)\n",
              "    (12): MaxPool2d(kernel_size=3, stride=2, padding=0, dilation=1, ceil_mode=False)\n",
              "  )\n",
              "  (avgpool): AdaptiveAvgPool2d(output_size=(6, 6))\n",
              "  (classifier): Sequential(\n",
              "    (0): Linear(in_features=9216, out_features=100, bias=True)\n",
              "    (1): ReLU(inplace=True)\n",
              "    (2): Dropout(p=0.5, inplace=False)\n",
              "    (3): Linear(in_features=100, out_features=2, bias=True)\n",
              "  )\n",
              ")"
            ]
          },
          "metadata": {},
          "execution_count": 228
        }
      ]
    },
    {
      "cell_type": "code",
      "source": [
        "criterion=nn.CrossEntropyLoss()\n",
        "optimizer=torch.optim.Adam(model.parameters())"
      ],
      "metadata": {
        "id": "rCaV16OuBo0u"
      },
      "execution_count": 229,
      "outputs": []
    },
    {
      "cell_type": "code",
      "source": [
        "for epoch in range(config.EPOCH):\n",
        "  with tqdm(train_loader) as tqdm_epoch:\n",
        "    for images, labels in tqdm_epoch:\n",
        "      tqdm_epoch.set_description(f\"Epoch {epoch+1}/{config.EPOCH}\")\n",
        "      images=images.to(config.DEVICE)\n",
        "      labels=labels.to(config.DEVICE)\n",
        "\n",
        "      # forward pass\n",
        "      outputs=model(images)\n",
        "      loss=criterion(outputs, labels)\n",
        "\n",
        "      #Backward pass\n",
        "      optimizer.zero_grad()\n",
        "      loss.backward()\n",
        "      optimizer.step()\n",
        "      \n",
        "      tqdm_epoch.set_postfix(loss=loss.item())"
      ],
      "metadata": {
        "colab": {
          "base_uri": "https://localhost:8080/"
        },
        "id": "JTkRzkXgBo6S",
        "outputId": "1d977928-a7eb-49f0-e94a-353f24d137b4"
      },
      "execution_count": null,
      "outputs": [
        {
          "output_type": "stream",
          "name": "stderr",
          "text": [
            "Epoch 1/1000: 100%|██████████| 8/8 [00:02<00:00,  3.31it/s, loss=0.459]\n",
            "Epoch 2/1000: 100%|██████████| 8/8 [00:02<00:00,  3.31it/s, loss=0.23]\n",
            "Epoch 3/1000: 100%|██████████| 8/8 [00:02<00:00,  3.13it/s, loss=0.145]\n",
            "Epoch 4/1000: 100%|██████████| 8/8 [00:02<00:00,  3.30it/s, loss=0.347]\n",
            "Epoch 5/1000: 100%|██████████| 8/8 [00:02<00:00,  3.27it/s, loss=0.0754]\n",
            "Epoch 6/1000: 100%|██████████| 8/8 [00:02<00:00,  3.08it/s, loss=0.182]\n",
            "Epoch 7/1000: 100%|██████████| 8/8 [00:03<00:00,  2.42it/s, loss=0.0587]\n",
            "Epoch 8/1000: 100%|██████████| 8/8 [00:02<00:00,  3.30it/s, loss=0.0424]\n",
            "Epoch 9/1000: 100%|██████████| 8/8 [00:02<00:00,  3.28it/s, loss=0.00701]\n",
            "Epoch 10/1000: 100%|██████████| 8/8 [00:02<00:00,  3.29it/s, loss=0.00923]\n",
            "Epoch 11/1000: 100%|██████████| 8/8 [00:02<00:00,  3.30it/s, loss=0.0123]\n",
            "Epoch 12/1000: 100%|██████████| 8/8 [00:02<00:00,  3.28it/s, loss=0.0162]\n",
            "Epoch 13/1000: 100%|██████████| 8/8 [00:02<00:00,  3.33it/s, loss=0.165]\n",
            "Epoch 14/1000: 100%|██████████| 8/8 [00:02<00:00,  3.25it/s, loss=0.0326]\n",
            "Epoch 15/1000: 100%|██████████| 8/8 [00:02<00:00,  3.28it/s, loss=0.00761]\n",
            "Epoch 16/1000: 100%|██████████| 8/8 [00:02<00:00,  3.33it/s, loss=0.0471]\n",
            "Epoch 17/1000: 100%|██████████| 8/8 [00:02<00:00,  3.25it/s, loss=0.00514]\n",
            "Epoch 18/1000: 100%|██████████| 8/8 [00:02<00:00,  3.30it/s, loss=0.00812]\n",
            "Epoch 19/1000: 100%|██████████| 8/8 [00:02<00:00,  3.26it/s, loss=0.0122]\n",
            "Epoch 20/1000: 100%|██████████| 8/8 [00:02<00:00,  3.25it/s, loss=0.000651]\n",
            "Epoch 21/1000: 100%|██████████| 8/8 [00:02<00:00,  3.27it/s, loss=0.0124]\n",
            "Epoch 22/1000: 100%|██████████| 8/8 [00:02<00:00,  3.21it/s, loss=0.0441]\n",
            "Epoch 23/1000: 100%|██████████| 8/8 [00:02<00:00,  3.27it/s, loss=0.017]\n",
            "Epoch 24/1000: 100%|██████████| 8/8 [00:02<00:00,  3.28it/s, loss=0.0657]\n",
            "Epoch 25/1000: 100%|██████████| 8/8 [00:02<00:00,  3.26it/s, loss=0.000493]\n",
            "Epoch 26/1000: 100%|██████████| 8/8 [00:02<00:00,  3.36it/s, loss=0.00399]\n",
            "Epoch 27/1000: 100%|██████████| 8/8 [00:02<00:00,  3.30it/s, loss=0.015]\n",
            "Epoch 28/1000: 100%|██████████| 8/8 [00:02<00:00,  3.40it/s, loss=0.00132]\n",
            "Epoch 29/1000: 100%|██████████| 8/8 [00:02<00:00,  3.41it/s, loss=0.00521]\n",
            "Epoch 30/1000: 100%|██████████| 8/8 [00:02<00:00,  3.38it/s, loss=0.00463]\n",
            "Epoch 31/1000: 100%|██████████| 8/8 [00:02<00:00,  3.27it/s, loss=0.000932]\n",
            "Epoch 32/1000: 100%|██████████| 8/8 [00:02<00:00,  3.38it/s, loss=0.000103]\n",
            "Epoch 33/1000: 100%|██████████| 8/8 [00:02<00:00,  3.37it/s, loss=0.00086]\n",
            "Epoch 34/1000: 100%|██████████| 8/8 [00:02<00:00,  3.37it/s, loss=0.000122]\n",
            "Epoch 35/1000: 100%|██████████| 8/8 [00:02<00:00,  3.42it/s, loss=0.00128]\n",
            "Epoch 36/1000: 100%|██████████| 8/8 [00:02<00:00,  3.44it/s, loss=0.000951]\n",
            "Epoch 37/1000: 100%|██████████| 8/8 [00:02<00:00,  3.45it/s, loss=0.00201]\n",
            "Epoch 38/1000: 100%|██████████| 8/8 [00:02<00:00,  3.43it/s, loss=0.0105]\n",
            "Epoch 39/1000: 100%|██████████| 8/8 [00:02<00:00,  3.39it/s, loss=0.000636]\n",
            "Epoch 40/1000: 100%|██████████| 8/8 [00:02<00:00,  3.40it/s, loss=0.00162]\n",
            "Epoch 41/1000: 100%|██████████| 8/8 [00:02<00:00,  3.47it/s, loss=0.00501]\n",
            "Epoch 42/1000: 100%|██████████| 8/8 [00:02<00:00,  3.37it/s, loss=0.000466]\n",
            "Epoch 43/1000: 100%|██████████| 8/8 [00:02<00:00,  3.43it/s, loss=0.00447]\n",
            "Epoch 44/1000: 100%|██████████| 8/8 [00:02<00:00,  3.40it/s, loss=0.00762]\n",
            "Epoch 45/1000: 100%|██████████| 8/8 [00:02<00:00,  3.37it/s, loss=0.0017]\n",
            "Epoch 46/1000: 100%|██████████| 8/8 [00:02<00:00,  3.40it/s, loss=0.00452]\n",
            "Epoch 47/1000: 100%|██████████| 8/8 [00:02<00:00,  3.48it/s, loss=0.000248]\n",
            "Epoch 48/1000: 100%|██████████| 8/8 [00:02<00:00,  3.40it/s, loss=0.000273]\n",
            "Epoch 49/1000: 100%|██████████| 8/8 [00:02<00:00,  3.44it/s, loss=0.00248]\n",
            "Epoch 50/1000: 100%|██████████| 8/8 [00:02<00:00,  3.41it/s, loss=0.0165]\n",
            "Epoch 51/1000: 100%|██████████| 8/8 [00:02<00:00,  3.47it/s, loss=0.00176]\n",
            "Epoch 52/1000: 100%|██████████| 8/8 [00:02<00:00,  3.48it/s, loss=0.000352]\n",
            "Epoch 53/1000: 100%|██████████| 8/8 [00:02<00:00,  3.44it/s, loss=0.000273]\n",
            "Epoch 54/1000: 100%|██████████| 8/8 [00:02<00:00,  3.33it/s, loss=2.02e-5]\n",
            "Epoch 55/1000: 100%|██████████| 8/8 [00:02<00:00,  2.75it/s, loss=0.000702]\n",
            "Epoch 56/1000: 100%|██████████| 8/8 [00:02<00:00,  2.84it/s, loss=0.000719]\n",
            "Epoch 57/1000: 100%|██████████| 8/8 [00:02<00:00,  3.34it/s, loss=0.00145]\n",
            "Epoch 58/1000: 100%|██████████| 8/8 [00:02<00:00,  3.37it/s, loss=7.35e-5]\n",
            "Epoch 59/1000: 100%|██████████| 8/8 [00:02<00:00,  3.40it/s, loss=0.00648]\n",
            "Epoch 60/1000: 100%|██████████| 8/8 [00:02<00:00,  3.38it/s, loss=0.000165]\n",
            "Epoch 61/1000: 100%|██████████| 8/8 [00:02<00:00,  3.35it/s, loss=4.4e-5]\n",
            "Epoch 62/1000: 100%|██████████| 8/8 [00:02<00:00,  3.39it/s, loss=0.0103]\n",
            "Epoch 63/1000: 100%|██████████| 8/8 [00:02<00:00,  3.37it/s, loss=0.000445]\n",
            "Epoch 64/1000: 100%|██████████| 8/8 [00:02<00:00,  3.34it/s, loss=0.00403]\n",
            "Epoch 65/1000: 100%|██████████| 8/8 [00:02<00:00,  3.37it/s, loss=0.0112]\n",
            "Epoch 66/1000: 100%|██████████| 8/8 [00:02<00:00,  3.41it/s, loss=0.00163]\n",
            "Epoch 67/1000: 100%|██████████| 8/8 [00:02<00:00,  3.38it/s, loss=0.00259]\n",
            "Epoch 68/1000: 100%|██████████| 8/8 [00:02<00:00,  3.37it/s, loss=3.74e-5]\n",
            "Epoch 69/1000: 100%|██████████| 8/8 [00:02<00:00,  3.34it/s, loss=0.000141]\n",
            "Epoch 70/1000: 100%|██████████| 8/8 [00:02<00:00,  3.33it/s, loss=0.000408]\n",
            "Epoch 71/1000: 100%|██████████| 8/8 [00:02<00:00,  3.31it/s, loss=4.7e-5]\n",
            "Epoch 72/1000: 100%|██████████| 8/8 [00:02<00:00,  3.35it/s, loss=3.77e-5]\n",
            "Epoch 73/1000: 100%|██████████| 8/8 [00:02<00:00,  3.34it/s, loss=3.01e-5]\n",
            "Epoch 74/1000: 100%|██████████| 8/8 [00:02<00:00,  3.37it/s, loss=3.68e-5]\n",
            "Epoch 75/1000: 100%|██████████| 8/8 [00:02<00:00,  3.40it/s, loss=0.000145]\n",
            "Epoch 76/1000: 100%|██████████| 8/8 [00:02<00:00,  3.35it/s, loss=0.0048]\n",
            "Epoch 77/1000: 100%|██████████| 8/8 [00:02<00:00,  3.34it/s, loss=4.84e-5]\n",
            "Epoch 78/1000: 100%|██████████| 8/8 [00:02<00:00,  3.39it/s, loss=0.00758]\n",
            "Epoch 79/1000: 100%|██████████| 8/8 [00:02<00:00,  3.37it/s, loss=0.0177]\n",
            "Epoch 80/1000: 100%|██████████| 8/8 [00:02<00:00,  3.36it/s, loss=0.00392]\n",
            "Epoch 81/1000: 100%|██████████| 8/8 [00:02<00:00,  3.34it/s, loss=0.000332]\n",
            "Epoch 82/1000: 100%|██████████| 8/8 [00:02<00:00,  3.35it/s, loss=0.00101]\n",
            "Epoch 83/1000: 100%|██████████| 8/8 [00:02<00:00,  3.33it/s, loss=0.000151]\n",
            "Epoch 84/1000: 100%|██████████| 8/8 [00:02<00:00,  3.39it/s, loss=0.196]\n",
            "Epoch 85/1000: 100%|██████████| 8/8 [00:02<00:00,  3.38it/s, loss=0.122]\n",
            "Epoch 86/1000: 100%|██████████| 8/8 [00:02<00:00,  3.34it/s, loss=0.000211]\n",
            "Epoch 87/1000: 100%|██████████| 8/8 [00:02<00:00,  3.40it/s, loss=0.0298]\n",
            "Epoch 88/1000: 100%|██████████| 8/8 [00:02<00:00,  3.35it/s, loss=0.0328]\n",
            "Epoch 89/1000: 100%|██████████| 8/8 [00:02<00:00,  3.38it/s, loss=0.067]\n",
            "Epoch 90/1000: 100%|██████████| 8/8 [00:02<00:00,  3.36it/s, loss=0.000567]\n",
            "Epoch 91/1000: 100%|██████████| 8/8 [00:02<00:00,  3.38it/s, loss=0.0106]\n",
            "Epoch 92/1000: 100%|██████████| 8/8 [00:02<00:00,  3.36it/s, loss=0.0243]\n",
            "Epoch 93/1000: 100%|██████████| 8/8 [00:02<00:00,  3.39it/s, loss=0.00548]\n",
            "Epoch 94/1000: 100%|██████████| 8/8 [00:02<00:00,  3.35it/s, loss=0.000374]\n",
            "Epoch 95/1000: 100%|██████████| 8/8 [00:02<00:00,  3.37it/s, loss=0.00928]\n",
            "Epoch 96/1000: 100%|██████████| 8/8 [00:02<00:00,  3.31it/s, loss=0.0516]\n",
            "Epoch 97/1000: 100%|██████████| 8/8 [00:02<00:00,  3.35it/s, loss=0.00152]\n",
            "Epoch 98/1000: 100%|██████████| 8/8 [00:02<00:00,  3.43it/s, loss=0.00236]\n",
            "Epoch 99/1000: 100%|██████████| 8/8 [00:02<00:00,  3.39it/s, loss=0.000513]\n",
            "Epoch 100/1000: 100%|██████████| 8/8 [00:02<00:00,  3.39it/s, loss=0.00427]\n",
            "Epoch 101/1000: 100%|██████████| 8/8 [00:02<00:00,  3.44it/s, loss=0.000897]\n",
            "Epoch 102/1000: 100%|██████████| 8/8 [00:02<00:00,  3.36it/s, loss=0.00274]\n",
            "Epoch 103/1000: 100%|██████████| 8/8 [00:02<00:00,  3.23it/s, loss=0.00758]\n",
            "Epoch 104/1000: 100%|██████████| 8/8 [00:03<00:00,  2.49it/s, loss=0.000301]\n",
            "Epoch 105/1000: 100%|██████████| 8/8 [00:02<00:00,  2.97it/s, loss=0.0304]\n",
            "Epoch 106/1000: 100%|██████████| 8/8 [00:02<00:00,  3.21it/s, loss=6.16e-5]\n",
            "Epoch 107/1000: 100%|██████████| 8/8 [00:02<00:00,  3.21it/s, loss=0.000882]\n",
            "Epoch 108/1000: 100%|██████████| 8/8 [00:02<00:00,  3.21it/s, loss=0.000411]\n",
            "Epoch 109/1000: 100%|██████████| 8/8 [00:02<00:00,  3.33it/s, loss=7.15e-6]\n",
            "Epoch 110/1000: 100%|██████████| 8/8 [00:02<00:00,  3.37it/s, loss=0.00114]\n",
            "Epoch 111/1000: 100%|██████████| 8/8 [00:02<00:00,  3.34it/s, loss=0.00463]\n",
            "Epoch 112/1000: 100%|██████████| 8/8 [00:02<00:00,  3.36it/s, loss=0.00154]\n",
            "Epoch 113/1000: 100%|██████████| 8/8 [00:02<00:00,  3.36it/s, loss=0.00126]\n",
            "Epoch 114/1000: 100%|██████████| 8/8 [00:02<00:00,  3.37it/s, loss=7.31e-6]\n",
            "Epoch 115/1000: 100%|██████████| 8/8 [00:02<00:00,  3.37it/s, loss=0.000176]\n",
            "Epoch 116/1000: 100%|██████████| 8/8 [00:02<00:00,  3.35it/s, loss=6.5e-5]\n",
            "Epoch 117/1000: 100%|██████████| 8/8 [00:02<00:00,  3.35it/s, loss=0.00111]\n",
            "Epoch 118/1000: 100%|██████████| 8/8 [00:02<00:00,  3.33it/s, loss=0.000484]\n",
            "Epoch 119/1000: 100%|██████████| 8/8 [00:02<00:00,  3.33it/s, loss=0.00429]\n",
            "Epoch 120/1000: 100%|██████████| 8/8 [00:02<00:00,  3.36it/s, loss=0.00012]\n",
            "Epoch 121/1000: 100%|██████████| 8/8 [00:02<00:00,  3.29it/s, loss=0.056]\n",
            "Epoch 122/1000: 100%|██████████| 8/8 [00:02<00:00,  3.37it/s, loss=1.92e-5]\n",
            "Epoch 123/1000: 100%|██████████| 8/8 [00:02<00:00,  3.42it/s, loss=0.000119]\n",
            "Epoch 124/1000: 100%|██████████| 8/8 [00:02<00:00,  3.40it/s, loss=0.000765]\n",
            "Epoch 125/1000: 100%|██████████| 8/8 [00:02<00:00,  3.41it/s, loss=0.000824]\n",
            "Epoch 126/1000: 100%|██████████| 8/8 [00:02<00:00,  3.37it/s, loss=8.11e-7]\n",
            "Epoch 127/1000: 100%|██████████| 8/8 [00:02<00:00,  3.40it/s, loss=1.72e-6]\n",
            "Epoch 128/1000: 100%|██████████| 8/8 [00:02<00:00,  3.38it/s, loss=0.0607]\n",
            "Epoch 129/1000: 100%|██████████| 8/8 [00:02<00:00,  3.38it/s, loss=5.26e-5]\n",
            "Epoch 130/1000: 100%|██████████| 8/8 [00:02<00:00,  3.38it/s, loss=1.72e-6]\n",
            "Epoch 131/1000: 100%|██████████| 8/8 [00:02<00:00,  3.41it/s, loss=0.00404]\n",
            "Epoch 132/1000: 100%|██████████| 8/8 [00:02<00:00,  3.37it/s, loss=0.000657]\n",
            "Epoch 133/1000: 100%|██████████| 8/8 [00:02<00:00,  3.38it/s, loss=0.345]\n",
            "Epoch 134/1000: 100%|██████████| 8/8 [00:02<00:00,  3.33it/s, loss=1.74e-5]\n",
            "Epoch 135/1000: 100%|██████████| 8/8 [00:02<00:00,  3.33it/s, loss=0.000133]\n",
            "Epoch 136/1000: 100%|██████████| 8/8 [00:02<00:00,  3.39it/s, loss=0.0321]\n",
            "Epoch 137/1000: 100%|██████████| 8/8 [00:02<00:00,  3.32it/s, loss=0.0926]\n",
            "Epoch 138/1000: 100%|██████████| 8/8 [00:02<00:00,  3.38it/s, loss=0.14]\n",
            "Epoch 139/1000: 100%|██████████| 8/8 [00:02<00:00,  3.33it/s, loss=0.0114]\n",
            "Epoch 140/1000: 100%|██████████| 8/8 [00:02<00:00,  3.39it/s, loss=0.211]\n",
            "Epoch 141/1000: 100%|██████████| 8/8 [00:02<00:00,  3.37it/s, loss=0.000138]\n",
            "Epoch 142/1000: 100%|██████████| 8/8 [00:02<00:00,  3.38it/s, loss=0.00899]\n",
            "Epoch 143/1000: 100%|██████████| 8/8 [00:02<00:00,  3.34it/s, loss=0.000277]\n",
            "Epoch 144/1000: 100%|██████████| 8/8 [00:02<00:00,  3.38it/s, loss=0.0665]\n",
            "Epoch 145/1000: 100%|██████████| 8/8 [00:02<00:00,  3.38it/s, loss=0.0155]\n",
            "Epoch 146/1000: 100%|██████████| 8/8 [00:02<00:00,  3.35it/s, loss=0.000928]\n",
            "Epoch 147/1000: 100%|██████████| 8/8 [00:02<00:00,  3.34it/s, loss=0.07]\n",
            "Epoch 148/1000: 100%|██████████| 8/8 [00:02<00:00,  3.32it/s, loss=0.000374]\n",
            "Epoch 149/1000: 100%|██████████| 8/8 [00:02<00:00,  3.35it/s, loss=0.1]\n",
            "Epoch 150/1000: 100%|██████████| 8/8 [00:02<00:00,  3.31it/s, loss=0.0968]\n",
            "Epoch 151/1000: 100%|██████████| 8/8 [00:02<00:00,  3.19it/s, loss=0.00342]\n",
            "Epoch 152/1000: 100%|██████████| 8/8 [00:03<00:00,  2.44it/s, loss=0.024]\n",
            "Epoch 153/1000: 100%|██████████| 8/8 [00:02<00:00,  3.33it/s, loss=0.0457]\n",
            "Epoch 154/1000: 100%|██████████| 8/8 [00:02<00:00,  3.32it/s, loss=0.00056]\n",
            "Epoch 155/1000: 100%|██████████| 8/8 [00:02<00:00,  3.28it/s, loss=7.4e-6]\n",
            "Epoch 156/1000: 100%|██████████| 8/8 [00:02<00:00,  3.33it/s, loss=0.00188]\n",
            "Epoch 157/1000: 100%|██████████| 8/8 [00:02<00:00,  3.38it/s, loss=0.000137]\n",
            "Epoch 158/1000: 100%|██████████| 8/8 [00:02<00:00,  3.39it/s, loss=0.00108]\n",
            "Epoch 159/1000: 100%|██████████| 8/8 [00:02<00:00,  3.37it/s, loss=0.0293]\n",
            "Epoch 160/1000: 100%|██████████| 8/8 [00:02<00:00,  3.32it/s, loss=0.00291]\n",
            "Epoch 161/1000: 100%|██████████| 8/8 [00:02<00:00,  3.41it/s, loss=0.00117]\n",
            "Epoch 162/1000: 100%|██████████| 8/8 [00:02<00:00,  3.37it/s, loss=0.000185]\n",
            "Epoch 163/1000: 100%|██████████| 8/8 [00:02<00:00,  3.41it/s, loss=0.00952]\n",
            "Epoch 164/1000: 100%|██████████| 8/8 [00:02<00:00,  3.37it/s, loss=0.00022]\n",
            "Epoch 165/1000: 100%|██████████| 8/8 [00:02<00:00,  3.31it/s, loss=6.06e-6]\n",
            "Epoch 166/1000: 100%|██████████| 8/8 [00:02<00:00,  3.31it/s, loss=0.000303]\n",
            "Epoch 167/1000: 100%|██████████| 8/8 [00:02<00:00,  3.32it/s, loss=0.00057]\n",
            "Epoch 168/1000: 100%|██████████| 8/8 [00:02<00:00,  3.32it/s, loss=0.0217]\n",
            "Epoch 169/1000: 100%|██████████| 8/8 [00:02<00:00,  3.34it/s, loss=0.0284]\n",
            "Epoch 170/1000: 100%|██████████| 8/8 [00:02<00:00,  3.34it/s, loss=3.44e-6]\n",
            "Epoch 171/1000: 100%|██████████| 8/8 [00:02<00:00,  3.30it/s, loss=0.0009]\n",
            "Epoch 172/1000: 100%|██████████| 8/8 [00:02<00:00,  3.30it/s, loss=2.82e-5]\n",
            "Epoch 173/1000: 100%|██████████| 8/8 [00:02<00:00,  3.33it/s, loss=0.000106]\n",
            "Epoch 174/1000: 100%|██████████| 8/8 [00:02<00:00,  3.34it/s, loss=0.000467]\n",
            "Epoch 175/1000: 100%|██████████| 8/8 [00:02<00:00,  3.34it/s, loss=0.00162]\n",
            "Epoch 176/1000: 100%|██████████| 8/8 [00:02<00:00,  3.34it/s, loss=0.000592]\n",
            "Epoch 177/1000: 100%|██████████| 8/8 [00:02<00:00,  3.37it/s, loss=0.00205]\n",
            "Epoch 178/1000: 100%|██████████| 8/8 [00:02<00:00,  3.34it/s, loss=0.00197]\n",
            "Epoch 179/1000: 100%|██████████| 8/8 [00:02<00:00,  3.37it/s, loss=0.000419]\n",
            "Epoch 180/1000: 100%|██████████| 8/8 [00:02<00:00,  3.37it/s, loss=4.28e-5]\n",
            "Epoch 181/1000: 100%|██████████| 8/8 [00:02<00:00,  3.32it/s, loss=0.00131]\n",
            "Epoch 182/1000: 100%|██████████| 8/8 [00:02<00:00,  3.35it/s, loss=0.0106]\n",
            "Epoch 183/1000: 100%|██████████| 8/8 [00:02<00:00,  3.34it/s, loss=0.000136]\n",
            "Epoch 184/1000: 100%|██████████| 8/8 [00:02<00:00,  3.34it/s, loss=3.9e-6]\n",
            "Epoch 185/1000: 100%|██████████| 8/8 [00:02<00:00,  3.29it/s, loss=0.000763]\n",
            "Epoch 186/1000: 100%|██████████| 8/8 [00:02<00:00,  3.33it/s, loss=0.00644]\n",
            "Epoch 187/1000: 100%|██████████| 8/8 [00:02<00:00,  3.32it/s, loss=1.84e-5]\n",
            "Epoch 188/1000: 100%|██████████| 8/8 [00:02<00:00,  3.37it/s, loss=0.00335]\n",
            "Epoch 189/1000: 100%|██████████| 8/8 [00:02<00:00,  3.35it/s, loss=0.000128]\n",
            "Epoch 190/1000: 100%|██████████| 8/8 [00:02<00:00,  3.33it/s, loss=0.000485]\n",
            "Epoch 191/1000: 100%|██████████| 8/8 [00:02<00:00,  3.34it/s, loss=0.0022]\n",
            "Epoch 192/1000: 100%|██████████| 8/8 [00:02<00:00,  3.28it/s, loss=0.000878]\n",
            "Epoch 193/1000: 100%|██████████| 8/8 [00:02<00:00,  3.34it/s, loss=0.000923]\n",
            "Epoch 194/1000: 100%|██████████| 8/8 [00:02<00:00,  3.37it/s, loss=7.9e-6]\n",
            "Epoch 195/1000: 100%|██████████| 8/8 [00:02<00:00,  3.34it/s, loss=0.000301]\n",
            "Epoch 196/1000: 100%|██████████| 8/8 [00:02<00:00,  3.30it/s, loss=0.000135]\n",
            "Epoch 197/1000: 100%|██████████| 8/8 [00:02<00:00,  3.34it/s, loss=0.000119]\n",
            "Epoch 198/1000: 100%|██████████| 8/8 [00:02<00:00,  3.37it/s, loss=4.27e-5]\n",
            "Epoch 199/1000: 100%|██████████| 8/8 [00:03<00:00,  2.54it/s, loss=2.46e-5]\n",
            "Epoch 200/1000: 100%|██████████| 8/8 [00:02<00:00,  3.03it/s, loss=0.00572]\n",
            "Epoch 201/1000: 100%|██████████| 8/8 [00:02<00:00,  3.33it/s, loss=4.37e-5]\n",
            "Epoch 202/1000: 100%|██████████| 8/8 [00:02<00:00,  3.37it/s, loss=0.000597]\n",
            "Epoch 203/1000: 100%|██████████| 8/8 [00:02<00:00,  3.33it/s, loss=0.000166]\n",
            "Epoch 204/1000: 100%|██████████| 8/8 [00:02<00:00,  3.34it/s, loss=0.000552]\n",
            "Epoch 205/1000: 100%|██████████| 8/8 [00:02<00:00,  3.38it/s, loss=0.00106]\n",
            "Epoch 206/1000: 100%|██████████| 8/8 [00:02<00:00,  3.36it/s, loss=0.00149]\n",
            "Epoch 207/1000: 100%|██████████| 8/8 [00:02<00:00,  3.27it/s, loss=0.000466]\n",
            "Epoch 208/1000: 100%|██████████| 8/8 [00:02<00:00,  3.34it/s, loss=6.81e-6]\n",
            "Epoch 209/1000: 100%|██████████| 8/8 [00:02<00:00,  3.32it/s, loss=0.000128]\n",
            "Epoch 210/1000: 100%|██████████| 8/8 [00:02<00:00,  3.28it/s, loss=0.00125]\n",
            "Epoch 211/1000: 100%|██████████| 8/8 [00:02<00:00,  3.25it/s, loss=3.44e-5]\n",
            "Epoch 212/1000: 100%|██████████| 8/8 [00:02<00:00,  3.28it/s, loss=3.89e-5]\n",
            "Epoch 213/1000: 100%|██████████| 8/8 [00:02<00:00,  3.33it/s, loss=1.67e-5]\n",
            "Epoch 214/1000: 100%|██████████| 8/8 [00:02<00:00,  3.32it/s, loss=0.00719]\n",
            "Epoch 215/1000: 100%|██████████| 8/8 [00:02<00:00,  3.34it/s, loss=0.000226]\n",
            "Epoch 216/1000: 100%|██████████| 8/8 [00:02<00:00,  3.31it/s, loss=1.99e-6]\n",
            "Epoch 217/1000: 100%|██████████| 8/8 [00:02<00:00,  3.36it/s, loss=1.75e-6]\n",
            "Epoch 218/1000: 100%|██████████| 8/8 [00:02<00:00,  3.31it/s, loss=1.22e-6]\n",
            "Epoch 219/1000: 100%|██████████| 8/8 [00:02<00:00,  3.34it/s, loss=2.75e-5]\n",
            "Epoch 220/1000: 100%|██████████| 8/8 [00:02<00:00,  3.28it/s, loss=0.000206]\n",
            "Epoch 221/1000: 100%|██████████| 8/8 [00:02<00:00,  3.35it/s, loss=3.3e-5]\n",
            "Epoch 222/1000: 100%|██████████| 8/8 [00:02<00:00,  3.32it/s, loss=0.0228]\n",
            "Epoch 223/1000: 100%|██████████| 8/8 [00:02<00:00,  3.28it/s, loss=3.77e-6]\n",
            "Epoch 224/1000: 100%|██████████| 8/8 [00:02<00:00,  3.31it/s, loss=0.000427]\n",
            "Epoch 225/1000: 100%|██████████| 8/8 [00:02<00:00,  3.34it/s, loss=0.000233]\n",
            "Epoch 226/1000: 100%|██████████| 8/8 [00:02<00:00,  3.38it/s, loss=0.00099]\n",
            "Epoch 227/1000: 100%|██████████| 8/8 [00:02<00:00,  3.35it/s, loss=0.0242]\n",
            "Epoch 228/1000: 100%|██████████| 8/8 [00:02<00:00,  3.34it/s, loss=1.14e-5]\n",
            "Epoch 229/1000: 100%|██████████| 8/8 [00:02<00:00,  3.26it/s, loss=0.00233]\n",
            "Epoch 230/1000: 100%|██████████| 8/8 [00:02<00:00,  3.34it/s, loss=0.000459]\n",
            "Epoch 231/1000: 100%|██████████| 8/8 [00:02<00:00,  3.23it/s, loss=0.0056]\n",
            "Epoch 232/1000: 100%|██████████| 8/8 [00:02<00:00,  3.22it/s, loss=5.49e-5]\n",
            "Epoch 233/1000: 100%|██████████| 8/8 [00:02<00:00,  3.22it/s, loss=6.96e-6]\n",
            "Epoch 234/1000: 100%|██████████| 8/8 [00:02<00:00,  3.20it/s, loss=8.13e-6]\n",
            "Epoch 235/1000: 100%|██████████| 8/8 [00:02<00:00,  3.24it/s, loss=0.000599]\n",
            "Epoch 236/1000: 100%|██████████| 8/8 [00:02<00:00,  3.25it/s, loss=1.46e-5]\n",
            "Epoch 237/1000: 100%|██████████| 8/8 [00:02<00:00,  3.34it/s, loss=6.65e-6]\n",
            "Epoch 238/1000: 100%|██████████| 8/8 [00:02<00:00,  3.34it/s, loss=0.0045]\n",
            "Epoch 239/1000: 100%|██████████| 8/8 [00:02<00:00,  3.31it/s, loss=1.07e-5]\n",
            "Epoch 240/1000: 100%|██████████| 8/8 [00:02<00:00,  3.35it/s, loss=7.22e-5]\n",
            "Epoch 241/1000: 100%|██████████| 8/8 [00:02<00:00,  3.31it/s, loss=3.87e-7]\n",
            "Epoch 242/1000: 100%|██████████| 8/8 [00:02<00:00,  3.33it/s, loss=0.000232]\n",
            "Epoch 243/1000: 100%|██████████| 8/8 [00:02<00:00,  3.32it/s, loss=3.14e-6]\n",
            "Epoch 244/1000: 100%|██████████| 8/8 [00:02<00:00,  3.33it/s, loss=0.00149]\n",
            "Epoch 245/1000: 100%|██████████| 8/8 [00:02<00:00,  3.32it/s, loss=9.06e-7]\n",
            "Epoch 246/1000: 100%|██████████| 8/8 [00:02<00:00,  2.67it/s, loss=5.19e-5]\n",
            "Epoch 247/1000: 100%|██████████| 8/8 [00:02<00:00,  2.87it/s, loss=0.00014]\n",
            "Epoch 248/1000: 100%|██████████| 8/8 [00:02<00:00,  3.30it/s, loss=2.28e-6]\n",
            "Epoch 249/1000: 100%|██████████| 8/8 [00:02<00:00,  3.31it/s, loss=1.61e-5]\n",
            "Epoch 250/1000: 100%|██████████| 8/8 [00:02<00:00,  3.34it/s, loss=4.59e-6]\n",
            "Epoch 251/1000: 100%|██████████| 8/8 [00:02<00:00,  3.38it/s, loss=5.64e-5]\n",
            "Epoch 252/1000: 100%|██████████| 8/8 [00:02<00:00,  3.34it/s, loss=0.000164]\n",
            "Epoch 253/1000: 100%|██████████| 8/8 [00:02<00:00,  3.28it/s, loss=4.01e-6]\n",
            "Epoch 254/1000: 100%|██████████| 8/8 [00:02<00:00,  3.38it/s, loss=1.8e-5]\n",
            "Epoch 255/1000: 100%|██████████| 8/8 [00:02<00:00,  3.34it/s, loss=6.26e-6]\n",
            "Epoch 256/1000: 100%|██████████| 8/8 [00:02<00:00,  3.33it/s, loss=6.81e-6]\n",
            "Epoch 257/1000: 100%|██████████| 8/8 [00:02<00:00,  3.37it/s, loss=0.00837]\n",
            "Epoch 258/1000: 100%|██████████| 8/8 [00:02<00:00,  3.30it/s, loss=8.09e-6]\n",
            "Epoch 259/1000: 100%|██████████| 8/8 [00:02<00:00,  3.35it/s, loss=0.000132]\n",
            "Epoch 260/1000: 100%|██████████| 8/8 [00:02<00:00,  3.28it/s, loss=0.000105]\n",
            "Epoch 261/1000: 100%|██████████| 8/8 [00:02<00:00,  3.30it/s, loss=0.00113]\n",
            "Epoch 262/1000: 100%|██████████| 8/8 [00:02<00:00,  3.28it/s, loss=9.58e-5]\n",
            "Epoch 263/1000: 100%|██████████| 8/8 [00:02<00:00,  3.32it/s, loss=6.77e-5]\n",
            "Epoch 264/1000: 100%|██████████| 8/8 [00:02<00:00,  3.31it/s, loss=4.72e-5]\n",
            "Epoch 265/1000: 100%|██████████| 8/8 [00:02<00:00,  3.34it/s, loss=0.0439]\n",
            "Epoch 266/1000: 100%|██████████| 8/8 [00:02<00:00,  3.32it/s, loss=0.0309]\n",
            "Epoch 267/1000: 100%|██████████| 8/8 [00:02<00:00,  3.35it/s, loss=0.00105]\n",
            "Epoch 268/1000: 100%|██████████| 8/8 [00:02<00:00,  3.37it/s, loss=6.08e-7]\n",
            "Epoch 269/1000: 100%|██████████| 8/8 [00:02<00:00,  3.33it/s, loss=4.27e-6]\n",
            "Epoch 270/1000: 100%|██████████| 8/8 [00:02<00:00,  3.34it/s, loss=7.84e-5]\n",
            "Epoch 271/1000: 100%|██████████| 8/8 [00:02<00:00,  3.37it/s, loss=5.42e-5]\n",
            "Epoch 272/1000: 100%|██████████| 8/8 [00:02<00:00,  3.39it/s, loss=0.000351]\n",
            "Epoch 273/1000: 100%|██████████| 8/8 [00:02<00:00,  3.31it/s, loss=3.37e-6]\n",
            "Epoch 274/1000: 100%|██████████| 8/8 [00:02<00:00,  3.31it/s, loss=2.23e-5]\n",
            "Epoch 275/1000: 100%|██████████| 8/8 [00:02<00:00,  3.30it/s, loss=7.31e-5]\n",
            "Epoch 276/1000: 100%|██████████| 8/8 [00:02<00:00,  3.37it/s, loss=7.83e-5]\n",
            "Epoch 277/1000: 100%|██████████| 8/8 [00:02<00:00,  3.41it/s, loss=2.85e-6]\n",
            "Epoch 278/1000: 100%|██████████| 8/8 [00:02<00:00,  3.40it/s, loss=0]\n",
            "Epoch 279/1000: 100%|██████████| 8/8 [00:02<00:00,  3.34it/s, loss=3.41e-6]\n",
            "Epoch 280/1000: 100%|██████████| 8/8 [00:02<00:00,  3.38it/s, loss=0.00158]\n",
            "Epoch 281/1000: 100%|██████████| 8/8 [00:02<00:00,  3.36it/s, loss=1.12e-5]\n",
            "Epoch 282/1000: 100%|██████████| 8/8 [00:02<00:00,  3.35it/s, loss=0.00682]\n",
            "Epoch 283/1000: 100%|██████████| 8/8 [00:02<00:00,  3.34it/s, loss=0.00127]\n",
            "Epoch 284/1000: 100%|██████████| 8/8 [00:02<00:00,  3.41it/s, loss=1.08e-5]\n",
            "Epoch 285/1000: 100%|██████████| 8/8 [00:02<00:00,  3.34it/s, loss=4.6e-5]\n",
            "Epoch 286/1000: 100%|██████████| 8/8 [00:02<00:00,  3.34it/s, loss=7.5e-6]\n",
            "Epoch 287/1000: 100%|██████████| 8/8 [00:02<00:00,  3.38it/s, loss=0.000422]\n",
            "Epoch 288/1000: 100%|██████████| 8/8 [00:02<00:00,  3.38it/s, loss=4.4e-5]\n",
            "Epoch 289/1000: 100%|██████████| 8/8 [00:02<00:00,  3.35it/s, loss=3.19e-5]\n",
            "Epoch 290/1000: 100%|██████████| 8/8 [00:02<00:00,  3.39it/s, loss=7.49e-6]\n",
            "Epoch 291/1000: 100%|██████████| 8/8 [00:02<00:00,  3.41it/s, loss=4.17e-5]\n",
            "Epoch 292/1000: 100%|██████████| 8/8 [00:02<00:00,  3.35it/s, loss=0.000465]\n",
            "Epoch 293/1000: 100%|██████████| 8/8 [00:02<00:00,  3.39it/s, loss=9.04e-5]\n",
            "Epoch 294/1000: 100%|██████████| 8/8 [00:02<00:00,  2.71it/s, loss=4.77e-8]\n",
            "Epoch 295/1000: 100%|██████████| 8/8 [00:02<00:00,  2.76it/s, loss=2.9e-5]\n",
            "Epoch 296/1000: 100%|██████████| 8/8 [00:02<00:00,  3.33it/s, loss=1.35e-5]\n",
            "Epoch 297/1000: 100%|██████████| 8/8 [00:02<00:00,  3.32it/s, loss=0.00108]\n",
            "Epoch 298/1000: 100%|██████████| 8/8 [00:02<00:00,  3.28it/s, loss=0.000269]\n",
            "Epoch 299/1000: 100%|██████████| 8/8 [00:02<00:00,  3.30it/s, loss=1.96e-6]\n",
            "Epoch 300/1000: 100%|██████████| 8/8 [00:02<00:00,  3.25it/s, loss=0.0496]\n",
            "Epoch 301/1000: 100%|██████████| 8/8 [00:02<00:00,  3.32it/s, loss=1.64e-5]\n",
            "Epoch 302/1000: 100%|██████████| 8/8 [00:02<00:00,  3.34it/s, loss=0.000872]\n",
            "Epoch 303/1000: 100%|██████████| 8/8 [00:02<00:00,  3.29it/s, loss=2.68e-7]\n",
            "Epoch 304/1000: 100%|██████████| 8/8 [00:02<00:00,  3.31it/s, loss=5.38e-5]\n",
            "Epoch 305/1000: 100%|██████████| 8/8 [00:02<00:00,  3.31it/s, loss=1.91e-7]\n",
            "Epoch 306/1000: 100%|██████████| 8/8 [00:02<00:00,  3.32it/s, loss=6.46e-5]\n",
            "Epoch 307/1000: 100%|██████████| 8/8 [00:02<00:00,  3.30it/s, loss=7.57e-7]\n",
            "Epoch 308/1000: 100%|██████████| 8/8 [00:02<00:00,  3.31it/s, loss=4.24e-5]\n",
            "Epoch 309/1000: 100%|██████████| 8/8 [00:02<00:00,  3.32it/s, loss=3.58e-8]\n",
            "Epoch 310/1000: 100%|██████████| 8/8 [00:02<00:00,  3.28it/s, loss=4.77e-8]\n",
            "Epoch 311/1000: 100%|██████████| 8/8 [00:02<00:00,  3.29it/s, loss=4.77e-8]\n",
            "Epoch 312/1000: 100%|██████████| 8/8 [00:02<00:00,  3.28it/s, loss=3.99e-5]\n",
            "Epoch 313/1000: 100%|██████████| 8/8 [00:02<00:00,  3.30it/s, loss=0.000157]\n",
            "Epoch 314/1000: 100%|██████████| 8/8 [00:02<00:00,  3.32it/s, loss=5.13e-5]\n",
            "Epoch 315/1000: 100%|██████████| 8/8 [00:02<00:00,  3.36it/s, loss=2.38e-8]\n",
            "Epoch 316/1000: 100%|██████████| 8/8 [00:02<00:00,  3.29it/s, loss=2.92e-6]\n",
            "Epoch 317/1000: 100%|██████████| 8/8 [00:02<00:00,  3.35it/s, loss=2.32e-7]\n",
            "Epoch 318/1000: 100%|██████████| 8/8 [00:02<00:00,  3.33it/s, loss=3.56e-5]\n",
            "Epoch 319/1000: 100%|██████████| 8/8 [00:02<00:00,  3.27it/s, loss=4.67e-6]\n",
            "Epoch 320/1000: 100%|██████████| 8/8 [00:02<00:00,  3.30it/s, loss=1.14e-6]\n",
            "Epoch 321/1000: 100%|██████████| 8/8 [00:02<00:00,  3.34it/s, loss=4.13e-6]\n",
            "Epoch 322/1000: 100%|██████████| 8/8 [00:02<00:00,  3.29it/s, loss=2.6e-6]\n",
            "Epoch 323/1000: 100%|██████████| 8/8 [00:02<00:00,  3.36it/s, loss=2.32e-7]\n",
            "Epoch 324/1000: 100%|██████████| 8/8 [00:02<00:00,  3.35it/s, loss=5.61e-5]\n",
            "Epoch 325/1000: 100%|██████████| 8/8 [00:02<00:00,  3.34it/s, loss=0.000135]\n",
            "Epoch 326/1000: 100%|██████████| 8/8 [00:02<00:00,  3.30it/s, loss=4.3e-6]\n",
            "Epoch 327/1000: 100%|██████████| 8/8 [00:02<00:00,  3.30it/s, loss=2.38e-8]\n",
            "Epoch 328/1000: 100%|██████████| 8/8 [00:02<00:00,  3.32it/s, loss=1.9e-5]\n",
            "Epoch 329/1000: 100%|██████████| 8/8 [00:02<00:00,  3.30it/s, loss=0]\n",
            "Epoch 330/1000: 100%|██████████| 8/8 [00:02<00:00,  3.32it/s, loss=6.5e-6]\n",
            "Epoch 331/1000: 100%|██████████| 8/8 [00:02<00:00,  3.32it/s, loss=0.00181]\n",
            "Epoch 332/1000: 100%|██████████| 8/8 [00:02<00:00,  3.30it/s, loss=0.00479]\n",
            "Epoch 333/1000: 100%|██████████| 8/8 [00:02<00:00,  3.33it/s, loss=0.000154]\n",
            "Epoch 334/1000: 100%|██████████| 8/8 [00:02<00:00,  3.34it/s, loss=4.49e-6]\n",
            "Epoch 335/1000: 100%|██████████| 8/8 [00:02<00:00,  3.32it/s, loss=0.000227]\n",
            "Epoch 336/1000: 100%|██████████| 8/8 [00:02<00:00,  3.31it/s, loss=2.32e-7]\n",
            "Epoch 337/1000: 100%|██████████| 8/8 [00:02<00:00,  3.27it/s, loss=3.87e-7]\n",
            "Epoch 338/1000: 100%|██████████| 8/8 [00:02<00:00,  3.28it/s, loss=0.0262]\n",
            "Epoch 339/1000: 100%|██████████| 8/8 [00:02<00:00,  3.28it/s, loss=0.00491]\n",
            "Epoch 340/1000: 100%|██████████| 8/8 [00:02<00:00,  3.27it/s, loss=0.0357]\n",
            "Epoch 341/1000: 100%|██████████| 8/8 [00:03<00:00,  2.64it/s, loss=0.000113]\n",
            "Epoch 342/1000: 100%|██████████| 8/8 [00:02<00:00,  2.78it/s, loss=7.52e-6]\n",
            "Epoch 343/1000: 100%|██████████| 8/8 [00:02<00:00,  3.34it/s, loss=0.00284]\n",
            "Epoch 344/1000: 100%|██████████| 8/8 [00:02<00:00,  3.38it/s, loss=0.00483]\n",
            "Epoch 345/1000: 100%|██████████| 8/8 [00:02<00:00,  3.36it/s, loss=2.74e-7]\n",
            "Epoch 346/1000: 100%|██████████| 8/8 [00:02<00:00,  3.38it/s, loss=2.19e-6]\n",
            "Epoch 347/1000: 100%|██████████| 8/8 [00:02<00:00,  3.30it/s, loss=1.36e-5]\n",
            "Epoch 348/1000: 100%|██████████| 8/8 [00:02<00:00,  3.34it/s, loss=0.0583]\n",
            "Epoch 349/1000: 100%|██████████| 8/8 [00:02<00:00,  3.33it/s, loss=0.00324]\n",
            "Epoch 350/1000: 100%|██████████| 8/8 [00:02<00:00,  3.31it/s, loss=0]\n",
            "Epoch 351/1000: 100%|██████████| 8/8 [00:02<00:00,  3.37it/s, loss=0]\n",
            "Epoch 352/1000: 100%|██████████| 8/8 [00:02<00:00,  3.31it/s, loss=0.000326]\n",
            "Epoch 353/1000: 100%|██████████| 8/8 [00:02<00:00,  3.34it/s, loss=2.24e-6]\n",
            "Epoch 354/1000: 100%|██████████| 8/8 [00:02<00:00,  3.32it/s, loss=3.59e-6]\n",
            "Epoch 355/1000: 100%|██████████| 8/8 [00:02<00:00,  3.28it/s, loss=0]\n",
            "Epoch 356/1000: 100%|██████████| 8/8 [00:02<00:00,  3.31it/s, loss=7.15e-8]\n",
            "Epoch 357/1000: 100%|██████████| 8/8 [00:02<00:00,  3.27it/s, loss=0.00126]\n",
            "Epoch 358/1000: 100%|██████████| 8/8 [00:02<00:00,  3.19it/s, loss=1.19e-8]\n",
            "Epoch 359/1000: 100%|██████████| 8/8 [00:02<00:00,  3.15it/s, loss=5.96e-9]\n",
            "Epoch 360/1000: 100%|██████████| 8/8 [00:02<00:00,  3.21it/s, loss=0.00268]\n",
            "Epoch 361/1000: 100%|██████████| 8/8 [00:02<00:00,  3.18it/s, loss=7.75e-8]\n",
            "Epoch 362/1000: 100%|██████████| 8/8 [00:02<00:00,  3.20it/s, loss=0.178]\n",
            "Epoch 363/1000: 100%|██████████| 8/8 [00:02<00:00,  3.22it/s, loss=0.00277]\n",
            "Epoch 364/1000: 100%|██████████| 8/8 [00:02<00:00,  3.32it/s, loss=1.54e-5]\n",
            "Epoch 365/1000: 100%|██████████| 8/8 [00:02<00:00,  3.38it/s, loss=0.166]\n",
            "Epoch 366/1000: 100%|██████████| 8/8 [00:02<00:00,  3.36it/s, loss=0.0001]\n",
            "Epoch 367/1000: 100%|██████████| 8/8 [00:02<00:00,  3.28it/s, loss=0]\n",
            "Epoch 368/1000: 100%|██████████| 8/8 [00:02<00:00,  3.31it/s, loss=1.23e-5]\n",
            "Epoch 369/1000: 100%|██████████| 8/8 [00:02<00:00,  3.33it/s, loss=2.83e-6]\n",
            "Epoch 370/1000: 100%|██████████| 8/8 [00:02<00:00,  3.37it/s, loss=6.82e-5]\n",
            "Epoch 371/1000: 100%|██████████| 8/8 [00:02<00:00,  3.35it/s, loss=0.0388]\n",
            "Epoch 372/1000: 100%|██████████| 8/8 [00:02<00:00,  3.35it/s, loss=7.79e-5]\n",
            "Epoch 373/1000: 100%|██████████| 8/8 [00:02<00:00,  3.35it/s, loss=1.79e-8]\n",
            "Epoch 374/1000: 100%|██████████| 8/8 [00:02<00:00,  3.34it/s, loss=0.000229]\n",
            "Epoch 375/1000: 100%|██████████| 8/8 [00:02<00:00,  3.31it/s, loss=0.00131]\n",
            "Epoch 376/1000: 100%|██████████| 8/8 [00:02<00:00,  3.28it/s, loss=4.49e-5]\n",
            "Epoch 377/1000: 100%|██████████| 8/8 [00:02<00:00,  3.32it/s, loss=9.1e-5]\n",
            "Epoch 378/1000: 100%|██████████| 8/8 [00:02<00:00,  3.36it/s, loss=9.77e-6]\n",
            "Epoch 379/1000: 100%|██████████| 8/8 [00:02<00:00,  3.31it/s, loss=7.98e-6]\n",
            "Epoch 380/1000: 100%|██████████| 8/8 [00:02<00:00,  3.37it/s, loss=0.000267]\n",
            "Epoch 381/1000: 100%|██████████| 8/8 [00:02<00:00,  3.29it/s, loss=8.94e-8]\n",
            "Epoch 382/1000: 100%|██████████| 8/8 [00:02<00:00,  3.37it/s, loss=3.58e-8]\n",
            "Epoch 383/1000: 100%|██████████| 8/8 [00:02<00:00,  3.41it/s, loss=1.82e-5]\n",
            "Epoch 384/1000: 100%|██████████| 8/8 [00:02<00:00,  3.32it/s, loss=0.00147]\n",
            "Epoch 385/1000: 100%|██████████| 8/8 [00:02<00:00,  3.34it/s, loss=0.00242]\n",
            "Epoch 386/1000: 100%|██████████| 8/8 [00:02<00:00,  3.35it/s, loss=3.63e-5]\n",
            "Epoch 387/1000: 100%|██████████| 8/8 [00:02<00:00,  3.29it/s, loss=4.32e-6]\n",
            "Epoch 388/1000: 100%|██████████| 8/8 [00:02<00:00,  3.33it/s, loss=5.73e-6]\n",
            "Epoch 389/1000: 100%|██████████| 8/8 [00:02<00:00,  3.30it/s, loss=0.234]\n",
            "Epoch 390/1000: 100%|██████████| 8/8 [00:02<00:00,  3.35it/s, loss=1.19e-5]\n",
            "Epoch 391/1000: 100%|██████████| 8/8 [00:02<00:00,  3.37it/s, loss=0.00331]\n",
            "Epoch 392/1000: 100%|██████████| 8/8 [00:02<00:00,  3.35it/s, loss=1.56e-6]\n",
            "Epoch 393/1000: 100%|██████████| 8/8 [00:02<00:00,  3.36it/s, loss=1.17e-5]\n",
            "Epoch 394/1000: 100%|██████████| 8/8 [00:02<00:00,  3.31it/s, loss=4.1e-6]\n",
            "Epoch 395/1000: 100%|██████████| 8/8 [00:02<00:00,  3.35it/s, loss=0]\n",
            "Epoch 396/1000: 100%|██████████| 8/8 [00:02<00:00,  3.34it/s, loss=5.96e-8]\n",
            "Epoch 397/1000: 100%|██████████| 8/8 [00:02<00:00,  3.34it/s, loss=9.54e-8]\n",
            "Epoch 398/1000: 100%|██████████| 8/8 [00:02<00:00,  3.26it/s, loss=0]\n",
            "Epoch 399/1000: 100%|██████████| 8/8 [00:02<00:00,  3.33it/s, loss=0]\n",
            "Epoch 400/1000: 100%|██████████| 8/8 [00:02<00:00,  3.31it/s, loss=0.000291]\n",
            "Epoch 401/1000: 100%|██████████| 8/8 [00:02<00:00,  3.33it/s, loss=0]\n",
            "Epoch 402/1000: 100%|██████████| 8/8 [00:02<00:00,  3.39it/s, loss=2.8e-7]\n",
            "Epoch 403/1000: 100%|██████████| 8/8 [00:02<00:00,  3.40it/s, loss=4.35e-5]\n",
            "Epoch 404/1000: 100%|██████████| 8/8 [00:02<00:00,  3.32it/s, loss=1.37e-7]\n",
            "Epoch 405/1000: 100%|██████████| 8/8 [00:02<00:00,  3.35it/s, loss=0]\n",
            "Epoch 406/1000: 100%|██████████| 8/8 [00:02<00:00,  3.30it/s, loss=0.000129]\n",
            "Epoch 407/1000: 100%|██████████| 8/8 [00:02<00:00,  3.32it/s, loss=5.96e-8]\n",
            "Epoch 408/1000: 100%|██████████| 8/8 [00:02<00:00,  3.34it/s, loss=0]\n",
            "Epoch 409/1000: 100%|██████████| 8/8 [00:02<00:00,  3.32it/s, loss=1.19e-8]\n",
            "Epoch 410/1000: 100%|██████████| 8/8 [00:02<00:00,  3.36it/s, loss=0.0448]\n",
            "Epoch 411/1000: 100%|██████████| 8/8 [00:02<00:00,  3.34it/s, loss=0.123]\n",
            "Epoch 412/1000: 100%|██████████| 8/8 [00:02<00:00,  3.31it/s, loss=7.75e-8]\n",
            "Epoch 413/1000: 100%|██████████| 8/8 [00:02<00:00,  3.26it/s, loss=0]\n",
            "Epoch 414/1000: 100%|██████████| 8/8 [00:02<00:00,  3.28it/s, loss=0.0738]\n",
            "Epoch 415/1000: 100%|██████████| 8/8 [00:02<00:00,  3.33it/s, loss=0.00603]\n",
            "Epoch 416/1000: 100%|██████████| 8/8 [00:02<00:00,  3.34it/s, loss=0.00192]\n",
            "Epoch 417/1000: 100%|██████████| 8/8 [00:02<00:00,  3.38it/s, loss=6.5e-7]\n",
            "Epoch 418/1000: 100%|██████████| 8/8 [00:02<00:00,  3.30it/s, loss=0]\n",
            "Epoch 419/1000: 100%|██████████| 8/8 [00:02<00:00,  3.31it/s, loss=0.000248]\n",
            "Epoch 420/1000: 100%|██████████| 8/8 [00:02<00:00,  3.35it/s, loss=1.79e-5]\n",
            "Epoch 421/1000: 100%|██████████| 8/8 [00:02<00:00,  3.29it/s, loss=1.9e-6]\n",
            "Epoch 422/1000: 100%|██████████| 8/8 [00:02<00:00,  3.34it/s, loss=2.88e-6]\n",
            "Epoch 423/1000: 100%|██████████| 8/8 [00:02<00:00,  3.32it/s, loss=6.13e-6]\n",
            "Epoch 424/1000: 100%|██████████| 8/8 [00:02<00:00,  3.35it/s, loss=0.123]\n",
            "Epoch 425/1000: 100%|██████████| 8/8 [00:02<00:00,  3.29it/s, loss=1.55e-7]\n",
            "Epoch 426/1000: 100%|██████████| 8/8 [00:02<00:00,  3.26it/s, loss=0.000883]\n",
            "Epoch 427/1000: 100%|██████████| 8/8 [00:02<00:00,  3.33it/s, loss=1.37e-5]\n",
            "Epoch 428/1000: 100%|██████████| 8/8 [00:02<00:00,  3.30it/s, loss=8.18e-6]\n",
            "Epoch 429/1000: 100%|██████████| 8/8 [00:03<00:00,  2.65it/s, loss=7.15e-8]\n",
            "Epoch 430/1000: 100%|██████████| 8/8 [00:02<00:00,  2.83it/s, loss=9.98e-6]\n",
            "Epoch 431/1000: 100%|██████████| 8/8 [00:02<00:00,  3.27it/s, loss=1.91e-7]\n",
            "Epoch 432/1000: 100%|██████████| 8/8 [00:02<00:00,  3.34it/s, loss=0.0376]\n",
            "Epoch 433/1000: 100%|██████████| 8/8 [00:02<00:00,  3.31it/s, loss=1.98e-6]\n",
            "Epoch 434/1000: 100%|██████████| 8/8 [00:02<00:00,  3.30it/s, loss=2.32e-7]\n",
            "Epoch 435/1000: 100%|██████████| 8/8 [00:02<00:00,  3.33it/s, loss=0.00015]\n",
            "Epoch 436/1000: 100%|██████████| 8/8 [00:02<00:00,  3.29it/s, loss=3.76e-7]\n",
            "Epoch 437/1000: 100%|██████████| 8/8 [00:02<00:00,  3.30it/s, loss=1.13e-7]\n",
            "Epoch 438/1000: 100%|██████████| 8/8 [00:02<00:00,  3.31it/s, loss=0.00279]\n",
            "Epoch 439/1000: 100%|██████████| 8/8 [00:02<00:00,  3.31it/s, loss=1.16e-6]\n",
            "Epoch 440/1000: 100%|██████████| 8/8 [00:02<00:00,  3.29it/s, loss=7.32e-6]\n",
            "Epoch 441/1000: 100%|██████████| 8/8 [00:02<00:00,  3.30it/s, loss=0.00284]\n",
            "Epoch 442/1000: 100%|██████████| 8/8 [00:02<00:00,  3.28it/s, loss=8.88e-7]\n",
            "Epoch 443/1000: 100%|██████████| 8/8 [00:02<00:00,  3.35it/s, loss=0.000627]\n",
            "Epoch 444/1000: 100%|██████████| 8/8 [00:02<00:00,  3.33it/s, loss=0.0616]\n",
            "Epoch 445/1000: 100%|██████████| 8/8 [00:02<00:00,  3.31it/s, loss=6.19e-5]\n",
            "Epoch 446/1000: 100%|██████████| 8/8 [00:02<00:00,  3.31it/s, loss=3.76e-5]\n",
            "Epoch 447/1000: 100%|██████████| 8/8 [00:02<00:00,  3.32it/s, loss=0.347]\n",
            "Epoch 448/1000: 100%|██████████| 8/8 [00:02<00:00,  3.31it/s, loss=6.2e-7]\n",
            "Epoch 449/1000: 100%|██████████| 8/8 [00:02<00:00,  3.31it/s, loss=0.000179]\n",
            "Epoch 450/1000: 100%|██████████| 8/8 [00:02<00:00,  3.25it/s, loss=1.07e-7]\n",
            "Epoch 451/1000: 100%|██████████| 8/8 [00:02<00:00,  3.24it/s, loss=0.000508]\n",
            "Epoch 452/1000: 100%|██████████| 8/8 [00:02<00:00,  3.35it/s, loss=0.0248]\n",
            "Epoch 453/1000: 100%|██████████| 8/8 [00:02<00:00,  3.32it/s, loss=3.3e-6]\n",
            "Epoch 454/1000: 100%|██████████| 8/8 [00:02<00:00,  3.35it/s, loss=1.19e-8]\n",
            "Epoch 455/1000: 100%|██████████| 8/8 [00:02<00:00,  3.26it/s, loss=7e-5]\n",
            "Epoch 456/1000: 100%|██████████| 8/8 [00:02<00:00,  3.34it/s, loss=2.57e-6]\n",
            "Epoch 457/1000: 100%|██████████| 8/8 [00:02<00:00,  3.31it/s, loss=2.98e-7]\n",
            "Epoch 458/1000: 100%|██████████| 8/8 [00:02<00:00,  3.35it/s, loss=0.00164]\n",
            "Epoch 459/1000: 100%|██████████| 8/8 [00:02<00:00,  3.34it/s, loss=0.075]\n",
            "Epoch 460/1000: 100%|██████████| 8/8 [00:02<00:00,  3.28it/s, loss=0.0023]\n",
            "Epoch 461/1000: 100%|██████████| 8/8 [00:02<00:00,  3.30it/s, loss=2.46e-6]\n",
            "Epoch 462/1000: 100%|██████████| 8/8 [00:02<00:00,  3.27it/s, loss=0.0011]\n",
            "Epoch 463/1000: 100%|██████████| 8/8 [00:02<00:00,  3.33it/s, loss=7.15e-8]\n",
            "Epoch 464/1000: 100%|██████████| 8/8 [00:02<00:00,  3.35it/s, loss=3.16e-7]\n",
            "Epoch 465/1000: 100%|██████████| 8/8 [00:02<00:00,  3.38it/s, loss=2.09e-7]\n",
            "Epoch 466/1000: 100%|██████████| 8/8 [00:02<00:00,  3.25it/s, loss=5.96e-9]\n",
            "Epoch 467/1000: 100%|██████████| 8/8 [00:02<00:00,  3.30it/s, loss=0.000191]\n",
            "Epoch 468/1000: 100%|██████████| 8/8 [00:02<00:00,  3.28it/s, loss=0.000145]\n",
            "Epoch 469/1000: 100%|██████████| 8/8 [00:02<00:00,  3.32it/s, loss=2.86e-5]\n",
            "Epoch 470/1000: 100%|██████████| 8/8 [00:02<00:00,  3.31it/s, loss=2.92e-7]\n",
            "Epoch 471/1000: 100%|██████████| 8/8 [00:02<00:00,  3.30it/s, loss=1.08e-5]\n",
            "Epoch 472/1000: 100%|██████████| 8/8 [00:02<00:00,  3.30it/s, loss=6.74e-7]\n",
            "Epoch 473/1000: 100%|██████████| 8/8 [00:02<00:00,  3.33it/s, loss=0.00754]\n",
            "Epoch 474/1000: 100%|██████████| 8/8 [00:02<00:00,  3.30it/s, loss=9.54e-6]\n",
            "Epoch 475/1000: 100%|██████████| 8/8 [00:02<00:00,  3.29it/s, loss=4.92e-6]\n",
            "Epoch 476/1000: 100%|██████████| 8/8 [00:02<00:00,  3.27it/s, loss=3.58e-7]\n",
            "Epoch 477/1000: 100%|██████████| 8/8 [00:02<00:00,  3.31it/s, loss=1.05e-5]\n",
            "Epoch 478/1000: 100%|██████████| 8/8 [00:02<00:00,  3.28it/s, loss=0]\n",
            "Epoch 479/1000: 100%|██████████| 8/8 [00:02<00:00,  3.29it/s, loss=0.000517]\n",
            "Epoch 480/1000: 100%|██████████| 8/8 [00:02<00:00,  3.32it/s, loss=0]\n",
            "Epoch 481/1000: 100%|██████████| 8/8 [00:02<00:00,  3.29it/s, loss=7.75e-8]\n",
            "Epoch 482/1000: 100%|██████████| 8/8 [00:02<00:00,  3.23it/s, loss=1.46e-6]\n",
            "Epoch 483/1000: 100%|██████████| 8/8 [00:02<00:00,  3.31it/s, loss=0.000225]\n",
            "Epoch 484/1000: 100%|██████████| 8/8 [00:02<00:00,  3.32it/s, loss=0.0029]\n",
            "Epoch 485/1000: 100%|██████████| 8/8 [00:02<00:00,  3.17it/s, loss=0.00352]\n",
            "Epoch 486/1000: 100%|██████████| 8/8 [00:02<00:00,  3.17it/s, loss=0.00353]\n",
            "Epoch 487/1000: 100%|██████████| 8/8 [00:02<00:00,  3.11it/s, loss=2.33e-5]\n",
            "Epoch 488/1000: 100%|██████████| 8/8 [00:02<00:00,  3.11it/s, loss=9.3e-7]\n",
            "Epoch 489/1000: 100%|██████████| 8/8 [00:02<00:00,  3.13it/s, loss=2.74e-7]\n",
            "Epoch 490/1000: 100%|██████████| 8/8 [00:02<00:00,  3.20it/s, loss=0.000667]\n",
            "Epoch 491/1000: 100%|██████████| 8/8 [00:02<00:00,  3.30it/s, loss=0.00112]\n",
            "Epoch 492/1000: 100%|██████████| 8/8 [00:02<00:00,  3.26it/s, loss=2.83e-6]\n",
            "Epoch 493/1000: 100%|██████████| 8/8 [00:02<00:00,  3.28it/s, loss=2.44e-7]\n",
            "Epoch 494/1000: 100%|██████████| 8/8 [00:02<00:00,  3.30it/s, loss=0.000153]\n",
            "Epoch 495/1000: 100%|██████████| 8/8 [00:02<00:00,  3.24it/s, loss=3.86e-6]\n",
            "Epoch 496/1000: 100%|██████████| 8/8 [00:02<00:00,  3.27it/s, loss=5.36e-8]\n",
            "Epoch 497/1000: 100%|██████████| 8/8 [00:02<00:00,  3.28it/s, loss=0.000578]\n",
            "Epoch 498/1000: 100%|██████████| 8/8 [00:02<00:00,  3.30it/s, loss=0.124]\n",
            "Epoch 499/1000: 100%|██████████| 8/8 [00:02<00:00,  3.23it/s, loss=9.89e-6]\n",
            "Epoch 500/1000: 100%|██████████| 8/8 [00:02<00:00,  3.22it/s, loss=0.00357]\n",
            "Epoch 501/1000: 100%|██████████| 8/8 [00:02<00:00,  3.24it/s, loss=0.00564]\n",
            "Epoch 502/1000: 100%|██████████| 8/8 [00:02<00:00,  3.26it/s, loss=5.36e-8]\n",
            "Epoch 503/1000: 100%|██████████| 8/8 [00:02<00:00,  3.22it/s, loss=1.18e-5]\n",
            "Epoch 504/1000: 100%|██████████| 8/8 [00:02<00:00,  3.29it/s, loss=6.37e-6]\n",
            "Epoch 505/1000: 100%|██████████| 8/8 [00:02<00:00,  3.23it/s, loss=0.00336]\n",
            "Epoch 506/1000: 100%|██████████| 8/8 [00:02<00:00,  3.30it/s, loss=1.79e-8]\n",
            "Epoch 507/1000: 100%|██████████| 8/8 [00:02<00:00,  3.25it/s, loss=0.00593]\n",
            "Epoch 508/1000: 100%|██████████| 8/8 [00:02<00:00,  3.30it/s, loss=3.58e-8]\n",
            "Epoch 509/1000: 100%|██████████| 8/8 [00:02<00:00,  3.29it/s, loss=1.79e-8]\n",
            "Epoch 510/1000: 100%|██████████| 8/8 [00:02<00:00,  3.29it/s, loss=0.0844]\n",
            "Epoch 511/1000: 100%|██████████| 8/8 [00:02<00:00,  3.27it/s, loss=1.88e-6]\n",
            "Epoch 512/1000: 100%|██████████| 8/8 [00:02<00:00,  3.35it/s, loss=1.19e-8]\n",
            "Epoch 513/1000: 100%|██████████| 8/8 [00:02<00:00,  3.27it/s, loss=3.93e-6]\n",
            "Epoch 514/1000: 100%|██████████| 8/8 [00:02<00:00,  3.36it/s, loss=1.54e-5]\n",
            "Epoch 515/1000: 100%|██████████| 8/8 [00:02<00:00,  3.33it/s, loss=3.58e-8]\n",
            "Epoch 516/1000: 100%|██████████| 8/8 [00:02<00:00,  3.29it/s, loss=5.96e-9]\n",
            "Epoch 517/1000: 100%|██████████| 8/8 [00:02<00:00,  3.33it/s, loss=6.62e-7]\n",
            "Epoch 518/1000: 100%|██████████| 8/8 [00:02<00:00,  3.37it/s, loss=0]\n",
            "Epoch 519/1000: 100%|██████████| 8/8 [00:02<00:00,  3.37it/s, loss=0]\n",
            "Epoch 520/1000: 100%|██████████| 8/8 [00:02<00:00,  3.31it/s, loss=5.72e-7]\n",
            "Epoch 521/1000: 100%|██████████| 8/8 [00:02<00:00,  3.39it/s, loss=0.0106]\n",
            "Epoch 522/1000: 100%|██████████| 8/8 [00:02<00:00,  3.37it/s, loss=0]\n",
            "Epoch 523/1000: 100%|██████████| 8/8 [00:02<00:00,  3.36it/s, loss=1.79e-8]\n",
            "Epoch 524/1000: 100%|██████████| 8/8 [00:02<00:00,  3.27it/s, loss=0.00389]\n",
            "Epoch 525/1000: 100%|██████████| 8/8 [00:02<00:00,  3.32it/s, loss=0]\n",
            "Epoch 526/1000: 100%|██████████| 8/8 [00:02<00:00,  3.34it/s, loss=0.00102]\n",
            "Epoch 527/1000: 100%|██████████| 8/8 [00:02<00:00,  3.36it/s, loss=3.46e-6]\n",
            "Epoch 528/1000: 100%|██████████| 8/8 [00:02<00:00,  3.33it/s, loss=9.17e-5]\n",
            "Epoch 529/1000: 100%|██████████| 8/8 [00:02<00:00,  3.35it/s, loss=0]\n",
            "Epoch 530/1000: 100%|██████████| 8/8 [00:02<00:00,  3.31it/s, loss=1.19e-8]\n",
            "Epoch 531/1000: 100%|██████████| 8/8 [00:02<00:00,  3.36it/s, loss=0.206]\n",
            "Epoch 532/1000: 100%|██████████| 8/8 [00:02<00:00,  3.37it/s, loss=0.0795]\n",
            "Epoch 533/1000: 100%|██████████| 8/8 [00:02<00:00,  3.35it/s, loss=0]\n",
            "Epoch 534/1000: 100%|██████████| 8/8 [00:02<00:00,  3.29it/s, loss=3.2e-5]\n",
            "Epoch 535/1000: 100%|██████████| 8/8 [00:02<00:00,  3.34it/s, loss=0.000289]\n",
            "Epoch 536/1000: 100%|██████████| 8/8 [00:02<00:00,  3.33it/s, loss=0.0111]\n",
            "Epoch 537/1000: 100%|██████████| 8/8 [00:02<00:00,  3.32it/s, loss=0.0869]\n",
            "Epoch 538/1000: 100%|██████████| 8/8 [00:02<00:00,  3.30it/s, loss=0.000397]\n",
            "Epoch 539/1000: 100%|██████████| 8/8 [00:02<00:00,  3.32it/s, loss=2.74e-5]\n",
            "Epoch 540/1000: 100%|██████████| 8/8 [00:02<00:00,  3.23it/s, loss=0.00112]\n",
            "Epoch 541/1000: 100%|██████████| 8/8 [00:02<00:00,  3.25it/s, loss=0]\n",
            "Epoch 542/1000: 100%|██████████| 8/8 [00:02<00:00,  3.30it/s, loss=0.000361]\n",
            "Epoch 543/1000: 100%|██████████| 8/8 [00:02<00:00,  3.30it/s, loss=2.02e-5]\n",
            "Epoch 544/1000: 100%|██████████| 8/8 [00:02<00:00,  3.26it/s, loss=2.38e-8]\n",
            "Epoch 545/1000: 100%|██████████| 8/8 [00:02<00:00,  3.29it/s, loss=2.98e-8]\n",
            "Epoch 546/1000: 100%|██████████| 8/8 [00:02<00:00,  3.28it/s, loss=2.98e-8]\n",
            "Epoch 547/1000: 100%|██████████| 8/8 [00:02<00:00,  3.23it/s, loss=1.37e-7]\n",
            "Epoch 548/1000: 100%|██████████| 8/8 [00:02<00:00,  3.23it/s, loss=5.96e-8]\n",
            "Epoch 549/1000: 100%|██████████| 8/8 [00:02<00:00,  3.22it/s, loss=4.62e-5]\n",
            "Epoch 550/1000: 100%|██████████| 8/8 [00:02<00:00,  3.19it/s, loss=0.000778]\n",
            "Epoch 551/1000: 100%|██████████| 8/8 [00:02<00:00,  3.26it/s, loss=8.28e-7]\n",
            "Epoch 552/1000: 100%|██████████| 8/8 [00:02<00:00,  3.21it/s, loss=0.000245]\n",
            "Epoch 553/1000: 100%|██████████| 8/8 [00:02<00:00,  3.27it/s, loss=2.69e-6]\n",
            "Epoch 554/1000: 100%|██████████| 8/8 [00:02<00:00,  3.29it/s, loss=0.00199]\n",
            "Epoch 555/1000: 100%|██████████| 8/8 [00:02<00:00,  3.35it/s, loss=0.0074]\n",
            "Epoch 556/1000: 100%|██████████| 8/8 [00:02<00:00,  3.30it/s, loss=2.8e-7]\n",
            "Epoch 557/1000: 100%|██████████| 8/8 [00:02<00:00,  3.30it/s, loss=1.79e-8]\n",
            "Epoch 558/1000: 100%|██████████| 8/8 [00:02<00:00,  3.27it/s, loss=3.58e-8]\n",
            "Epoch 559/1000: 100%|██████████| 8/8 [00:02<00:00,  3.28it/s, loss=0.00176]\n",
            "Epoch 560/1000: 100%|██████████| 8/8 [00:02<00:00,  3.27it/s, loss=2.03e-5]\n",
            "Epoch 561/1000: 100%|██████████| 8/8 [00:02<00:00,  3.24it/s, loss=3.58e-8]\n",
            "Epoch 562/1000: 100%|██████████| 8/8 [00:02<00:00,  3.28it/s, loss=1.74e-5]\n",
            "Epoch 563/1000: 100%|██████████| 8/8 [00:02<00:00,  3.30it/s, loss=0]\n",
            "Epoch 564/1000: 100%|██████████| 8/8 [00:02<00:00,  3.28it/s, loss=6.73e-5]\n",
            "Epoch 565/1000: 100%|██████████| 8/8 [00:02<00:00,  3.29it/s, loss=0]\n",
            "Epoch 566/1000: 100%|██████████| 8/8 [00:02<00:00,  3.38it/s, loss=1.71e-5]\n",
            "Epoch 567/1000: 100%|██████████| 8/8 [00:02<00:00,  3.36it/s, loss=4.32e-6]\n",
            "Epoch 568/1000: 100%|██████████| 8/8 [00:02<00:00,  3.38it/s, loss=0.000181]\n",
            "Epoch 569/1000: 100%|██████████| 8/8 [00:02<00:00,  3.34it/s, loss=7.85e-6]\n",
            "Epoch 570/1000: 100%|██████████| 8/8 [00:02<00:00,  3.37it/s, loss=0]\n",
            "Epoch 571/1000: 100%|██████████| 8/8 [00:02<00:00,  3.36it/s, loss=0]\n",
            "Epoch 572/1000: 100%|██████████| 8/8 [00:02<00:00,  3.37it/s, loss=4.29e-7]\n",
            "Epoch 573/1000: 100%|██████████| 8/8 [00:02<00:00,  3.38it/s, loss=0]\n",
            "Epoch 574/1000: 100%|██████████| 8/8 [00:02<00:00,  3.40it/s, loss=2.07e-6]\n",
            "Epoch 575/1000: 100%|██████████| 8/8 [00:02<00:00,  3.34it/s, loss=2.38e-8]\n",
            "Epoch 576/1000: 100%|██████████| 8/8 [00:02<00:00,  3.38it/s, loss=1.19e-8]\n",
            "Epoch 577/1000: 100%|██████████| 8/8 [00:02<00:00,  3.33it/s, loss=0.0837]\n",
            "Epoch 578/1000: 100%|██████████| 8/8 [00:02<00:00,  3.32it/s, loss=2.03e-7]\n",
            "Epoch 579/1000: 100%|██████████| 8/8 [00:02<00:00,  3.31it/s, loss=5.36e-8]\n",
            "Epoch 580/1000: 100%|██████████| 8/8 [00:02<00:00,  3.37it/s, loss=0]\n",
            "Epoch 581/1000: 100%|██████████| 8/8 [00:02<00:00,  3.36it/s, loss=0.00012]\n",
            "Epoch 582/1000: 100%|██████████| 8/8 [00:02<00:00,  3.30it/s, loss=0]\n",
            "Epoch 583/1000: 100%|██████████| 8/8 [00:02<00:00,  3.33it/s, loss=1.59e-5]\n",
            "Epoch 584/1000: 100%|██████████| 8/8 [00:02<00:00,  3.26it/s, loss=0]\n",
            "Epoch 585/1000: 100%|██████████| 8/8 [00:02<00:00,  3.30it/s, loss=1.55e-5]\n",
            "Epoch 586/1000: 100%|██████████| 8/8 [00:02<00:00,  3.34it/s, loss=6.65e-6]\n",
            "Epoch 587/1000: 100%|██████████| 8/8 [00:02<00:00,  3.33it/s, loss=0]\n",
            "Epoch 588/1000: 100%|██████████| 8/8 [00:02<00:00,  3.36it/s, loss=0.00116]\n",
            "Epoch 589/1000: 100%|██████████| 8/8 [00:02<00:00,  3.34it/s, loss=0]\n",
            "Epoch 590/1000: 100%|██████████| 8/8 [00:02<00:00,  3.31it/s, loss=1.36e-6]\n",
            "Epoch 591/1000: 100%|██████████| 8/8 [00:02<00:00,  3.37it/s, loss=0]\n",
            "Epoch 592/1000: 100%|██████████| 8/8 [00:02<00:00,  3.31it/s, loss=0.00579]\n",
            "Epoch 593/1000: 100%|██████████| 8/8 [00:02<00:00,  3.38it/s, loss=1.79e-8]\n",
            "Epoch 594/1000: 100%|██████████| 8/8 [00:02<00:00,  3.28it/s, loss=8.94e-8]\n",
            "Epoch 595/1000: 100%|██████████| 8/8 [00:02<00:00,  3.36it/s, loss=0]\n",
            "Epoch 596/1000: 100%|██████████| 8/8 [00:02<00:00,  3.32it/s, loss=1.78e-5]\n",
            "Epoch 597/1000: 100%|██████████| 8/8 [00:02<00:00,  3.30it/s, loss=3.58e-8]\n",
            "Epoch 598/1000: 100%|██████████| 8/8 [00:02<00:00,  3.31it/s, loss=0.000124]\n",
            "Epoch 599/1000: 100%|██████████| 8/8 [00:02<00:00,  3.29it/s, loss=0.00359]\n",
            "Epoch 600/1000: 100%|██████████| 8/8 [00:02<00:00,  3.35it/s, loss=0.00014]\n",
            "Epoch 601/1000: 100%|██████████| 8/8 [00:02<00:00,  3.34it/s, loss=1.53e-6]\n",
            "Epoch 602/1000: 100%|██████████| 8/8 [00:02<00:00,  3.35it/s, loss=0.0323]\n",
            "Epoch 603/1000: 100%|██████████| 8/8 [00:02<00:00,  3.28it/s, loss=5.6e-7]\n",
            "Epoch 604/1000: 100%|██████████| 8/8 [00:02<00:00,  3.32it/s, loss=4.77e-8]\n",
            "Epoch 605/1000: 100%|██████████| 8/8 [00:02<00:00,  3.34it/s, loss=0]\n",
            "Epoch 606/1000: 100%|██████████| 8/8 [00:02<00:00,  3.27it/s, loss=4.18e-6]\n",
            "Epoch 607/1000: 100%|██████████| 8/8 [00:02<00:00,  3.33it/s, loss=8.88e-6]\n",
            "Epoch 608/1000: 100%|██████████| 8/8 [00:02<00:00,  3.38it/s, loss=0]\n",
            "Epoch 609/1000: 100%|██████████| 8/8 [00:02<00:00,  3.36it/s, loss=8.05e-6]\n",
            "Epoch 610/1000: 100%|██████████| 8/8 [00:02<00:00,  3.34it/s, loss=3.76e-7]\n",
            "Epoch 611/1000: 100%|██████████| 8/8 [00:02<00:00,  3.35it/s, loss=7.75e-8]\n",
            "Epoch 612/1000: 100%|██████████| 8/8 [00:02<00:00,  3.32it/s, loss=0]\n",
            "Epoch 613/1000: 100%|██████████| 8/8 [00:02<00:00,  3.25it/s, loss=2.07e-5]\n",
            "Epoch 614/1000: 100%|██████████| 8/8 [00:02<00:00,  3.18it/s, loss=0]\n",
            "Epoch 615/1000: 100%|██████████| 8/8 [00:02<00:00,  3.23it/s, loss=6.56e-7]\n",
            "Epoch 616/1000: 100%|██████████| 8/8 [00:02<00:00,  3.23it/s, loss=0]\n",
            "Epoch 617/1000: 100%|██████████| 8/8 [00:02<00:00,  3.24it/s, loss=8.94e-8]\n",
            "Epoch 618/1000: 100%|██████████| 8/8 [00:02<00:00,  3.26it/s, loss=2.62e-7]\n",
            "Epoch 619/1000: 100%|██████████| 8/8 [00:02<00:00,  3.38it/s, loss=1.28e-6]\n",
            "Epoch 620/1000: 100%|██████████| 8/8 [00:02<00:00,  3.38it/s, loss=5.36e-8]\n",
            "Epoch 621/1000: 100%|██████████| 8/8 [00:03<00:00,  2.39it/s, loss=2.44e-7]\n",
            "Epoch 622/1000: 100%|██████████| 8/8 [00:02<00:00,  3.20it/s, loss=1.09e-5]\n",
            "Epoch 623/1000: 100%|██████████| 8/8 [00:02<00:00,  3.37it/s, loss=6.73e-5]\n",
            "Epoch 624/1000: 100%|██████████| 8/8 [00:02<00:00,  3.35it/s, loss=6.69e-6]\n",
            "Epoch 625/1000: 100%|██████████| 8/8 [00:02<00:00,  3.33it/s, loss=6.26e-7]\n",
            "Epoch 626/1000: 100%|██████████| 8/8 [00:02<00:00,  3.35it/s, loss=0.000649]\n",
            "Epoch 627/1000: 100%|██████████| 8/8 [00:02<00:00,  3.32it/s, loss=5.96e-8]\n",
            "Epoch 628/1000: 100%|██████████| 8/8 [00:02<00:00,  3.30it/s, loss=5.78e-7]\n",
            "Epoch 629/1000: 100%|██████████| 8/8 [00:02<00:00,  3.31it/s, loss=0.0001]\n",
            "Epoch 630/1000: 100%|██████████| 8/8 [00:02<00:00,  3.34it/s, loss=2.28e-6]\n",
            "Epoch 631/1000: 100%|██████████| 8/8 [00:02<00:00,  3.29it/s, loss=4.47e-7]\n",
            "Epoch 632/1000: 100%|██████████| 8/8 [00:02<00:00,  3.37it/s, loss=1.83e-6]\n",
            "Epoch 633/1000: 100%|██████████| 8/8 [00:02<00:00,  3.34it/s, loss=0.00565]\n",
            "Epoch 634/1000: 100%|██████████| 8/8 [00:02<00:00,  3.29it/s, loss=0]\n",
            "Epoch 635/1000: 100%|██████████| 8/8 [00:02<00:00,  3.27it/s, loss=4.77e-8]\n",
            "Epoch 636/1000: 100%|██████████| 8/8 [00:02<00:00,  3.35it/s, loss=0]\n",
            "Epoch 637/1000: 100%|██████████| 8/8 [00:02<00:00,  3.33it/s, loss=0]\n",
            "Epoch 638/1000: 100%|██████████| 8/8 [00:02<00:00,  3.36it/s, loss=0]\n",
            "Epoch 639/1000: 100%|██████████| 8/8 [00:02<00:00,  3.28it/s, loss=3.58e-8]\n",
            "Epoch 640/1000: 100%|██████████| 8/8 [00:02<00:00,  3.36it/s, loss=5.96e-8]\n",
            "Epoch 641/1000: 100%|██████████| 8/8 [00:02<00:00,  3.26it/s, loss=0.476]\n",
            "Epoch 642/1000: 100%|██████████| 8/8 [00:02<00:00,  3.39it/s, loss=0]\n",
            "Epoch 643/1000: 100%|██████████| 8/8 [00:02<00:00,  3.30it/s, loss=0.0185]\n",
            "Epoch 644/1000: 100%|██████████| 8/8 [00:02<00:00,  3.35it/s, loss=4.77e-8]\n",
            "Epoch 645/1000: 100%|██████████| 8/8 [00:02<00:00,  3.34it/s, loss=1.79e-8]\n",
            "Epoch 646/1000: 100%|██████████| 8/8 [00:02<00:00,  3.34it/s, loss=5.4e-5]\n",
            "Epoch 647/1000: 100%|██████████| 8/8 [00:02<00:00,  3.33it/s, loss=0.00278]\n",
            "Epoch 648/1000: 100%|██████████| 8/8 [00:02<00:00,  3.35it/s, loss=1.01e-5]\n",
            "Epoch 649/1000: 100%|██████████| 8/8 [00:02<00:00,  3.30it/s, loss=4.35e-7]\n",
            "Epoch 650/1000: 100%|██████████| 8/8 [00:02<00:00,  3.31it/s, loss=2.98e-8]\n",
            "Epoch 651/1000: 100%|██████████| 8/8 [00:02<00:00,  3.34it/s, loss=1.07e-7]\n",
            "Epoch 652/1000: 100%|██████████| 8/8 [00:02<00:00,  3.33it/s, loss=3.08e-6]\n",
            "Epoch 653/1000: 100%|██████████| 8/8 [00:02<00:00,  3.28it/s, loss=3.96e-6]\n",
            "Epoch 654/1000: 100%|██████████| 8/8 [00:02<00:00,  3.37it/s, loss=0]\n",
            "Epoch 655/1000: 100%|██████████| 8/8 [00:02<00:00,  3.36it/s, loss=2.1e-6]\n",
            "Epoch 656/1000: 100%|██████████| 8/8 [00:02<00:00,  3.31it/s, loss=5.3e-7]\n",
            "Epoch 657/1000: 100%|██████████| 8/8 [00:02<00:00,  3.39it/s, loss=5.96e-9]\n",
            "Epoch 658/1000: 100%|██████████| 8/8 [00:02<00:00,  3.34it/s, loss=0]\n",
            "Epoch 659/1000: 100%|██████████| 8/8 [00:02<00:00,  3.41it/s, loss=2.15e-7]\n",
            "Epoch 660/1000: 100%|██████████| 8/8 [00:02<00:00,  3.35it/s, loss=1.19e-8]\n",
            "Epoch 661/1000: 100%|██████████| 8/8 [00:02<00:00,  3.38it/s, loss=0]\n",
            "Epoch 662/1000: 100%|██████████| 8/8 [00:02<00:00,  3.39it/s, loss=6.56e-8]\n",
            "Epoch 663/1000: 100%|██████████| 8/8 [00:02<00:00,  3.32it/s, loss=3.4e-7]\n",
            "Epoch 664/1000: 100%|██████████| 8/8 [00:02<00:00,  3.35it/s, loss=7.75e-8]\n",
            "Epoch 665/1000: 100%|██████████| 8/8 [00:02<00:00,  3.42it/s, loss=9.83e-7]\n",
            "Epoch 666/1000: 100%|██████████| 8/8 [00:02<00:00,  3.37it/s, loss=2.44e-7]\n",
            "Epoch 667/1000: 100%|██████████| 8/8 [00:02<00:00,  3.37it/s, loss=0]\n",
            "Epoch 668/1000: 100%|██████████| 8/8 [00:02<00:00,  3.39it/s, loss=0]\n",
            "Epoch 669/1000: 100%|██████████| 8/8 [00:02<00:00,  3.32it/s, loss=0]\n",
            "Epoch 670/1000: 100%|██████████| 8/8 [00:02<00:00,  3.38it/s, loss=2.38e-8]\n",
            "Epoch 671/1000: 100%|██████████| 8/8 [00:02<00:00,  3.38it/s, loss=7.15e-8]\n",
            "Epoch 672/1000: 100%|██████████| 8/8 [00:02<00:00,  3.34it/s, loss=1.53e-6]\n",
            "Epoch 673/1000: 100%|██████████| 8/8 [00:02<00:00,  3.32it/s, loss=0.00577]\n",
            "Epoch 674/1000: 100%|██████████| 8/8 [00:02<00:00,  3.41it/s, loss=5.25e-5]\n",
            "Epoch 675/1000: 100%|██████████| 8/8 [00:02<00:00,  3.32it/s, loss=1.91e-7]\n",
            "Epoch 676/1000: 100%|██████████| 8/8 [00:02<00:00,  3.41it/s, loss=7.81e-6]\n",
            "Epoch 677/1000: 100%|██████████| 8/8 [00:02<00:00,  3.40it/s, loss=4.77e-8]\n",
            "Epoch 678/1000: 100%|██████████| 8/8 [00:02<00:00,  3.35it/s, loss=0]\n",
            "Epoch 679/1000: 100%|██████████| 8/8 [00:02<00:00,  3.30it/s, loss=9.54e-8]\n",
            "Epoch 680/1000: 100%|██████████| 8/8 [00:02<00:00,  3.36it/s, loss=0]\n",
            "Epoch 681/1000: 100%|██████████| 8/8 [00:02<00:00,  3.33it/s, loss=0.000322]\n",
            "Epoch 682/1000: 100%|██████████| 8/8 [00:02<00:00,  3.39it/s, loss=2.98e-8]\n",
            "Epoch 683/1000: 100%|██████████| 8/8 [00:02<00:00,  3.35it/s, loss=0.0223]\n",
            "Epoch 684/1000: 100%|██████████| 8/8 [00:02<00:00,  3.35it/s, loss=1.67e-6]\n",
            "Epoch 685/1000: 100%|██████████| 8/8 [00:02<00:00,  3.39it/s, loss=5.96e-8]\n",
            "Epoch 686/1000: 100%|██████████| 8/8 [00:02<00:00,  3.33it/s, loss=2.74e-7]\n",
            "Epoch 687/1000: 100%|██████████| 8/8 [00:02<00:00,  3.36it/s, loss=0]\n",
            "Epoch 688/1000: 100%|██████████| 8/8 [00:02<00:00,  3.40it/s, loss=5.42e-7]\n",
            "Epoch 689/1000: 100%|██████████| 8/8 [00:02<00:00,  3.39it/s, loss=2.41e-5]\n",
            "Epoch 690/1000: 100%|██████████| 8/8 [00:02<00:00,  3.38it/s, loss=6.14e-6]\n",
            "Epoch 691/1000: 100%|██████████| 8/8 [00:02<00:00,  3.33it/s, loss=3.87e-7]\n",
            "Epoch 692/1000: 100%|██████████| 8/8 [00:02<00:00,  3.30it/s, loss=3.02e-6]\n",
            "Epoch 693/1000: 100%|██████████| 8/8 [00:02<00:00,  3.36it/s, loss=0]\n",
            "Epoch 694/1000: 100%|██████████| 8/8 [00:02<00:00,  3.36it/s, loss=5.36e-8]\n",
            "Epoch 695/1000: 100%|██████████| 8/8 [00:02<00:00,  3.33it/s, loss=8.28e-7]\n",
            "Epoch 696/1000: 100%|██████████| 8/8 [00:02<00:00,  3.39it/s, loss=9.54e-8]\n",
            "Epoch 697/1000: 100%|██████████| 8/8 [00:02<00:00,  3.36it/s, loss=7.92e-6]\n",
            "Epoch 698/1000: 100%|██████████| 8/8 [00:02<00:00,  3.35it/s, loss=1.13e-6]\n",
            "Epoch 699/1000: 100%|██████████| 8/8 [00:02<00:00,  3.35it/s, loss=9.38e-6]\n",
            "Epoch 700/1000: 100%|██████████| 8/8 [00:02<00:00,  3.36it/s, loss=8.69e-6]\n",
            "Epoch 701/1000: 100%|██████████| 8/8 [00:02<00:00,  3.36it/s, loss=0]\n",
            "Epoch 702/1000: 100%|██████████| 8/8 [00:02<00:00,  3.33it/s, loss=2.98e-8]\n",
            "Epoch 703/1000: 100%|██████████| 8/8 [00:02<00:00,  3.37it/s, loss=4.77e-8]\n",
            "Epoch 704/1000: 100%|██████████| 8/8 [00:02<00:00,  3.29it/s, loss=0.00473]\n",
            "Epoch 705/1000: 100%|██████████| 8/8 [00:02<00:00,  3.32it/s, loss=0.0012]\n",
            "Epoch 706/1000: 100%|██████████| 8/8 [00:02<00:00,  3.35it/s, loss=6.1e-6]\n",
            "Epoch 707/1000: 100%|██████████| 8/8 [00:02<00:00,  3.33it/s, loss=0]\n",
            "Epoch 708/1000: 100%|██████████| 8/8 [00:02<00:00,  3.36it/s, loss=0.000143]\n",
            "Epoch 709/1000: 100%|██████████| 8/8 [00:02<00:00,  3.27it/s, loss=4.17e-8]\n",
            "Epoch 710/1000: 100%|██████████| 8/8 [00:02<00:00,  3.26it/s, loss=1.79e-8]\n",
            "Epoch 711/1000: 100%|██████████| 8/8 [00:02<00:00,  3.36it/s, loss=5.96e-7]\n",
            "Epoch 712/1000: 100%|██████████| 8/8 [00:02<00:00,  3.39it/s, loss=1.41e-6]\n",
            "Epoch 713/1000: 100%|██████████| 8/8 [00:02<00:00,  3.33it/s, loss=0]\n",
            "Epoch 714/1000: 100%|██████████| 8/8 [00:02<00:00,  3.37it/s, loss=0]\n",
            "Epoch 715/1000: 100%|██████████| 8/8 [00:02<00:00,  3.33it/s, loss=6.56e-8]\n",
            "Epoch 716/1000: 100%|██████████| 8/8 [00:02<00:00,  3.35it/s, loss=6.84e-6]\n",
            "Epoch 717/1000: 100%|██████████| 8/8 [00:02<00:00,  3.28it/s, loss=7.75e-7]\n",
            "Epoch 718/1000: 100%|██████████| 8/8 [00:02<00:00,  3.33it/s, loss=0.0769]\n",
            "Epoch 719/1000: 100%|██████████| 8/8 [00:02<00:00,  3.34it/s, loss=1.61e-7]\n",
            "Epoch 720/1000: 100%|██████████| 8/8 [00:02<00:00,  3.32it/s, loss=7.07e-5]\n",
            "Epoch 721/1000: 100%|██████████| 8/8 [00:02<00:00,  3.30it/s, loss=5.42e-7]\n",
            "Epoch 722/1000: 100%|██████████| 8/8 [00:02<00:00,  3.30it/s, loss=7.09e-7]\n",
            "Epoch 723/1000: 100%|██████████| 8/8 [00:02<00:00,  3.34it/s, loss=0]\n",
            "Epoch 724/1000: 100%|██████████| 8/8 [00:02<00:00,  3.35it/s, loss=2.12e-6]\n",
            "Epoch 725/1000: 100%|██████████| 8/8 [00:02<00:00,  3.27it/s, loss=2.24e-6]\n",
            "Epoch 726/1000: 100%|██████████| 8/8 [00:02<00:00,  3.33it/s, loss=1.13e-7]\n",
            "Epoch 727/1000: 100%|██████████| 8/8 [00:02<00:00,  3.30it/s, loss=7.39e-5]\n",
            "Epoch 728/1000: 100%|██████████| 8/8 [00:02<00:00,  3.36it/s, loss=0.000905]\n",
            "Epoch 729/1000: 100%|██████████| 8/8 [00:02<00:00,  3.26it/s, loss=3.16e-7]\n",
            "Epoch 730/1000: 100%|██████████| 8/8 [00:02<00:00,  3.26it/s, loss=5.13e-7]\n",
            "Epoch 731/1000: 100%|██████████| 8/8 [00:02<00:00,  3.29it/s, loss=4.2e-6]\n",
            "Epoch 732/1000: 100%|██████████| 8/8 [00:02<00:00,  3.32it/s, loss=0.00741]\n",
            "Epoch 733/1000: 100%|██████████| 8/8 [00:02<00:00,  3.31it/s, loss=0.000146]\n",
            "Epoch 734/1000: 100%|██████████| 8/8 [00:02<00:00,  3.31it/s, loss=1.19e-8]\n",
            "Epoch 735/1000: 100%|██████████| 8/8 [00:02<00:00,  3.29it/s, loss=5.36e-8]\n",
            "Epoch 736/1000: 100%|██████████| 8/8 [00:02<00:00,  3.30it/s, loss=1.3e-5]\n",
            "Epoch 737/1000: 100%|██████████| 8/8 [00:02<00:00,  3.29it/s, loss=4.77e-7]\n",
            "Epoch 738/1000: 100%|██████████| 8/8 [00:02<00:00,  3.29it/s, loss=1.19e-8]\n",
            "Epoch 739/1000: 100%|██████████| 8/8 [00:02<00:00,  3.29it/s, loss=6.99e-6]\n",
            "Epoch 740/1000: 100%|██████████| 8/8 [00:02<00:00,  3.25it/s, loss=0]\n",
            "Epoch 741/1000: 100%|██████████| 8/8 [00:02<00:00,  3.18it/s, loss=6.42e-6]\n",
            "Epoch 742/1000: 100%|██████████| 8/8 [00:02<00:00,  3.18it/s, loss=2.72e-5]\n",
            "Epoch 743/1000: 100%|██████████| 8/8 [00:02<00:00,  3.14it/s, loss=1.17e-5]\n",
            "Epoch 744/1000: 100%|██████████| 8/8 [00:02<00:00,  3.18it/s, loss=0.00211]\n",
            "Epoch 745/1000: 100%|██████████| 8/8 [00:02<00:00,  3.20it/s, loss=2.86e-7]\n",
            "Epoch 746/1000: 100%|██████████| 8/8 [00:02<00:00,  3.20it/s, loss=1.19e-8]\n",
            "Epoch 747/1000: 100%|██████████| 8/8 [00:02<00:00,  3.23it/s, loss=3.27e-5]\n",
            "Epoch 748/1000: 100%|██████████| 8/8 [00:02<00:00,  3.31it/s, loss=1.07e-7]\n",
            "Epoch 749/1000: 100%|██████████| 8/8 [00:02<00:00,  3.31it/s, loss=0.000236]\n",
            "Epoch 750/1000: 100%|██████████| 8/8 [00:02<00:00,  3.27it/s, loss=7.21e-7]\n",
            "Epoch 751/1000: 100%|██████████| 8/8 [00:02<00:00,  3.27it/s, loss=1.96e-6]\n",
            "Epoch 752/1000: 100%|██████████| 8/8 [00:02<00:00,  3.29it/s, loss=2.66e-6]\n",
            "Epoch 753/1000: 100%|██████████| 8/8 [00:02<00:00,  3.30it/s, loss=2.46e-5]\n",
            "Epoch 754/1000: 100%|██████████| 8/8 [00:02<00:00,  3.31it/s, loss=1.66e-6]\n",
            "Epoch 755/1000: 100%|██████████| 8/8 [00:02<00:00,  3.27it/s, loss=2.56e-7]\n",
            "Epoch 756/1000: 100%|██████████| 8/8 [00:02<00:00,  3.29it/s, loss=2.03e-7]\n",
            "Epoch 757/1000: 100%|██████████| 8/8 [00:02<00:00,  3.29it/s, loss=0]\n",
            "Epoch 758/1000: 100%|██████████| 8/8 [00:02<00:00,  3.32it/s, loss=2.98e-8]\n",
            "Epoch 759/1000: 100%|██████████| 8/8 [00:02<00:00,  3.27it/s, loss=0]\n",
            "Epoch 760/1000: 100%|██████████| 8/8 [00:02<00:00,  3.28it/s, loss=2.05e-6]\n",
            "Epoch 761/1000: 100%|██████████| 8/8 [00:02<00:00,  3.29it/s, loss=1.07e-5]\n",
            "Epoch 762/1000: 100%|██████████| 8/8 [00:02<00:00,  3.29it/s, loss=0]\n",
            "Epoch 763/1000: 100%|██████████| 8/8 [00:02<00:00,  3.25it/s, loss=7.25e-6]\n",
            "Epoch 764/1000: 100%|██████████| 8/8 [00:02<00:00,  3.30it/s, loss=2.38e-8]\n",
            "Epoch 765/1000: 100%|██████████| 8/8 [00:02<00:00,  3.30it/s, loss=0.0435]\n",
            "Epoch 766/1000: 100%|██████████| 8/8 [00:02<00:00,  3.29it/s, loss=1.47e-5]\n",
            "Epoch 767/1000: 100%|██████████| 8/8 [00:02<00:00,  3.31it/s, loss=5.96e-9]\n",
            "Epoch 768/1000: 100%|██████████| 8/8 [00:02<00:00,  3.25it/s, loss=0.000501]\n",
            "Epoch 769/1000: 100%|██████████| 8/8 [00:02<00:00,  3.23it/s, loss=0]\n",
            "Epoch 770/1000: 100%|██████████| 8/8 [00:02<00:00,  3.27it/s, loss=1.79e-8]\n",
            "Epoch 771/1000: 100%|██████████| 8/8 [00:02<00:00,  3.27it/s, loss=0]\n",
            "Epoch 772/1000: 100%|██████████| 8/8 [00:02<00:00,  3.31it/s, loss=4.53e-7]\n",
            "Epoch 773/1000: 100%|██████████| 8/8 [00:02<00:00,  3.28it/s, loss=0]\n",
            "Epoch 774/1000: 100%|██████████| 8/8 [00:02<00:00,  3.25it/s, loss=2.38e-8]\n",
            "Epoch 775/1000: 100%|██████████| 8/8 [00:02<00:00,  3.29it/s, loss=0.0514]\n",
            "Epoch 776/1000: 100%|██████████| 8/8 [00:02<00:00,  3.24it/s, loss=0]\n",
            "Epoch 777/1000: 100%|██████████| 8/8 [00:02<00:00,  3.29it/s, loss=0]\n",
            "Epoch 778/1000: 100%|██████████| 8/8 [00:02<00:00,  3.27it/s, loss=9.88e-6]\n",
            "Epoch 779/1000: 100%|██████████| 8/8 [00:02<00:00,  3.29it/s, loss=1.44e-6]\n",
            "Epoch 780/1000: 100%|██████████| 8/8 [00:02<00:00,  3.23it/s, loss=0.012]\n",
            "Epoch 781/1000: 100%|██████████| 8/8 [00:02<00:00,  3.28it/s, loss=0.284]\n",
            "Epoch 782/1000: 100%|██████████| 8/8 [00:02<00:00,  3.27it/s, loss=0]\n",
            "Epoch 783/1000: 100%|██████████| 8/8 [00:02<00:00,  3.27it/s, loss=2.84e-5]\n",
            "Epoch 784/1000: 100%|██████████| 8/8 [00:02<00:00,  3.26it/s, loss=1.37e-7]\n",
            "Epoch 785/1000: 100%|██████████| 8/8 [00:02<00:00,  3.25it/s, loss=6.2e-6]\n",
            "Epoch 786/1000: 100%|██████████| 8/8 [00:02<00:00,  3.25it/s, loss=2.38e-7]\n",
            "Epoch 787/1000: 100%|██████████| 8/8 [00:02<00:00,  3.28it/s, loss=5.42e-7]\n",
            "Epoch 788/1000: 100%|██████████| 8/8 [00:02<00:00,  3.15it/s, loss=1.12e-5]\n",
            "Epoch 789/1000: 100%|██████████| 8/8 [00:02<00:00,  3.33it/s, loss=0.000217]\n",
            "Epoch 790/1000: 100%|██████████| 8/8 [00:02<00:00,  3.30it/s, loss=0.000164]\n",
            "Epoch 791/1000: 100%|██████████| 8/8 [00:02<00:00,  3.28it/s, loss=5.96e-9]\n",
            "Epoch 792/1000: 100%|██████████| 8/8 [00:02<00:00,  3.33it/s, loss=0]\n",
            "Epoch 793/1000: 100%|██████████| 8/8 [00:02<00:00,  3.25it/s, loss=2.7e-6]\n",
            "Epoch 794/1000: 100%|██████████| 8/8 [00:02<00:00,  3.27it/s, loss=0]\n",
            "Epoch 795/1000: 100%|██████████| 8/8 [00:02<00:00,  3.25it/s, loss=1.73e-5]\n",
            "Epoch 796/1000: 100%|██████████| 8/8 [00:02<00:00,  3.32it/s, loss=1.61e-7]\n",
            "Epoch 797/1000: 100%|██████████| 8/8 [00:02<00:00,  3.30it/s, loss=5.96e-9]\n",
            "Epoch 798/1000: 100%|██████████| 8/8 [00:02<00:00,  3.29it/s, loss=3.34e-7]\n",
            "Epoch 799/1000: 100%|██████████| 8/8 [00:02<00:00,  3.29it/s, loss=0]\n",
            "Epoch 800/1000: 100%|██████████| 8/8 [00:02<00:00,  3.24it/s, loss=0]\n",
            "Epoch 801/1000: 100%|██████████| 8/8 [00:02<00:00,  3.30it/s, loss=3.46e-7]\n",
            "Epoch 802/1000: 100%|██████████| 8/8 [00:02<00:00,  3.25it/s, loss=6.73e-6]\n",
            "Epoch 803/1000: 100%|██████████| 8/8 [00:02<00:00,  3.28it/s, loss=0]\n",
            "Epoch 804/1000: 100%|██████████| 8/8 [00:02<00:00,  3.29it/s, loss=2.07e-5]\n",
            "Epoch 805/1000: 100%|██████████| 8/8 [00:02<00:00,  3.31it/s, loss=1.19e-8]\n",
            "Epoch 806/1000: 100%|██████████| 8/8 [00:02<00:00,  3.23it/s, loss=0]\n",
            "Epoch 807/1000: 100%|██████████| 8/8 [00:02<00:00,  3.28it/s, loss=5.96e-9]\n",
            "Epoch 808/1000: 100%|██████████| 8/8 [00:02<00:00,  3.28it/s, loss=1.19e-7]\n",
            "Epoch 809/1000: 100%|██████████| 8/8 [00:02<00:00,  3.26it/s, loss=0]\n",
            "Epoch 810/1000: 100%|██████████| 8/8 [00:02<00:00,  3.25it/s, loss=0.0395]\n",
            "Epoch 811/1000: 100%|██████████| 8/8 [00:02<00:00,  3.28it/s, loss=0]\n",
            "Epoch 812/1000: 100%|██████████| 8/8 [00:02<00:00,  3.34it/s, loss=1.61e-7]\n",
            "Epoch 813/1000: 100%|██████████| 8/8 [00:02<00:00,  3.21it/s, loss=1.79e-8]\n",
            "Epoch 814/1000: 100%|██████████| 8/8 [00:03<00:00,  2.40it/s, loss=1.19e-8]\n",
            "Epoch 815/1000: 100%|██████████| 8/8 [00:02<00:00,  3.17it/s, loss=1.28e-6]\n",
            "Epoch 816/1000: 100%|██████████| 8/8 [00:02<00:00,  3.29it/s, loss=3.22e-7]\n",
            "Epoch 817/1000: 100%|██████████| 8/8 [00:02<00:00,  3.34it/s, loss=4.49e-5]\n",
            "Epoch 818/1000: 100%|██████████| 8/8 [00:02<00:00,  3.27it/s, loss=7.75e-8]\n",
            "Epoch 819/1000: 100%|██████████| 8/8 [00:02<00:00,  3.31it/s, loss=8.3e-6]\n",
            "Epoch 820/1000: 100%|██████████| 8/8 [00:02<00:00,  3.29it/s, loss=0.000327]\n",
            "Epoch 821/1000: 100%|██████████| 8/8 [00:02<00:00,  3.32it/s, loss=5.85e-5]\n",
            "Epoch 822/1000: 100%|██████████| 8/8 [00:02<00:00,  3.34it/s, loss=2.98e-8]\n",
            "Epoch 823/1000: 100%|██████████| 8/8 [00:02<00:00,  3.32it/s, loss=5.44e-6]\n",
            "Epoch 824/1000: 100%|██████████| 8/8 [00:02<00:00,  3.32it/s, loss=0.00929]\n",
            "Epoch 825/1000: 100%|██████████| 8/8 [00:02<00:00,  3.32it/s, loss=0]\n",
            "Epoch 826/1000: 100%|██████████| 8/8 [00:02<00:00,  3.34it/s, loss=1.67e-7]\n",
            "Epoch 827/1000: 100%|██████████| 8/8 [00:02<00:00,  3.29it/s, loss=5.96e-9]\n",
            "Epoch 828/1000: 100%|██████████| 8/8 [00:02<00:00,  3.34it/s, loss=0.0321]\n",
            "Epoch 829/1000: 100%|██████████| 8/8 [00:02<00:00,  3.31it/s, loss=2.21e-7]\n",
            "Epoch 830/1000: 100%|██████████| 8/8 [00:02<00:00,  3.30it/s, loss=8.46e-7]\n",
            "Epoch 831/1000: 100%|██████████| 8/8 [00:02<00:00,  3.29it/s, loss=5.96e-9]\n",
            "Epoch 832/1000: 100%|██████████| 8/8 [00:02<00:00,  3.30it/s, loss=6.01e-5]\n",
            "Epoch 833/1000: 100%|██████████| 8/8 [00:02<00:00,  3.31it/s, loss=0]\n",
            "Epoch 834/1000: 100%|██████████| 8/8 [00:02<00:00,  3.32it/s, loss=9.61e-6]\n",
            "Epoch 835/1000: 100%|██████████| 8/8 [00:02<00:00,  3.28it/s, loss=3.35e-5]\n",
            "Epoch 836/1000: 100%|██████████| 8/8 [00:02<00:00,  3.30it/s, loss=1.79e-8]\n",
            "Epoch 837/1000: 100%|██████████| 8/8 [00:02<00:00,  3.29it/s, loss=5.3e-7]\n",
            "Epoch 838/1000: 100%|██████████| 8/8 [00:02<00:00,  3.34it/s, loss=1.19e-8]\n",
            "Epoch 839/1000: 100%|██████████| 8/8 [00:02<00:00,  3.31it/s, loss=0]\n",
            "Epoch 840/1000: 100%|██████████| 8/8 [00:02<00:00,  3.32it/s, loss=0]\n",
            "Epoch 841/1000: 100%|██████████| 8/8 [00:02<00:00,  3.35it/s, loss=7.93e-7]\n",
            "Epoch 842/1000: 100%|██████████| 8/8 [00:02<00:00,  3.32it/s, loss=0]\n",
            "Epoch 843/1000: 100%|██████████| 8/8 [00:02<00:00,  3.29it/s, loss=5.96e-9]\n",
            "Epoch 844/1000: 100%|██████████| 8/8 [00:02<00:00,  3.26it/s, loss=5.78e-7]\n",
            "Epoch 845/1000: 100%|██████████| 8/8 [00:02<00:00,  3.30it/s, loss=0]\n",
            "Epoch 846/1000: 100%|██████████| 8/8 [00:02<00:00,  3.32it/s, loss=0.534]\n",
            "Epoch 847/1000: 100%|██████████| 8/8 [00:02<00:00,  3.31it/s, loss=2.38e-8]\n",
            "Epoch 848/1000: 100%|██████████| 8/8 [00:02<00:00,  3.28it/s, loss=0]\n",
            "Epoch 849/1000: 100%|██████████| 8/8 [00:02<00:00,  3.32it/s, loss=1.51e-5]\n",
            "Epoch 850/1000: 100%|██████████| 8/8 [00:02<00:00,  3.33it/s, loss=0.00448]\n",
            "Epoch 851/1000: 100%|██████████| 8/8 [00:02<00:00,  3.32it/s, loss=1.19e-8]\n",
            "Epoch 852/1000: 100%|██████████| 8/8 [00:02<00:00,  3.29it/s, loss=5.96e-9]\n",
            "Epoch 853/1000: 100%|██████████| 8/8 [00:02<00:00,  3.33it/s, loss=4.77e-8]\n",
            "Epoch 854/1000: 100%|██████████| 8/8 [00:02<00:00,  3.35it/s, loss=0.51]\n",
            "Epoch 855/1000: 100%|██████████| 8/8 [00:02<00:00,  3.33it/s, loss=3.36e-5]\n",
            "Epoch 856/1000: 100%|██████████| 8/8 [00:02<00:00,  3.28it/s, loss=0]\n",
            "Epoch 857/1000: 100%|██████████| 8/8 [00:02<00:00,  3.30it/s, loss=6.07e-5]\n",
            "Epoch 858/1000: 100%|██████████| 8/8 [00:02<00:00,  3.33it/s, loss=2.96e-6]\n",
            "Epoch 859/1000: 100%|██████████| 8/8 [00:02<00:00,  3.36it/s, loss=1.51e-6]\n",
            "Epoch 860/1000: 100%|██████████| 8/8 [00:02<00:00,  3.29it/s, loss=5.96e-8]\n",
            "Epoch 861/1000: 100%|██████████| 8/8 [00:02<00:00,  3.29it/s, loss=0.00341]\n",
            "Epoch 862/1000: 100%|██████████| 8/8 [00:02<00:00,  3.30it/s, loss=0]\n",
            "Epoch 863/1000: 100%|██████████| 8/8 [00:02<00:00,  3.32it/s, loss=4.41e-7]\n",
            "Epoch 864/1000: 100%|██████████| 8/8 [00:02<00:00,  3.29it/s, loss=0.00026]\n",
            "Epoch 865/1000: 100%|██████████| 8/8 [00:02<00:00,  3.34it/s, loss=0.00111]\n",
            "Epoch 866/1000: 100%|██████████| 8/8 [00:02<00:00,  3.31it/s, loss=2.09e-6]\n",
            "Epoch 867/1000: 100%|██████████| 8/8 [00:02<00:00,  3.18it/s, loss=1.31e-7]\n",
            "Epoch 868/1000: 100%|██████████| 8/8 [00:02<00:00,  3.22it/s, loss=1.19e-8]\n",
            "Epoch 869/1000: 100%|██████████| 8/8 [00:02<00:00,  3.16it/s, loss=2.93e-5]\n",
            "Epoch 870/1000: 100%|██████████| 8/8 [00:02<00:00,  3.23it/s, loss=0]\n",
            "Epoch 871/1000: 100%|██████████| 8/8 [00:02<00:00,  3.23it/s, loss=0.000947]\n",
            "Epoch 872/1000: 100%|██████████| 8/8 [00:02<00:00,  3.18it/s, loss=1.13e-5]\n",
            "Epoch 873/1000: 100%|██████████| 8/8 [00:02<00:00,  3.29it/s, loss=1.03e-6]\n",
            "Epoch 874/1000: 100%|██████████| 8/8 [00:02<00:00,  3.32it/s, loss=5.96e-9]\n",
            "Epoch 875/1000: 100%|██████████| 8/8 [00:02<00:00,  3.31it/s, loss=0]\n",
            "Epoch 876/1000: 100%|██████████| 8/8 [00:02<00:00,  3.33it/s, loss=4.77e-8]\n",
            "Epoch 877/1000: 100%|██████████| 8/8 [00:02<00:00,  3.33it/s, loss=2.28e-5]\n",
            "Epoch 878/1000: 100%|██████████| 8/8 [00:02<00:00,  3.33it/s, loss=5.96e-9]\n",
            "Epoch 879/1000: 100%|██████████| 8/8 [00:02<00:00,  3.31it/s, loss=0]\n",
            "Epoch 880/1000: 100%|██████████| 8/8 [00:02<00:00,  3.30it/s, loss=0.00846]\n",
            "Epoch 881/1000: 100%|██████████| 8/8 [00:02<00:00,  3.30it/s, loss=0]\n",
            "Epoch 882/1000: 100%|██████████| 8/8 [00:02<00:00,  3.26it/s, loss=0]\n",
            "Epoch 883/1000: 100%|██████████| 8/8 [00:02<00:00,  3.32it/s, loss=4.17e-8]\n",
            "Epoch 884/1000: 100%|██████████| 8/8 [00:02<00:00,  3.25it/s, loss=0]\n",
            "Epoch 885/1000: 100%|██████████| 8/8 [00:02<00:00,  3.30it/s, loss=2.1e-5]\n",
            "Epoch 886/1000: 100%|██████████| 8/8 [00:02<00:00,  3.29it/s, loss=0]\n",
            "Epoch 887/1000: 100%|██████████| 8/8 [00:02<00:00,  3.30it/s, loss=0]\n",
            "Epoch 888/1000: 100%|██████████| 8/8 [00:02<00:00,  3.27it/s, loss=6.26e-7]\n",
            "Epoch 889/1000: 100%|██████████| 8/8 [00:02<00:00,  3.22it/s, loss=3.58e-8]\n",
            "Epoch 890/1000: 100%|██████████| 8/8 [00:02<00:00,  3.27it/s, loss=1.19e-8]\n",
            "Epoch 891/1000: 100%|██████████| 8/8 [00:02<00:00,  3.27it/s, loss=1.85e-7]\n",
            "Epoch 892/1000: 100%|██████████| 8/8 [00:02<00:00,  3.31it/s, loss=1.19e-7]\n",
            "Epoch 893/1000: 100%|██████████| 8/8 [00:02<00:00,  3.24it/s, loss=3.58e-8]\n",
            "Epoch 894/1000: 100%|██████████| 8/8 [00:02<00:00,  3.26it/s, loss=1.25e-7]\n",
            "Epoch 895/1000: 100%|██████████| 8/8 [00:02<00:00,  3.31it/s, loss=1.06e-6]\n",
            "Epoch 896/1000: 100%|██████████| 8/8 [00:02<00:00,  3.28it/s, loss=0]\n",
            "Epoch 897/1000: 100%|██████████| 8/8 [00:02<00:00,  3.30it/s, loss=0]\n",
            "Epoch 898/1000: 100%|██████████| 8/8 [00:02<00:00,  3.29it/s, loss=5.19e-6]\n",
            "Epoch 899/1000: 100%|██████████| 8/8 [00:02<00:00,  3.27it/s, loss=0.000204]\n",
            "Epoch 900/1000: 100%|██████████| 8/8 [00:02<00:00,  3.29it/s, loss=0.0453]\n",
            "Epoch 901/1000: 100%|██████████| 8/8 [00:02<00:00,  3.28it/s, loss=0.00866]\n",
            "Epoch 902/1000: 100%|██████████| 8/8 [00:02<00:00,  3.29it/s, loss=0]\n",
            "Epoch 903/1000: 100%|██████████| 8/8 [00:02<00:00,  3.30it/s, loss=4.97e-5]\n",
            "Epoch 904/1000: 100%|██████████| 8/8 [00:02<00:00,  3.29it/s, loss=2.38e-8]\n",
            "Epoch 905/1000: 100%|██████████| 8/8 [00:02<00:00,  3.27it/s, loss=1.37e-5]\n",
            "Epoch 906/1000: 100%|██████████| 8/8 [00:02<00:00,  3.26it/s, loss=6.82e-5]\n",
            "Epoch 907/1000: 100%|██████████| 8/8 [00:02<00:00,  3.26it/s, loss=4.89e-6]\n",
            "Epoch 908/1000: 100%|██████████| 8/8 [00:02<00:00,  3.29it/s, loss=1.19e-8]\n",
            "Epoch 909/1000: 100%|██████████| 8/8 [00:02<00:00,  3.26it/s, loss=0]\n",
            "Epoch 910/1000: 100%|██████████| 8/8 [00:02<00:00,  3.23it/s, loss=5.96e-9]\n",
            "Epoch 911/1000: 100%|██████████| 8/8 [00:02<00:00,  3.24it/s, loss=0]\n",
            "Epoch 912/1000: 100%|██████████| 8/8 [00:02<00:00,  3.30it/s, loss=0]\n",
            "Epoch 913/1000: 100%|██████████| 8/8 [00:02<00:00,  3.27it/s, loss=1.25e-7]\n",
            "Epoch 914/1000: 100%|██████████| 8/8 [00:02<00:00,  3.24it/s, loss=0.328]\n",
            "Epoch 915/1000: 100%|██████████| 8/8 [00:02<00:00,  3.29it/s, loss=0]\n",
            "Epoch 916/1000: 100%|██████████| 8/8 [00:02<00:00,  3.26it/s, loss=1.63e-5]\n",
            "Epoch 917/1000: 100%|██████████| 8/8 [00:02<00:00,  3.25it/s, loss=2.98e-8]\n",
            "Epoch 918/1000: 100%|██████████| 8/8 [00:02<00:00,  3.30it/s, loss=0]\n",
            "Epoch 919/1000: 100%|██████████| 8/8 [00:02<00:00,  3.22it/s, loss=0.0796]\n",
            "Epoch 920/1000: 100%|██████████| 8/8 [00:02<00:00,  3.26it/s, loss=0]\n",
            "Epoch 921/1000: 100%|██████████| 8/8 [00:02<00:00,  3.25it/s, loss=2.62e-7]\n",
            "Epoch 922/1000: 100%|██████████| 8/8 [00:02<00:00,  3.25it/s, loss=0]\n",
            "Epoch 923/1000: 100%|██████████| 8/8 [00:02<00:00,  3.25it/s, loss=1.79e-8]\n",
            "Epoch 924/1000: 100%|██████████| 8/8 [00:02<00:00,  3.29it/s, loss=0.0321]\n",
            "Epoch 925/1000: 100%|██████████| 8/8 [00:02<00:00,  3.26it/s, loss=0.695]\n",
            "Epoch 926/1000: 100%|██████████| 8/8 [00:02<00:00,  3.27it/s, loss=0]\n",
            "Epoch 927/1000: 100%|██████████| 8/8 [00:02<00:00,  3.28it/s, loss=4.17e-8]\n",
            "Epoch 928/1000: 100%|██████████| 8/8 [00:02<00:00,  3.26it/s, loss=0]\n",
            "Epoch 929/1000: 100%|██████████| 8/8 [00:02<00:00,  3.20it/s, loss=0]\n",
            "Epoch 930/1000: 100%|██████████| 8/8 [00:02<00:00,  3.24it/s, loss=0]\n",
            "Epoch 931/1000: 100%|██████████| 8/8 [00:02<00:00,  3.24it/s, loss=6.44e-7]\n",
            "Epoch 932/1000: 100%|██████████| 8/8 [00:02<00:00,  3.31it/s, loss=8.95e-6]\n",
            "Epoch 933/1000: 100%|██████████| 8/8 [00:02<00:00,  3.24it/s, loss=2.98e-8]\n",
            "Epoch 934/1000: 100%|██████████| 8/8 [00:02<00:00,  3.24it/s, loss=2.96e-6]\n",
            "Epoch 935/1000: 100%|██████████| 8/8 [00:02<00:00,  3.24it/s, loss=0]\n",
            "Epoch 936/1000: 100%|██████████| 8/8 [00:02<00:00,  3.30it/s, loss=0]\n",
            "Epoch 937/1000: 100%|██████████| 8/8 [00:02<00:00,  3.28it/s, loss=6.26e-7]\n",
            "Epoch 938/1000: 100%|██████████| 8/8 [00:02<00:00,  3.25it/s, loss=0]\n",
            "Epoch 939/1000: 100%|██████████| 8/8 [00:02<00:00,  3.26it/s, loss=1.73e-7]\n",
            "Epoch 940/1000: 100%|██████████| 8/8 [00:02<00:00,  3.26it/s, loss=3.22e-7]\n",
            "Epoch 941/1000: 100%|██████████| 8/8 [00:02<00:00,  3.26it/s, loss=0.000244]\n",
            "Epoch 942/1000: 100%|██████████| 8/8 [00:02<00:00,  3.29it/s, loss=1.18e-5]\n",
            "Epoch 943/1000: 100%|██████████| 8/8 [00:02<00:00,  3.29it/s, loss=0]\n",
            "Epoch 944/1000: 100%|██████████| 8/8 [00:02<00:00,  3.29it/s, loss=0]\n",
            "Epoch 945/1000: 100%|██████████| 8/8 [00:02<00:00,  3.29it/s, loss=2.41e-5]\n",
            "Epoch 946/1000: 100%|██████████| 8/8 [00:02<00:00,  3.22it/s, loss=0]\n",
            "Epoch 947/1000: 100%|██████████| 8/8 [00:02<00:00,  3.23it/s, loss=0.0788]\n",
            "Epoch 948/1000: 100%|██████████| 8/8 [00:02<00:00,  3.25it/s, loss=0]\n",
            "Epoch 949/1000: 100%|██████████| 8/8 [00:02<00:00,  3.23it/s, loss=1.31e-7]\n",
            "Epoch 950/1000: 100%|██████████| 8/8 [00:02<00:00,  3.22it/s, loss=3.58e-8]\n",
            "Epoch 951/1000: 100%|██████████| 8/8 [00:02<00:00,  3.22it/s, loss=1.67e-6]\n",
            "Epoch 952/1000: 100%|██████████| 8/8 [00:02<00:00,  3.24it/s, loss=0.0326]\n",
            "Epoch 953/1000: 100%|██████████| 8/8 [00:02<00:00,  3.23it/s, loss=0]\n",
            "Epoch 954/1000: 100%|██████████| 8/8 [00:02<00:00,  3.26it/s, loss=0]\n",
            "Epoch 955/1000: 100%|██████████| 8/8 [00:02<00:00,  3.24it/s, loss=5.96e-9]\n",
            "Epoch 956/1000: 100%|██████████| 8/8 [00:02<00:00,  3.29it/s, loss=1.19e-8]\n",
            "Epoch 957/1000: 100%|██████████| 8/8 [00:02<00:00,  3.32it/s, loss=0]\n",
            "Epoch 958/1000: 100%|██████████| 8/8 [00:02<00:00,  3.24it/s, loss=0]\n",
            "Epoch 959/1000: 100%|██████████| 8/8 [00:02<00:00,  3.26it/s, loss=1.73e-6]\n",
            "Epoch 960/1000: 100%|██████████| 8/8 [00:02<00:00,  3.29it/s, loss=0]\n",
            "Epoch 961/1000: 100%|██████████| 8/8 [00:02<00:00,  3.26it/s, loss=5.96e-8]\n",
            "Epoch 962/1000: 100%|██████████| 8/8 [00:02<00:00,  3.30it/s, loss=0]\n",
            "Epoch 963/1000: 100%|██████████| 8/8 [00:02<00:00,  3.31it/s, loss=9.54e-8]\n",
            "Epoch 964/1000: 100%|██████████| 8/8 [00:02<00:00,  3.28it/s, loss=0]\n",
            "Epoch 965/1000: 100%|██████████| 8/8 [00:02<00:00,  3.27it/s, loss=4.44e-6]\n",
            "Epoch 966/1000: 100%|██████████| 8/8 [00:02<00:00,  3.23it/s, loss=5.96e-9]\n",
            "Epoch 967/1000: 100%|██████████| 8/8 [00:02<00:00,  3.26it/s, loss=1.39e-5]\n",
            "Epoch 968/1000: 100%|██████████| 8/8 [00:02<00:00,  3.25it/s, loss=0.00019]\n",
            "Epoch 969/1000: 100%|██████████| 8/8 [00:02<00:00,  3.20it/s, loss=2.52e-5]\n",
            "Epoch 970/1000: 100%|██████████| 8/8 [00:02<00:00,  3.25it/s, loss=9.42e-7]\n",
            "Epoch 971/1000: 100%|██████████| 8/8 [00:02<00:00,  3.28it/s, loss=0]\n",
            "Epoch 972/1000: 100%|██████████| 8/8 [00:02<00:00,  3.27it/s, loss=1.79e-8]\n",
            "Epoch 973/1000: 100%|██████████| 8/8 [00:02<00:00,  3.27it/s, loss=2.8e-5]\n",
            "Epoch 974/1000: 100%|██████████| 8/8 [00:02<00:00,  3.28it/s, loss=0.000821]\n",
            "Epoch 975/1000: 100%|██████████| 8/8 [00:02<00:00,  3.29it/s, loss=0.00433]\n",
            "Epoch 976/1000: 100%|██████████| 8/8 [00:02<00:00,  3.29it/s, loss=0]\n",
            "Epoch 977/1000: 100%|██████████| 8/8 [00:02<00:00,  3.26it/s, loss=0]\n",
            "Epoch 978/1000: 100%|██████████| 8/8 [00:02<00:00,  3.28it/s, loss=3.46e-7]\n",
            "Epoch 979/1000: 100%|██████████| 8/8 [00:02<00:00,  3.23it/s, loss=3.1e-7]\n",
            "Epoch 980/1000: 100%|██████████| 8/8 [00:02<00:00,  3.31it/s, loss=0]\n",
            "Epoch 981/1000: 100%|██████████| 8/8 [00:02<00:00,  3.25it/s, loss=4.05e-7]\n",
            "Epoch 982/1000: 100%|██████████| 8/8 [00:02<00:00,  3.25it/s, loss=0]\n",
            "Epoch 983/1000: 100%|██████████| 8/8 [00:02<00:00,  3.31it/s, loss=0]\n",
            "Epoch 984/1000: 100%|██████████| 8/8 [00:02<00:00,  3.27it/s, loss=1.19e-8]\n",
            "Epoch 985/1000: 100%|██████████| 8/8 [00:02<00:00,  3.28it/s, loss=8.94e-8]\n",
            "Epoch 986/1000: 100%|██████████| 8/8 [00:02<00:00,  3.29it/s, loss=0.24]\n",
            "Epoch 987/1000: 100%|██████████| 8/8 [00:02<00:00,  3.23it/s, loss=6.45e-6]\n",
            "Epoch 988/1000: 100%|██████████| 8/8 [00:02<00:00,  3.29it/s, loss=1.61e-7]\n",
            "Epoch 989/1000: 100%|██████████| 8/8 [00:02<00:00,  3.29it/s, loss=7.15e-7]\n",
            "Epoch 990/1000: 100%|██████████| 8/8 [00:02<00:00,  3.25it/s, loss=2.35e-6]\n",
            "Epoch 991/1000: 100%|██████████| 8/8 [00:02<00:00,  3.29it/s, loss=0]\n",
            "Epoch 992/1000: 100%|██████████| 8/8 [00:02<00:00,  3.26it/s, loss=4.59e-7]\n",
            "Epoch 993/1000: 100%|██████████| 8/8 [00:02<00:00,  3.16it/s, loss=1.95e-6]\n",
            "Epoch 994/1000:  38%|███▊      | 3/8 [00:01<00:01,  2.84it/s, loss=8.93e-6]"
          ]
        }
      ]
    },
    {
      "cell_type": "markdown",
      "source": [
        "Evaluate the Model"
      ],
      "metadata": {
        "id": "go66cTYLGYiC"
      }
    },
    {
      "cell_type": "code",
      "source": [
        "!pwd"
      ],
      "metadata": {
        "id": "VsAZRzd0CKaW"
      },
      "execution_count": null,
      "outputs": []
    },
    {
      "cell_type": "code",
      "source": [
        "os.makedirs(\"model_dir_transfer_learning\", exist_ok=True)\n",
        "model_file_path=os.path.join(\"model_dir_transfer_learning\", \"CNN_model_AlexNet.pth\")\n",
        "torch.save(model,model_file_path)"
      ],
      "metadata": {
        "id": "xPycV_fHCKdx"
      },
      "execution_count": null,
      "outputs": []
    },
    {
      "cell_type": "code",
      "source": [
        "loaded_model=torch.load(model_file_path)"
      ],
      "metadata": {
        "id": "8VvhL1yQCKh7"
      },
      "execution_count": null,
      "outputs": []
    },
    {
      "cell_type": "code",
      "source": [
        "pred=np.array([])\n",
        "target=np.array([])\n",
        "\n",
        "with torch.no_grad():\n",
        "  for batch, data in enumerate(test_loader):\n",
        "    images=data[0].to(config.DEVICE)\n",
        "    labels=data[1].to(config.DEVICE)\n",
        "\n",
        "    y_pred=model(images)\n",
        "    pred=np.concatenate((pred, torch.argmax(y_pred,1).cpu().numpy()))\n",
        "    target=np.concatenate((target, labels.cpu().numpy()))"
      ],
      "metadata": {
        "id": "boclYU47Bo9s"
      },
      "execution_count": null,
      "outputs": []
    },
    {
      "cell_type": "code",
      "source": [
        "cm=confusion_matrix(target, pred)\n",
        "cm"
      ],
      "metadata": {
        "id": "Cu6-g5m1BpAF"
      },
      "execution_count": null,
      "outputs": []
    },
    {
      "cell_type": "code",
      "source": [
        "plt.figure(figsize=(12,10))\n",
        "sns.heatmap(cm, annot=True, fmt=\"d\", xticklabels=label_map.keys(), yticklabels=label_map.keys(), cbar=False)"
      ],
      "metadata": {
        "id": "-f4ProSCHcai"
      },
      "execution_count": null,
      "outputs": []
    },
    {
      "cell_type": "code",
      "source": [
        "data=next(iter(test_loader))\n",
        "data"
      ],
      "metadata": {
        "id": "UsYWRG0mIGMe"
      },
      "execution_count": null,
      "outputs": []
    },
    {
      "cell_type": "code",
      "source": [
        "len(data)"
      ],
      "metadata": {
        "id": "eXWCkJUMIGP3"
      },
      "execution_count": null,
      "outputs": []
    },
    {
      "cell_type": "code",
      "source": [
        "images, labels=data"
      ],
      "metadata": {
        "id": "MVi4x6hjIGUo"
      },
      "execution_count": null,
      "outputs": []
    },
    {
      "cell_type": "code",
      "source": [
        "images.shape"
      ],
      "metadata": {
        "id": "Y7gaY_hoIiGG"
      },
      "execution_count": null,
      "outputs": []
    },
    {
      "cell_type": "code",
      "source": [
        "labels.shape"
      ],
      "metadata": {
        "id": "DdEo6YzPIiIp"
      },
      "execution_count": null,
      "outputs": []
    },
    {
      "cell_type": "code",
      "source": [
        "img=images[2]"
      ],
      "metadata": {
        "id": "i1-3V5wKImQt"
      },
      "execution_count": null,
      "outputs": []
    },
    {
      "cell_type": "code",
      "source": [
        "img.shape"
      ],
      "metadata": {
        "id": "bPHXcXwgImg9"
      },
      "execution_count": null,
      "outputs": []
    },
    {
      "cell_type": "code",
      "source": [
        "plt.imshow(img.permute(1,2,0))"
      ],
      "metadata": {
        "id": "NNQNLUUbI4EH"
      },
      "execution_count": null,
      "outputs": []
    },
    {
      "cell_type": "code",
      "source": [
        "img.unsqueeze(0).shape"
      ],
      "metadata": {
        "id": "qckCLsynI4HK"
      },
      "execution_count": null,
      "outputs": []
    },
    {
      "cell_type": "code",
      "source": [
        "img_on_gpu=img.unsqueeze(0).to(config.DEVICE)\n",
        "pred_prob=F.softmax(model(img_on_gpu), dim=1)\n",
        "pred_prob"
      ],
      "metadata": {
        "id": "g1jVE_9YIiLi"
      },
      "execution_count": null,
      "outputs": []
    },
    {
      "cell_type": "code",
      "source": [
        "argmax=torch.argmax(pred_prob).item()\n",
        "argmax"
      ],
      "metadata": {
        "id": "4xK-4EdWJLZH"
      },
      "execution_count": null,
      "outputs": []
    },
    {
      "cell_type": "code",
      "source": [
        "inv_level_map={val:key for key,val in label_map.items()}\n",
        "inv_level_map"
      ],
      "metadata": {
        "id": "QdXP0P8TJn8F"
      },
      "execution_count": null,
      "outputs": []
    },
    {
      "cell_type": "code",
      "source": [
        "inv_level_map[argmax],inv_level_map[labels[2].item()]"
      ],
      "metadata": {
        "id": "uS-16TsTJoR4"
      },
      "execution_count": null,
      "outputs": []
    },
    {
      "cell_type": "code",
      "source": [
        ""
      ],
      "metadata": {
        "id": "k2celJRPKLPL"
      },
      "execution_count": null,
      "outputs": []
    },
    {
      "cell_type": "code",
      "source": [
        ""
      ],
      "metadata": {
        "id": "IKF4iPJlKePP"
      },
      "execution_count": null,
      "outputs": []
    },
    {
      "cell_type": "code",
      "source": [
        ""
      ],
      "metadata": {
        "id": "uU2KtlQDKeSX"
      },
      "execution_count": null,
      "outputs": []
    },
    {
      "cell_type": "code",
      "source": [
        "def predict(data, model, label_map, device, idx=0):\n",
        "  images, labels=data\n",
        "  img=images[idx]\n",
        "  label=labels[idx]\n",
        "\n",
        "  plt.imshow(img.permute(1,2,0), cmap=\"gray\")\n",
        "  img_on_gpu=img.unsqueeze(0).to(config.DEVICE)\n",
        "  pred_prob=F.softmax(model(img_on_gpu), dim=1)\n",
        "  argmax=torch.argmax(pred_prob).item()\n",
        "  predicted_label=label_map[argmax]\n",
        "  actual_label=label_map[label.item()]\n",
        "  plt.title(f\"actual: {actual_label} | predicted: {predicted_label}\")\n",
        "  plt.axis(\"off\")\n",
        "  return  predicted_label, actual_label"
      ],
      "metadata": {
        "id": "tlcN5jtMHcdZ"
      },
      "execution_count": null,
      "outputs": []
    },
    {
      "cell_type": "code",
      "source": [
        "predict(data, model, inv_level_map, config.DEVICE, idx=2)"
      ],
      "metadata": {
        "id": "3tHNWKwKHcgD"
      },
      "execution_count": null,
      "outputs": []
    },
    {
      "cell_type": "code",
      "source": [
        ""
      ],
      "metadata": {
        "id": "DaUKRHAoHcip"
      },
      "execution_count": null,
      "outputs": []
    }
  ]
}